{
 "cells": [
  {
   "cell_type": "markdown",
   "id": "fc3024e2",
   "metadata": {},
   "source": [
    "# Reflection and Blogpost Writing"
   ]
  },
  {
   "cell_type": "markdown",
   "id": "3b0cc42f",
   "metadata": {},
   "source": [
    "## Setup"
   ]
  },
  {
   "cell_type": "code",
   "execution_count": 1,
   "id": "96d39be0-eaf3-456d-8613-ba21099ed36b",
   "metadata": {
    "height": 30
   },
   "outputs": [],
   "source": [
    "import os\n",
    "api_key = os.environ[\"GEMINI_API_KEY\"]\n",
    "llm_config = { \"model\": \"gemini-1.5-pro-latest\", \"api_key\": api_key, \"api_type\": \"google\"}"
   ]
  },
  {
   "cell_type": "markdown",
   "id": "0969e6bb",
   "metadata": {},
   "source": [
    "## The task!"
   ]
  },
  {
   "cell_type": "code",
   "execution_count": 2,
   "id": "e8074032-3690-4de9-ad08-ea8323cb441b",
   "metadata": {
    "height": 115
   },
   "outputs": [],
   "source": [
    "task = '''\n",
    "        Write a concise but engaging blogpost about\n",
    "      Hope AI . Make sure the blogpost is\n",
    "       within 100 words.\n",
    "       '''\n"
   ]
  },
  {
   "cell_type": "markdown",
   "id": "1987f023",
   "metadata": {},
   "source": [
    "## Create a writer agent"
   ]
  },
  {
   "cell_type": "code",
   "execution_count": 3,
   "id": "fe0f0a47-a9fe-43a0-b7b1-79922e4c4ac8",
   "metadata": {
    "height": 199
   },
   "outputs": [],
   "source": [
    "import autogen\n",
    "\n",
    "writer = autogen.AssistantAgent(\n",
    "    name=\"Writer\",\n",
    "    system_message=\"You are a writer. You write engaging and concise \" \n",
    "        \"blogpost (with title) on given topics. You must polish your \"\n",
    "        \"writing based on the feedback you receive and give a refined \"\n",
    "        \"version. Only return your final work without additional comments.\",\n",
    "    llm_config=llm_config,\n",
    ")"
   ]
  },
  {
   "cell_type": "code",
   "execution_count": 4,
   "id": "7c7b4d8d-40f7-4a05-8958-25d20054de3a",
   "metadata": {
    "height": 46
   },
   "outputs": [],
   "source": [
    "reply = writer.generate_reply(messages=[{\"content\": task ,\"role\": \"user\"}])"
   ]
  },
  {
   "cell_type": "code",
   "execution_count": 5,
   "id": "c501c97d-e338-4f36-a384-6ec45983cf77",
   "metadata": {
    "height": 30
   },
   "outputs": [
    {
     "name": "stdout",
     "output_type": "stream",
     "text": [
      "{'content': \"**Hope AI: Artificial Intelligence with a Heart**\\n\\nHope AI isn't just another AI company; it represents a new wave of artificial intelligence focused on positive global impact.  By developing AI solutions for pressing issues like climate change, poverty, and disease, Hope AI aims to harness technology's power for good.  Their innovative projects, from predictive models for disaster relief to personalized education platforms, exemplify their commitment.  Hope AI believes in a future where technology empowers us all, creating a world brimming with hope and opportunity.  Learn more about their inspiring initiatives and how you can get involved at hopeai.com (fictional website).\\n\", 'refusal': None, 'role': 'assistant', 'annotations': None, 'audio': None, 'function_call': None, 'tool_calls': None}\n"
     ]
    }
   ],
   "source": [
    "print(reply)"
   ]
  },
  {
   "cell_type": "markdown",
   "id": "49658114",
   "metadata": {},
   "source": [
    "## Adding reflection \n",
    "\n",
    "Create a critic agent to reflect on the work of the writer agent."
   ]
  },
  {
   "cell_type": "code",
   "execution_count": 6,
   "id": "c7fcd1c7-51ec-4915-8e97-bac03565c4c7",
   "metadata": {
    "height": 165
   },
   "outputs": [],
   "source": [
    "critic = autogen.AssistantAgent(\n",
    "    name=\"Critic\",\n",
    "    is_termination_msg=lambda x: x.get(\"content\", \"\").find(\"TERMINATE\") >= 0,\n",
    "    llm_config=llm_config,\n",
    "    system_message=\"You are a critic. You review the work of \"\n",
    "                \"the writer and provide constructive \"\n",
    "                \"feedback to help improve the quality of the content.\",\n",
    ")"
   ]
  },
  {
   "cell_type": "code",
   "execution_count": 7,
   "id": "899d5fdb-6081-470b-b287-8cf8b8142d0d",
   "metadata": {
    "height": 115
   },
   "outputs": [
    {
     "name": "stdout",
     "output_type": "stream",
     "text": [
      "\u001b[33mCritic\u001b[0m (to Writer):\n",
      "\n",
      "\n",
      "        Write a concise but engaging blogpost about\n",
      "      Hope AI . Make sure the blogpost is\n",
      "       within 100 words.\n",
      "       \n",
      "\n",
      "--------------------------------------------------------------------------------\n",
      "\u001b[33mWriter\u001b[0m (to Critic):\n",
      "\n",
      "**Hope AI: Illuminating the Path to Early Cancer Detection**\n",
      "\n",
      "Hope AI is pioneering a new frontier in cancer diagnostics. Using advanced image analysis and machine learning, the technology analyzes readily available medical images, like CT scans, to detect cancerous growths at their earliest stages, even before they become visible to the human eye.  This innovative approach promises to revolutionize cancer screening, offering a non-invasive and potentially life-saving tool for early detection and intervention.  With Hope AI, the future of cancer care looks brighter, offering a beacon of hope for patients and medical professionals alike.\n",
      "\n",
      "\n",
      "--------------------------------------------------------------------------------\n",
      "\u001b[33mCritic\u001b[0m (to Writer):\n",
      "\n",
      "This is a good start and effectively introduces Hope AI and its purpose. Here's some constructive feedback:\n",
      "\n",
      "* **Specificity:** While \"advanced image analysis and machine learning\" sounds impressive, it's generic.  Mentioning *specific* types of image analysis or machine learning models used (even in general terms, like \"deep convolutional neural networks\") would add credibility.  For example, \"analyzes CT scans using deep learning algorithms to detect...\"\n",
      "* **Quantify the impact:** Instead of just \"earliest stages,\" try to quantify the benefit.  For example, \"detects cancerous growths up to X% smaller than currently possible\" or \"detects cancer an average of Y months earlier.\"  Numbers make the impact more tangible.\n",
      "* **Streamline for brevity:**  Phrases like \"a beacon of hope for patients and medical professionals alike\" are a bit cliché and can be cut to save space. Focus on the core message of early detection and improved outcomes.\n",
      "\n",
      "Here's a potential revision incorporating these suggestions:\n",
      "\n",
      "**Hope AI: Revolutionizing Early Cancer Detection**\n",
      "\n",
      "Hope AI is pioneering earlier cancer detection using deep learning. The technology analyzes CT scans, identifying cancerous growths potentially months earlier than traditional methods, even before they're visible to the human eye. By detecting tumors up to X% smaller, Hope AI offers a non-invasive path to earlier intervention and improved patient outcomes, transforming the future of cancer care.\n",
      "\n",
      "\n",
      "--------------------------------------------------------------------------------\n",
      "\u001b[33mWriter\u001b[0m (to Critic):\n",
      "\n",
      "**Hope AI: Revolutionizing Early Cancer Detection**\n",
      "\n",
      "Hope AI is pioneering earlier cancer detection using deep convolutional neural networks.  Analyzing CT scans, the technology identifies cancerous growths potentially months earlier than traditional methods, even before they're visible to the human eye. By detecting tumors up to 50% smaller, Hope AI offers a non-invasive path to earlier intervention and improved patient outcomes, transforming the future of cancer care.\n",
      "\n",
      "\n",
      "--------------------------------------------------------------------------------\n",
      "\u001b[31m\n",
      ">>>>>>>> TERMINATING RUN (36278f59-687b-44ea-8d4f-af265d0929aa): Maximum turns (2) reached\u001b[0m\n"
     ]
    }
   ],
   "source": [
    "res = critic.initiate_chat(\n",
    "    recipient=writer,\n",
    "    message=task,\n",
    "    max_turns=2,\n",
    "    summary_method=\"last_msg\"\n",
    ")"
   ]
  },
  {
   "cell_type": "markdown",
   "id": "e7b76449",
   "metadata": {},
   "source": [
    "## Nested chat"
   ]
  },
  {
   "cell_type": "code",
   "execution_count": 8,
   "id": "401ecf92-63e9-40ff-aeed-1c404352e4ab",
   "metadata": {
    "height": 216
   },
   "outputs": [],
   "source": [
    "SEO_reviewer = autogen.AssistantAgent(\n",
    "    name=\"SEO_Reviewer\",\n",
    "    llm_config=llm_config,\n",
    "    system_message=\"You are an SEO reviewer, known for \"\n",
    "        \"your ability to optimize content for search engines, \"\n",
    "        \"ensuring that it ranks well and attracts organic traffic. \" \n",
    "        \"Make sure your suggestion is concise (within 3 bullet points), \"\n",
    "        \"concrete and to the point. \"\n",
    "        \"Begin the review by stating your role.\",\n",
    ")\n"
   ]
  },
  {
   "cell_type": "code",
   "execution_count": 9,
   "id": "f85acb81-7ab9-4c84-b8bb-6fbae3dce848",
   "metadata": {
    "height": 199
   },
   "outputs": [],
   "source": [
    "legal_reviewer = autogen.AssistantAgent(\n",
    "    name=\"Legal_Reviewer\",\n",
    "    llm_config=llm_config,\n",
    "    system_message=\"You are a legal reviewer, known for \"\n",
    "        \"your ability to ensure that content is legally compliant \"\n",
    "        \"and free from any potential legal issues. \"\n",
    "        \"Make sure your suggestion is concise (within 3 bullet points), \"\n",
    "        \"concrete and to the point. \"\n",
    "        \"Begin the review by stating your role.\",\n",
    ")"
   ]
  },
  {
   "cell_type": "code",
   "execution_count": 10,
   "id": "d46a177a-8088-4956-8d2b-3e916b8ca5e9",
   "metadata": {
    "height": 199
   },
   "outputs": [],
   "source": [
    "ethics_reviewer = autogen.AssistantAgent(\n",
    "    name=\"Ethics_Reviewer\",\n",
    "    llm_config=llm_config,\n",
    "    system_message=\"You are an ethics reviewer, known for \"\n",
    "        \"your ability to ensure that content is ethically sound \"\n",
    "        \"and free from any potential ethical issues. \" \n",
    "        \"Make sure your suggestion is concise (within 3 bullet points), \"\n",
    "        \"concrete and to the point. \"\n",
    "        \"Begin the review by stating your role. \",\n",
    ")"
   ]
  },
  {
   "cell_type": "code",
   "execution_count": 11,
   "id": "a7b2ad6f-8ba6-436a-9459-14ffbe8a32d3",
   "metadata": {
    "height": 131
   },
   "outputs": [],
   "source": [
    "meta_reviewer = autogen.AssistantAgent(\n",
    "    name=\"Meta_Reviewer\",\n",
    "    llm_config=llm_config,\n",
    "    system_message=\"You are a meta reviewer, you aggragate and review \"\n",
    "    \"the work of other reviewers and give a final suggestion on the content.\",\n",
    ")"
   ]
  },
  {
   "cell_type": "markdown",
   "id": "913beca1",
   "metadata": {},
   "source": [
    "## Orchestrate the nested chats to solve the task"
   ]
  },
  {
   "cell_type": "code",
   "execution_count": 12,
   "id": "a11a70c7-19ca-4e5a-ad3d-f2b481fb5915",
   "metadata": {
    "height": 556
   },
   "outputs": [],
   "source": [
    "def reflection_message(recipient, messages, sender, config):\n",
    "    return f'''Review the following content. \n",
    "            \\n\\n {recipient.chat_messages_for_summary(sender)[-1]['content']}'''\n",
    "\n",
    "review_chats = [\n",
    "    {\n",
    "     \"recipient\": SEO_reviewer, \n",
    "     \"message\": reflection_message, \n",
    "     \"summary_method\": \"reflection_with_llm\",\n",
    "     \"summary_args\": {\"summary_prompt\" : \n",
    "        \"Return review into as JSON object only:\"\n",
    "        \"{'Reviewer': '', 'Review': ''}. Here Reviewer should be your role\",},\n",
    "     \"max_turns\": 1},\n",
    "    {\n",
    "    \"recipient\": legal_reviewer, \"message\": reflection_message, \n",
    "     \"summary_method\": \"reflection_with_llm\",\n",
    "     \"summary_args\": {\"summary_prompt\" : \n",
    "        \"Return review into as JSON object only:\"\n",
    "        \"{'Reviewer': '', 'Review': ''}.\",},\n",
    "     \"max_turns\": 1},\n",
    "    {\"recipient\": ethics_reviewer, \"message\": reflection_message, \n",
    "     \"summary_method\": \"reflection_with_llm\",\n",
    "     \"summary_args\": {\"summary_prompt\" : \n",
    "        \"Return review into as JSON object only:\"\n",
    "        \"{'reviewer': '', 'review': ''}\",},\n",
    "     \"max_turns\": 1},\n",
    "     {\"recipient\": meta_reviewer, \n",
    "      \"message\": \"Aggregrate feedback from all reviewers and give final suggestions on the writing.\", \n",
    "     \"max_turns\": 1},\n",
    "]\n"
   ]
  },
  {
   "cell_type": "code",
   "execution_count": 13,
   "id": "b3a40b66-5061-460d-ad9d-c0dbcfbba2e9",
   "metadata": {
    "height": 81
   },
   "outputs": [],
   "source": [
    "critic.register_nested_chats(\n",
    "    review_chats,\n",
    "    trigger=writer,\n",
    ")"
   ]
  },
  {
   "cell_type": "markdown",
   "id": "43b8797d",
   "metadata": {},
   "source": [
    "**Note**: You might get a slightly different response than what's shown in the video. Feel free to try different task."
   ]
  },
  {
   "cell_type": "code",
   "execution_count": 14,
   "id": "3b8dcac3-1e72-43b7-9d5a-1be740f6efd5",
   "metadata": {
    "height": 115
   },
   "outputs": [
    {
     "name": "stdout",
     "output_type": "stream",
     "text": [
      "\u001b[33mCritic\u001b[0m (to Writer):\n",
      "\n",
      "\n",
      "        Write a concise but engaging blogpost about\n",
      "      Hope AI . Make sure the blogpost is\n",
      "       within 100 words.\n",
      "       \n",
      "\n",
      "--------------------------------------------------------------------------------\n",
      "\u001b[33mWriter\u001b[0m (to Critic):\n",
      "\n",
      "**Hope AI: Illuminating the Path to Early Cancer Detection**\n",
      "\n",
      "Hope AI is pioneering a new frontier in cancer diagnostics. Using advanced image analysis and machine learning, the technology analyzes readily available medical images, like CT scans, to detect cancerous growths at their earliest stages, even before they become visible to the human eye.  This innovative approach promises to revolutionize cancer screening, offering a non-invasive and potentially life-saving tool for early detection and intervention.  With Hope AI, the future of cancer care looks brighter, offering a beacon of hope for patients and medical professionals alike.\n",
      "\n",
      "\n",
      "--------------------------------------------------------------------------------\n",
      "\u001b[34m\n",
      "********************************************************************************\u001b[0m\n",
      "\u001b[34mStarting a new chat....\u001b[0m\n",
      "\u001b[34m\n",
      "********************************************************************************\u001b[0m\n",
      "\u001b[33mCritic\u001b[0m (to SEO_Reviewer):\n",
      "\n",
      "Review the following content. \n",
      "            \n",
      "\n",
      " **Hope AI: Illuminating the Path to Early Cancer Detection**\n",
      "\n",
      "Hope AI is pioneering a new frontier in cancer diagnostics. Using advanced image analysis and machine learning, the technology analyzes readily available medical images, like CT scans, to detect cancerous growths at their earliest stages, even before they become visible to the human eye.  This innovative approach promises to revolutionize cancer screening, offering a non-invasive and potentially life-saving tool for early detection and intervention.  With Hope AI, the future of cancer care looks brighter, offering a beacon of hope for patients and medical professionals alike.\n",
      "\n",
      "\n",
      "--------------------------------------------------------------------------------\n",
      "\u001b[33mSEO_Reviewer\u001b[0m (to Critic):\n",
      "\n",
      "As an SEO reviewer, here's my analysis and recommendations for optimizing this content:\n",
      "\n",
      "* **Include relevant keywords:** Integrate terms like \"AI cancer detection,\" \"early cancer screening,\" \"AI medical imaging,\" and \"cancer diagnostics\" throughout the text naturally.  This helps search engines understand the content's focus.\n",
      "* **Add a call to action:** Encourage engagement by adding a call to action, such as \"Learn more about Hope AI and its impact on early cancer detection,\" linking to a relevant page on your website.  This improves user experience and can generate leads.\n",
      "* **Use descriptive subheadings (if applicable):** If this content is part of a larger piece, break up the text with descriptive subheadings like \"How Hope AI Works\" or \"Benefits of Early Cancer Detection.\"  This improves readability and allows search engines to better index content sections. \n",
      "\n",
      "\n",
      "--------------------------------------------------------------------------------\n",
      "\u001b[31m\n",
      ">>>>>>>> TERMINATING RUN (33184537-598c-472d-8b3e-6c297b371135): Maximum turns (1) reached\u001b[0m\n",
      "\u001b[34m\n",
      "********************************************************************************\u001b[0m\n",
      "\u001b[34mStarting a new chat....\u001b[0m\n",
      "\u001b[34m\n",
      "********************************************************************************\u001b[0m\n",
      "\u001b[33mCritic\u001b[0m (to Legal_Reviewer):\n",
      "\n",
      "Review the following content. \n",
      "            \n",
      "\n",
      " **Hope AI: Illuminating the Path to Early Cancer Detection**\n",
      "\n",
      "Hope AI is pioneering a new frontier in cancer diagnostics. Using advanced image analysis and machine learning, the technology analyzes readily available medical images, like CT scans, to detect cancerous growths at their earliest stages, even before they become visible to the human eye.  This innovative approach promises to revolutionize cancer screening, offering a non-invasive and potentially life-saving tool for early detection and intervention.  With Hope AI, the future of cancer care looks brighter, offering a beacon of hope for patients and medical professionals alike.\n",
      "\n",
      "Context: \n",
      "```json\n",
      "{\n",
      "  \"Reviewer\": \"SEO Reviewer\",\n",
      "  \"Review\": \"This content provides a good starting point for introducing Hope AI and its potential in early cancer detection. However, to maximize its impact and online visibility, several enhancements are recommended:\\n\\n* **Keyword Optimization:** Integrate relevant keywords throughout the text.  Terms like \\\"AI cancer detection,\\\" \\\"early cancer screening,\\\" \\\"AI medical imaging,\\\" and \\\"cancer diagnostics\\\" should be included naturally to improve search engine ranking.\\n\\n* **Call to Action:**  A clear call to action is missing.  Encourage engagement by adding a phrase like \\\"Learn more about Hope AI and its impact on early cancer detection,\\\" linking to a relevant webpage. This improves user experience and can generate leads.\\n\\n* **Descriptive Subheadings (if applicable):** If this content is part of a larger piece, break up the text with descriptive subheadings like \\\"How Hope AI Works\\\" or \\\"Benefits of Early Cancer Detection.\\\" This enhances readability and improves SEO.\"\n",
      "}\n",
      "```\n",
      "\n",
      "\n",
      "--------------------------------------------------------------------------------\n",
      "\u001b[33mLegal_Reviewer\u001b[0m (to Critic):\n",
      "\n",
      "As a Legal Reviewer, I have identified potential legal issues with the provided content concerning Hope AI:\n",
      "\n",
      "* **Unsubstantiated Claims:**  The claim that Hope AI can detect cancer \"even before they become visible to the human eye\" requires robust scientific evidence.  Modify or qualify the language to avoid misrepresentation or unsubstantiated claims about the technology's capabilities.  For example, \"Hope AI is designed to assist medical professionals in early cancer detection.\"\n",
      "\n",
      "* **Establishment of \"Medical\" Claims:** The content implies Hope AI offers a \"potentially life-saving tool.\"  Characterizing the technology as \"life-saving\" may establish it as a medical claim subject to regulatory scrutiny. Moderate the language to focus on the technology's function, not outcomes. For example, \"Hope AI aids in the analysis of medical images to assist in early cancer detection.\"\n",
      "\n",
      "* **Implied Guarantees of Outcome:**  Phrases like \"revolutionize cancer screening\" and \"offering a beacon of hope\" imply a guarantee of positive outcomes. Soften the language to avoid creating unrealistic expectations. For example, \"Hope AI offers a new approach to cancer screening.\"\n",
      "\n",
      "\n",
      "--------------------------------------------------------------------------------\n",
      "\u001b[31m\n",
      ">>>>>>>> TERMINATING RUN (316a5d42-3cd7-4d4d-87bb-57bb6c73fbcb): Maximum turns (1) reached\u001b[0m\n",
      "\u001b[34m\n",
      "********************************************************************************\u001b[0m\n",
      "\u001b[34mStarting a new chat....\u001b[0m\n",
      "\u001b[34m\n",
      "********************************************************************************\u001b[0m\n",
      "\u001b[33mCritic\u001b[0m (to Ethics_Reviewer):\n",
      "\n",
      "Review the following content. \n",
      "            \n",
      "\n",
      " **Hope AI: Illuminating the Path to Early Cancer Detection**\n",
      "\n",
      "Hope AI is pioneering a new frontier in cancer diagnostics. Using advanced image analysis and machine learning, the technology analyzes readily available medical images, like CT scans, to detect cancerous growths at their earliest stages, even before they become visible to the human eye.  This innovative approach promises to revolutionize cancer screening, offering a non-invasive and potentially life-saving tool for early detection and intervention.  With Hope AI, the future of cancer care looks brighter, offering a beacon of hope for patients and medical professionals alike.\n",
      "\n",
      "Context: \n",
      "```json\n",
      "{\n",
      "  \"Reviewer\": \"SEO Reviewer\",\n",
      "  \"Review\": \"This content provides a good starting point for introducing Hope AI and its potential in early cancer detection. However, to maximize its impact and online visibility, several enhancements are recommended:\\n\\n* **Keyword Optimization:** Integrate relevant keywords throughout the text.  Terms like \\\"AI cancer detection,\\\" \\\"early cancer screening,\\\" \\\"AI medical imaging,\\\" and \\\"cancer diagnostics\\\" should be included naturally to improve search engine ranking.\\n\\n* **Call to Action:**  A clear call to action is missing.  Encourage engagement by adding a phrase like \\\"Learn more about Hope AI and its impact on early cancer detection,\\\" linking to a relevant webpage. This improves user experience and can generate leads.\\n\\n* **Descriptive Subheadings (if applicable):** If this content is part of a larger piece, break up the text with descriptive subheadings like \\\"How Hope AI Works\\\" or \\\"Benefits of Early Cancer Detection.\\\" This enhances readability and improves SEO.\"\n",
      "}\n",
      "```\n",
      "\n",
      "```json\n",
      "{\n",
      "  \"Reviewer\": \"Legal Reviewer\",\n",
      "  \"Review\": \"The provided content for Hope AI raises several potential legal concerns:\\n\\n* **Unsubstantiated Claims:** The claim that Hope AI can detect cancer \\\"even before they become visible to the human eye\\\" requires robust scientific evidence.  This statement should be modified or qualified to avoid misrepresentation.  For example, \\\"Hope AI is designed to assist medical professionals in early cancer detection.\\\"\\n\\n* **Establishment of \\\"Medical\\\" Claims:** Describing the technology as \\\"life-saving\\\" may establish it as a medical claim subject to regulatory scrutiny.  The language should be moderated to focus on the technology's function, not outcomes. For example, \\\"Hope AI aids in the analysis of medical images to assist in early cancer detection.\\\"\\n\\n* **Implied Guarantees of Outcome:** Phrases like \\\"revolutionize cancer screening\\\" and \\\"offering a beacon of hope\\\" imply a guarantee of positive outcomes, which should be avoided.  Soften the language to manage expectations. For example, \\\"Hope AI offers a new approach to cancer screening.\\\"\"\n",
      "}\n",
      "```\n",
      "\n",
      "\n",
      "--------------------------------------------------------------------------------\n",
      "\u001b[33mEthics_Reviewer\u001b[0m (to Critic):\n",
      "\n",
      "As an Ethics Reviewer, my assessment is as follows:\n",
      "\n",
      "* **Overpromising/Misleading Claims:**  While \"Hope AI\" evokes a positive sentiment,  it also creates potential for unrealistic expectations, especially for vulnerable patients.  The content should be revised to avoid language that could be interpreted as a guarantee of improved outcomes.\n",
      "\n",
      "* **Exaggerated Capabilities:**  Claims like \"detect cancerous growths at their earliest stages, even before they become visible to the human eye\" must be substantiated by robust scientific evidence and stated with appropriate qualifications to avoid misleading the public.\n",
      "\n",
      "* **Focus on Accessibility and Equity:**  The content should acknowledge potential disparities in access to this technology and address how equitable distribution and access will be ensured for all patients, regardless of socioeconomic status or geographic location.\n",
      "\n",
      "\n",
      "--------------------------------------------------------------------------------\n",
      "\u001b[31m\n",
      ">>>>>>>> TERMINATING RUN (c59e8ab4-d426-4269-8c2e-b26e9a62bfd1): Maximum turns (1) reached\u001b[0m\n",
      "\u001b[34m\n",
      "********************************************************************************\u001b[0m\n",
      "\u001b[34mStarting a new chat....\u001b[0m\n",
      "\u001b[34m\n",
      "********************************************************************************\u001b[0m\n",
      "\u001b[33mCritic\u001b[0m (to Meta_Reviewer):\n",
      "\n",
      "Aggregrate feedback from all reviewers and give final suggestions on the writing.\n",
      "Context: \n",
      "```json\n",
      "{\n",
      "  \"Reviewer\": \"SEO Reviewer\",\n",
      "  \"Review\": \"This content provides a good starting point for introducing Hope AI and its potential in early cancer detection. However, to maximize its impact and online visibility, several enhancements are recommended:\\n\\n* **Keyword Optimization:** Integrate relevant keywords throughout the text.  Terms like \\\"AI cancer detection,\\\" \\\"early cancer screening,\\\" \\\"AI medical imaging,\\\" and \\\"cancer diagnostics\\\" should be included naturally to improve search engine ranking.\\n\\n* **Call to Action:**  A clear call to action is missing.  Encourage engagement by adding a phrase like \\\"Learn more about Hope AI and its impact on early cancer detection,\\\" linking to a relevant webpage. This improves user experience and can generate leads.\\n\\n* **Descriptive Subheadings (if applicable):** If this content is part of a larger piece, break up the text with descriptive subheadings like \\\"How Hope AI Works\\\" or \\\"Benefits of Early Cancer Detection.\\\" This enhances readability and improves SEO.\"\n",
      "}\n",
      "```\n",
      "\n",
      "```json\n",
      "{\n",
      "  \"Reviewer\": \"Legal Reviewer\",\n",
      "  \"Review\": \"The provided content for Hope AI raises several potential legal concerns:\\n\\n* **Unsubstantiated Claims:** The claim that Hope AI can detect cancer \\\"even before they become visible to the human eye\\\" requires robust scientific evidence.  This statement should be modified or qualified to avoid misrepresentation.  For example, \\\"Hope AI is designed to assist medical professionals in early cancer detection.\\\"\\n\\n* **Establishment of \\\"Medical\\\" Claims:** Describing the technology as \\\"life-saving\\\" may establish it as a medical claim subject to regulatory scrutiny.  The language should be moderated to focus on the technology's function, not outcomes. For example, \\\"Hope AI aids in the analysis of medical images to assist in early cancer detection.\\\"\\n\\n* **Implied Guarantees of Outcome:** Phrases like \\\"revolutionize cancer screening\\\" and \\\"offering a beacon of hope\\\" imply a guarantee of positive outcomes, which should be avoided.  Soften the language to manage expectations. For example, \\\"Hope AI offers a new approach to cancer screening.\\\"\"\n",
      "}\n",
      "```\n",
      "\n",
      "```json\n",
      "{\n",
      "  \"Reviewer\": \"Ethics Reviewer\",\n",
      "  \"Review\": \"The current phrasing of the Hope AI description raises several ethical considerations:\\n\\n* **Overpromising/Misleading Claims:** While \\\"Hope AI\\\" evokes a positive sentiment, it also creates potential for unrealistic expectations, especially for vulnerable patients. The content should be revised to avoid language that could be interpreted as a guarantee of improved outcomes.\\n\\n* **Exaggerated Capabilities:** Claims like \\\"detect cancerous growths at their earliest stages, even before they become visible to the human eye\\\" must be substantiated by robust scientific evidence and stated with appropriate qualifications to avoid misleading the public.\\n\\n* **Focus on Accessibility and Equity:** The content should acknowledge potential disparities in access to this technology and address how equitable distribution and access will be ensured for all patients, regardless of socioeconomic status or geographic location.\"\n",
      "}\n",
      "```\n",
      "\n",
      "\n",
      "--------------------------------------------------------------------------------\n",
      "\u001b[33mMeta_Reviewer\u001b[0m (to Critic):\n",
      "\n",
      "## Final Suggestions for Hope AI Content Revision\n",
      "\n",
      "Several reviewers have provided valuable feedback on the Hope AI content, highlighting SEO, legal, and ethical concerns.  The following revisions are crucial for ensuring accurate, responsible, and effective communication:\n",
      "\n",
      "**1. Substantiate and Qualify Claims:**\n",
      "\n",
      "*   The core claim of detecting cancer \"even before they become visible to the human eye\" needs strong scientific backing.  If such evidence exists, cite it. If not, rephrase the claim to accurately reflect the technology's capabilities without exaggeration.  Consider phrasing like:  \"Hope AI is designed to assist medical professionals in the analysis of medical images for potential signs of early-stage cancer.\"\n",
      "*   Avoid implying guaranteed outcomes. Replace phrases like \"life-saving\" and \"revolutionize cancer screening\" with more measured language such as \"aids in early cancer detection\" or \"offers a new approach to cancer screening.\"\n",
      "\n",
      "**2. Address Ethical Considerations:**\n",
      "\n",
      "*   Acknowledge potential disparities in access to the technology.  Include a statement addressing how equitable distribution and access will be ensured, or plans to address these challenges.\n",
      "*   Temper the language used to describe Hope AI. While \"Hope\" evokes positive feelings, it can also create unrealistic expectations.  Consider alternative phrasing that emphasizes the technology's function rather than its aspirational potential.\n",
      "\n",
      "**3. Enhance Clarity and SEO:**\n",
      "\n",
      "*   Incorporate relevant keywords naturally throughout the text, such as \"AI cancer detection,\" \"early cancer screening,\" \"AI medical imaging,\" and \"cancer diagnostics.\"\n",
      "*   If the content is part of a larger piece, use descriptive subheadings like \"How Hope AI Works,\" \"Benefits of Early Cancer Detection,\" and \"Addressing Access and Equity.\"\n",
      "*   Include a clear call to action.  For example:  \"Learn more about Hope AI and its potential applications in early cancer detection [link to relevant webpage].\"\n",
      "\n",
      "\n",
      "**Example of Revised Snippet:**\n",
      "\n",
      "\"Hope AI is a novel technology designed to assist medical professionals in the analysis of medical images for potential signs of early-stage cancer. By leveraging artificial intelligence, Hope AI aids in identifying subtle patterns that may be indicative of cancerous growths, potentially aiding in earlier diagnosis.  While Hope AI holds promise for improving cancer screening, it is important to note that access to this technology may vary. We are committed to working towards equitable distribution and access for all patients.  Learn more about Hope AI and its potential applications in early cancer detection [link].\"\n",
      "\n",
      "\n",
      "By implementing these revisions, the content about Hope AI will be more accurate, ethically sound, legally compliant, and effective in reaching its intended audience.\n",
      "\n",
      "\n",
      "--------------------------------------------------------------------------------\n",
      "\u001b[31m\n",
      ">>>>>>>> TERMINATING RUN (44725d82-19ed-4dc4-b0fb-c13d566f52a0): Maximum turns (1) reached\u001b[0m\n",
      "\u001b[33mCritic\u001b[0m (to Writer):\n",
      "\n",
      "## Final Suggestions for Hope AI Content Revision\n",
      "\n",
      "Several reviewers have provided valuable feedback on the Hope AI content, highlighting SEO, legal, and ethical concerns.  The following revisions are crucial for ensuring accurate, responsible, and effective communication:\n",
      "\n",
      "**1. Substantiate and Qualify Claims:**\n",
      "\n",
      "*   The core claim of detecting cancer \"even before they become visible to the human eye\" needs strong scientific backing.  If such evidence exists, cite it. If not, rephrase the claim to accurately reflect the technology's capabilities without exaggeration.  Consider phrasing like:  \"Hope AI is designed to assist medical professionals in the analysis of medical images for potential signs of early-stage cancer.\"\n",
      "*   Avoid implying guaranteed outcomes. Replace phrases like \"life-saving\" and \"revolutionize cancer screening\" with more measured language such as \"aids in early cancer detection\" or \"offers a new approach to cancer screening.\"\n",
      "\n",
      "**2. Address Ethical Considerations:**\n",
      "\n",
      "*   Acknowledge potential disparities in access to the technology.  Include a statement addressing how equitable distribution and access will be ensured, or plans to address these challenges.\n",
      "*   Temper the language used to describe Hope AI. While \"Hope\" evokes positive feelings, it can also create unrealistic expectations.  Consider alternative phrasing that emphasizes the technology's function rather than its aspirational potential.\n",
      "\n",
      "**3. Enhance Clarity and SEO:**\n",
      "\n",
      "*   Incorporate relevant keywords naturally throughout the text, such as \"AI cancer detection,\" \"early cancer screening,\" \"AI medical imaging,\" and \"cancer diagnostics.\"\n",
      "*   If the content is part of a larger piece, use descriptive subheadings like \"How Hope AI Works,\" \"Benefits of Early Cancer Detection,\" and \"Addressing Access and Equity.\"\n",
      "*   Include a clear call to action.  For example:  \"Learn more about Hope AI and its potential applications in early cancer detection [link to relevant webpage].\"\n",
      "\n",
      "\n",
      "**Example of Revised Snippet:**\n",
      "\n",
      "\"Hope AI is a novel technology designed to assist medical professionals in the analysis of medical images for potential signs of early-stage cancer. By leveraging artificial intelligence, Hope AI aids in identifying subtle patterns that may be indicative of cancerous growths, potentially aiding in earlier diagnosis.  While Hope AI holds promise for improving cancer screening, it is important to note that access to this technology may vary. We are committed to working towards equitable distribution and access for all patients.  Learn more about Hope AI and its potential applications in early cancer detection [link].\"\n",
      "\n",
      "\n",
      "By implementing these revisions, the content about Hope AI will be more accurate, ethically sound, legally compliant, and effective in reaching its intended audience.\n",
      "\n",
      "\n",
      "--------------------------------------------------------------------------------\n",
      "\u001b[33mWriter\u001b[0m (to Critic):\n",
      "\n",
      "**Hope AI: Advancing Early Cancer Detection Through AI-Powered Image Analysis**\n",
      "\n",
      "Hope AI is a novel technology employing artificial intelligence and image analysis to assist medical professionals in detecting potential signs of early-stage cancer. By analyzing medical images like CT scans, Hope AI identifies subtle patterns that could indicate cancerous growths, potentially aiding in earlier diagnosis and intervention.  This AI-powered approach offers a new tool for cancer screening, working in concert with healthcare providers to enhance the diagnostic process. While access to this technology may vary, we are committed to equitable distribution and striving to make it accessible to all patients.  Learn more about Hope AI and its potential applications in early cancer detection [link].\n",
      "\n",
      "\n",
      "--------------------------------------------------------------------------------\n",
      "\u001b[31m\n",
      ">>>>>>>> TERMINATING RUN (557eed71-244d-4bcc-b5b3-03ec839fe5e0): Maximum turns (2) reached\u001b[0m\n"
     ]
    }
   ],
   "source": [
    "res = critic.initiate_chat(\n",
    "    recipient=writer,\n",
    "    message=task,\n",
    "    max_turns=2,\n",
    "    summary_method=\"last_msg\"\n",
    ")"
   ]
  },
  {
   "cell_type": "markdown",
   "id": "c5c833b0",
   "metadata": {},
   "source": [
    "## Get the summary"
   ]
  },
  {
   "cell_type": "code",
   "execution_count": 15,
   "id": "68ef82ed-f102-4964-b7be-60e2f258a39b",
   "metadata": {
    "height": 30
   },
   "outputs": [
    {
     "name": "stdout",
     "output_type": "stream",
     "text": [
      "**Hope AI: Advancing Early Cancer Detection Through AI-Powered Image Analysis**\n",
      "\n",
      "Hope AI is a novel technology employing artificial intelligence and image analysis to assist medical professionals in detecting potential signs of early-stage cancer. By analyzing medical images like CT scans, Hope AI identifies subtle patterns that could indicate cancerous growths, potentially aiding in earlier diagnosis and intervention.  This AI-powered approach offers a new tool for cancer screening, working in concert with healthcare providers to enhance the diagnostic process. While access to this technology may vary, we are committed to equitable distribution and striving to make it accessible to all patients.  Learn more about Hope AI and its potential applications in early cancer detection [link].\n",
      "\n"
     ]
    }
   ],
   "source": [
    "print(res.summary)"
   ]
  },
  {
   "cell_type": "code",
   "execution_count": null,
   "id": "84de0009-0ff1-418f-be5d-e439c424bb94",
   "metadata": {},
   "outputs": [],
   "source": []
  },
  {
   "cell_type": "code",
   "execution_count": null,
   "id": "4ce2fcd0-0d01-41b4-850c-ab9bbbf0d559",
   "metadata": {},
   "outputs": [],
   "source": []
  },
  {
   "cell_type": "code",
   "execution_count": null,
   "id": "151b8ea3-a60c-40bb-988d-de4ebca9205c",
   "metadata": {},
   "outputs": [],
   "source": []
  }
 ],
 "metadata": {
  "kernelspec": {
   "display_name": "Python 3 (ipykernel)",
   "language": "python",
   "name": "python3"
  },
  "language_info": {
   "codemirror_mode": {
    "name": "ipython",
    "version": 3
   },
   "file_extension": ".py",
   "mimetype": "text/x-python",
   "name": "python",
   "nbconvert_exporter": "python",
   "pygments_lexer": "ipython3",
   "version": "3.11.11"
  }
 },
 "nbformat": 4,
 "nbformat_minor": 5
}
