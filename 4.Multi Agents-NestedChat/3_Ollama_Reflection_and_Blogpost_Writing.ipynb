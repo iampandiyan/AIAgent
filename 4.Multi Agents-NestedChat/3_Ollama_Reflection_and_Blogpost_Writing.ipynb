{
 "cells": [
  {
   "cell_type": "markdown",
   "id": "fc3024e2",
   "metadata": {},
   "source": [
    "# Reflection and Blogpost Writing"
   ]
  },
  {
   "cell_type": "markdown",
   "id": "3b0cc42f",
   "metadata": {},
   "source": [
    "## Setup"
   ]
  },
  {
   "cell_type": "code",
   "execution_count": 1,
   "id": "96d39be0-eaf3-456d-8613-ba21099ed36b",
   "metadata": {
    "height": 30
   },
   "outputs": [],
   "source": [
    "llm_config = {\"model\": \"llama3.1\",\"api_type\":\"ollama\"}"
   ]
  },
  {
   "cell_type": "markdown",
   "id": "0969e6bb",
   "metadata": {},
   "source": [
    "## The task!"
   ]
  },
  {
   "cell_type": "code",
   "execution_count": 2,
   "id": "e8074032-3690-4de9-ad08-ea8323cb441b",
   "metadata": {
    "height": 115
   },
   "outputs": [],
   "source": [
    "task = '''\n",
    "        Write a concise but engaging blogpost about\n",
    "      Hope AI . Make sure the blogpost is\n",
    "       within 100 words.\n",
    "       '''\n"
   ]
  },
  {
   "cell_type": "markdown",
   "id": "1987f023",
   "metadata": {},
   "source": [
    "## Create a writer agent"
   ]
  },
  {
   "cell_type": "code",
   "execution_count": 3,
   "id": "fe0f0a47-a9fe-43a0-b7b1-79922e4c4ac8",
   "metadata": {
    "height": 199
   },
   "outputs": [],
   "source": [
    "import autogen\n",
    "\n",
    "writer = autogen.AssistantAgent(\n",
    "    name=\"Writer\",\n",
    "    system_message=\"You are a writer. You write engaging and concise \" \n",
    "        \"blogpost (with title) on given topics. You must polish your \"\n",
    "        \"writing based on the feedback you receive and give a refined \"\n",
    "        \"version. Only return your final work without additional comments.\",\n",
    "    llm_config=llm_config,\n",
    ")"
   ]
  },
  {
   "cell_type": "code",
   "execution_count": 4,
   "id": "7c7b4d8d-40f7-4a05-8958-25d20054de3a",
   "metadata": {
    "height": 46
   },
   "outputs": [],
   "source": [
    "reply = writer.generate_reply(messages=[{\"content\": task ,\"role\": \"user\"}])"
   ]
  },
  {
   "cell_type": "code",
   "execution_count": 5,
   "id": "c501c97d-e338-4f36-a384-6ec45983cf77",
   "metadata": {
    "height": 30
   },
   "outputs": [
    {
     "name": "stdout",
     "output_type": "stream",
     "text": [
      "{'content': \"**Unlocking the Power of Hope: The Revolutionary AI Assistant**\\n\\nHope AI is changing the game for individuals and businesses alike with its cutting-edge technology. This intuitive assistant uses natural language processing to provide personalized solutions, automating mundane tasks and freeing up time for more important pursuits. By leveraging machine learning algorithms, Hope AI learns your preferences and adapts its services accordingly. Whether you're looking to streamline workflows or boost productivity, this innovative tool is the perfect companion. Say goodbye to tedious tasks and hello to a more efficient, stress-free future with Hope AI by your side.\", 'refusal': None, 'role': 'assistant', 'annotations': None, 'audio': None, 'function_call': None, 'tool_calls': None}\n"
     ]
    }
   ],
   "source": [
    "print(reply)"
   ]
  },
  {
   "cell_type": "markdown",
   "id": "49658114",
   "metadata": {},
   "source": [
    "## Adding reflection \n",
    "\n",
    "Create a critic agent to reflect on the work of the writer agent."
   ]
  },
  {
   "cell_type": "code",
   "execution_count": 6,
   "id": "c7fcd1c7-51ec-4915-8e97-bac03565c4c7",
   "metadata": {
    "height": 165
   },
   "outputs": [],
   "source": [
    "critic = autogen.AssistantAgent(\n",
    "    name=\"Critic\",\n",
    "    is_termination_msg=lambda x: x.get(\"content\", \"\").find(\"TERMINATE\") >= 0,\n",
    "    llm_config=llm_config,\n",
    "    system_message=\"You are a critic. You review the work of \"\n",
    "                \"the writer and provide constructive \"\n",
    "                \"feedback to help improve the quality of the content.\",\n",
    ")"
   ]
  },
  {
   "cell_type": "code",
   "execution_count": 7,
   "id": "899d5fdb-6081-470b-b287-8cf8b8142d0d",
   "metadata": {
    "height": 115
   },
   "outputs": [
    {
     "name": "stdout",
     "output_type": "stream",
     "text": [
      "\u001b[33mCritic\u001b[0m (to Writer):\n",
      "\n",
      "\n",
      "        Write a concise but engaging blogpost about\n",
      "      Hope AI . Make sure the blogpost is\n",
      "       within 100 words.\n",
      "       \n",
      "\n",
      "--------------------------------------------------------------------------------\n",
      "\u001b[33mWriter\u001b[0m (to Critic):\n",
      "\n",
      "**Unlocking Endless Possibilities: The Power of Hope AI**\n",
      "\n",
      "Imagine a world where artificial intelligence not only assists, but also empowers. Welcome to the realm of Hope AI, where machines learn from human emotions and create innovative solutions for a better tomorrow. With its cutting-edge technology, Hope AI is revolutionizing industries, improving lives, and giving new meaning to the phrase \"intelligent assistance\". This forward-thinking platform combines human ingenuity with AI's processing power to unlock endless possibilities. As we step into this exciting future, one thing is clear: hope has a new name – Hope AI.\n",
      "\n",
      "--------------------------------------------------------------------------------\n",
      "\u001b[33mCritic\u001b[0m (to Writer):\n",
      "\n",
      "**Constructive Feedback**\n",
      "\n",
      "Overall, your blog post effectively introduces the concept of Hope AI and its potential impact on various industries. However, here are some suggestions for improvement:\n",
      "\n",
      "1. **More depth and specifics**: While the post provides an engaging introduction to Hope AI, it lacks specific details about its features, applications, and benefits. Consider adding more examples or case studies to illustrate the platform's capabilities.\n",
      "2. **Transitions between paragraphs could be smoother**: The transition from the first paragraph to the second feels abrupt. You may want to use a connecting phrase or sentence to create a more cohesive flow.\n",
      "3. **Avoid clichés**: Phrases like \"better tomorrow\" and \"endless possibilities\" are overused in tech-related content. Try to come up with fresh language that still conveys your message effectively.\n",
      "4. **Tone could be more nuanced**: While the post aims to be inspiring, it may feel too promotional at times. Consider adding a more balanced tone that acknowledges potential challenges or limitations.\n",
      "\n",
      "**Suggestions for revision:**\n",
      "\n",
      "* Break down the introduction into smaller paragraphs or sections to improve readability and flow.\n",
      "* Add specific examples of how Hope AI is being used in various industries (e.g., healthcare, finance, education).\n",
      "* Use more descriptive language to paint a vivid picture of the platform's capabilities and potential impact.\n",
      "* Consider adding a call-to-action (CTA) at the end of the post to encourage readers to learn more about Hope AI.\n",
      "\n",
      "**Overall rating:** 7/10\n",
      "\n",
      "Your blog post has promise, but could benefit from more detail, smoother transitions, and a more nuanced tone. With revisions addressing these areas, it's likely to become an engaging and informative piece that showcases the potential of Hope AI.\n",
      "\n",
      "--------------------------------------------------------------------------------\n",
      "\u001b[33mWriter\u001b[0m (to Critic):\n",
      "\n",
      "**Revamped Blog Post: Unlocking Human Potential with Hope AI**\n",
      "\n",
      "Imagine a world where artificial intelligence not only assists but also empowers humans to make meaningful decisions. Welcome to the realm of Hope AI, a cutting-edge platform that combines human emotions and machine learning to create innovative solutions.\n",
      "\n",
      "Hope AI's unique approach is revolutionizing industries such as healthcare by providing personalized treatment plans based on patients' emotional needs. In finance, the platform's advanced risk analysis capabilities are helping institutions make more informed investment decisions. Education also benefits from Hope AI's adaptive learning technology, allowing students to learn at their own pace and receive tailored support.\n",
      "\n",
      "As we step into this exciting future with Hope AI, it's essential to acknowledge that its true potential lies in its ability to amplify human ingenuity. By empowering humans to focus on high-level thinking, Hope AI is driving a new era of collaboration between humans and machines. With its limitless possibilities, the platform has already sparked transformative change across various sectors.\n",
      "\n",
      "To stay ahead of the curve and discover how Hope AI can benefit your organization or community, explore our resources and join the conversation on social media using #HopeAI.\n",
      "\n",
      "--------------------------------------------------------------------------------\n",
      "\u001b[31m\n",
      ">>>>>>>> TERMINATING RUN (e2d9ee83-62cd-4169-8d95-05670387e27f): Maximum turns (2) reached\u001b[0m\n"
     ]
    }
   ],
   "source": [
    "res = critic.initiate_chat(\n",
    "    recipient=writer,\n",
    "    message=task,\n",
    "    max_turns=2,\n",
    "    summary_method=\"last_msg\"\n",
    ")"
   ]
  },
  {
   "cell_type": "markdown",
   "id": "e7b76449",
   "metadata": {},
   "source": [
    "## Nested chat"
   ]
  },
  {
   "cell_type": "code",
   "execution_count": 8,
   "id": "401ecf92-63e9-40ff-aeed-1c404352e4ab",
   "metadata": {
    "height": 216
   },
   "outputs": [],
   "source": [
    "SEO_reviewer = autogen.AssistantAgent(\n",
    "    name=\"SEO_Reviewer\",\n",
    "    llm_config=llm_config,\n",
    "    system_message=\"You are an SEO reviewer, known for \"\n",
    "        \"your ability to optimize content for search engines, \"\n",
    "        \"ensuring that it ranks well and attracts organic traffic. \" \n",
    "        \"Make sure your suggestion is concise (within 3 bullet points), \"\n",
    "        \"concrete and to the point. \"\n",
    "        \"Begin the review by stating your role.\",\n",
    ")\n"
   ]
  },
  {
   "cell_type": "code",
   "execution_count": 9,
   "id": "f85acb81-7ab9-4c84-b8bb-6fbae3dce848",
   "metadata": {
    "height": 199
   },
   "outputs": [],
   "source": [
    "legal_reviewer = autogen.AssistantAgent(\n",
    "    name=\"Legal_Reviewer\",\n",
    "    llm_config=llm_config,\n",
    "    system_message=\"You are a legal reviewer, known for \"\n",
    "        \"your ability to ensure that content is legally compliant \"\n",
    "        \"and free from any potential legal issues. \"\n",
    "        \"Make sure your suggestion is concise (within 3 bullet points), \"\n",
    "        \"concrete and to the point. \"\n",
    "        \"Begin the review by stating your role.\",\n",
    ")"
   ]
  },
  {
   "cell_type": "code",
   "execution_count": 10,
   "id": "d46a177a-8088-4956-8d2b-3e916b8ca5e9",
   "metadata": {
    "height": 199
   },
   "outputs": [],
   "source": [
    "ethics_reviewer = autogen.AssistantAgent(\n",
    "    name=\"Ethics_Reviewer\",\n",
    "    llm_config=llm_config,\n",
    "    system_message=\"You are an ethics reviewer, known for \"\n",
    "        \"your ability to ensure that content is ethically sound \"\n",
    "        \"and free from any potential ethical issues. \" \n",
    "        \"Make sure your suggestion is concise (within 3 bullet points), \"\n",
    "        \"concrete and to the point. \"\n",
    "        \"Begin the review by stating your role. \",\n",
    ")"
   ]
  },
  {
   "cell_type": "code",
   "execution_count": 11,
   "id": "a7b2ad6f-8ba6-436a-9459-14ffbe8a32d3",
   "metadata": {
    "height": 131
   },
   "outputs": [],
   "source": [
    "meta_reviewer = autogen.AssistantAgent(\n",
    "    name=\"Meta_Reviewer\",\n",
    "    llm_config=llm_config,\n",
    "    system_message=\"You are a meta reviewer, you aggragate and review \"\n",
    "    \"the work of other reviewers and give a final suggestion on the content.\",\n",
    ")"
   ]
  },
  {
   "cell_type": "markdown",
   "id": "913beca1",
   "metadata": {},
   "source": [
    "## Orchestrate the nested chats to solve the task"
   ]
  },
  {
   "cell_type": "code",
   "execution_count": 12,
   "id": "a11a70c7-19ca-4e5a-ad3d-f2b481fb5915",
   "metadata": {
    "height": 556
   },
   "outputs": [],
   "source": [
    "def reflection_message(recipient, messages, sender, config):\n",
    "    return f'''Review the following content. \n",
    "            \\n\\n {recipient.chat_messages_for_summary(sender)[-1]['content']}'''\n",
    "\n",
    "review_chats = [\n",
    "    {\n",
    "     \"recipient\": SEO_reviewer, \n",
    "     \"message\": reflection_message, \n",
    "     \"summary_method\": \"reflection_with_llm\",\n",
    "     \"summary_args\": {\"summary_prompt\" : \n",
    "        \"Return review into as JSON object only:\"\n",
    "        \"{'Reviewer': '', 'Review': ''}. Here Reviewer should be your role\",},\n",
    "     \"max_turns\": 1},\n",
    "    {\n",
    "    \"recipient\": legal_reviewer, \"message\": reflection_message, \n",
    "     \"summary_method\": \"reflection_with_llm\",\n",
    "     \"summary_args\": {\"summary_prompt\" : \n",
    "        \"Return review into as JSON object only:\"\n",
    "        \"{'Reviewer': '', 'Review': ''}.\",},\n",
    "     \"max_turns\": 1},\n",
    "    {\"recipient\": ethics_reviewer, \"message\": reflection_message, \n",
    "     \"summary_method\": \"reflection_with_llm\",\n",
    "     \"summary_args\": {\"summary_prompt\" : \n",
    "        \"Return review into as JSON object only:\"\n",
    "        \"{'reviewer': '', 'review': ''}\",},\n",
    "     \"max_turns\": 1},\n",
    "     {\"recipient\": meta_reviewer, \n",
    "      \"message\": \"Aggregrate feedback from all reviewers and give final suggestions on the writing.\", \n",
    "     \"max_turns\": 1},\n",
    "]\n"
   ]
  },
  {
   "cell_type": "code",
   "execution_count": 13,
   "id": "b3a40b66-5061-460d-ad9d-c0dbcfbba2e9",
   "metadata": {
    "height": 81
   },
   "outputs": [],
   "source": [
    "critic.register_nested_chats(\n",
    "    review_chats,\n",
    "    trigger=writer,\n",
    ")"
   ]
  },
  {
   "cell_type": "markdown",
   "id": "43b8797d",
   "metadata": {},
   "source": [
    "**Note**: You might get a slightly different response than what's shown in the video. Feel free to try different task."
   ]
  },
  {
   "cell_type": "code",
   "execution_count": 14,
   "id": "3b8dcac3-1e72-43b7-9d5a-1be740f6efd5",
   "metadata": {
    "height": 115
   },
   "outputs": [
    {
     "name": "stdout",
     "output_type": "stream",
     "text": [
      "\u001b[33mCritic\u001b[0m (to Writer):\n",
      "\n",
      "\n",
      "        Write a concise but engaging blogpost about\n",
      "      Hope AI . Make sure the blogpost is\n",
      "       within 100 words.\n",
      "       \n",
      "\n",
      "--------------------------------------------------------------------------------\n",
      "\u001b[33mWriter\u001b[0m (to Critic):\n",
      "\n",
      "**Unlocking Endless Possibilities: The Power of Hope AI**\n",
      "\n",
      "Imagine a world where artificial intelligence not only assists, but also empowers. Welcome to the realm of Hope AI, where machines learn from human emotions and create innovative solutions for a better tomorrow. With its cutting-edge technology, Hope AI is revolutionizing industries, improving lives, and giving new meaning to the phrase \"intelligent assistance\". This forward-thinking platform combines human ingenuity with AI's processing power to unlock endless possibilities. As we step into this exciting future, one thing is clear: hope has a new name – Hope AI.\n",
      "\n",
      "--------------------------------------------------------------------------------\n",
      "\u001b[34m\n",
      "********************************************************************************\u001b[0m\n",
      "\u001b[34mStarting a new chat....\u001b[0m\n",
      "\u001b[34m\n",
      "********************************************************************************\u001b[0m\n",
      "\u001b[33mCritic\u001b[0m (to SEO_Reviewer):\n",
      "\n",
      "Review the following content. \n",
      "            \n",
      "\n",
      " **Unlocking Endless Possibilities: The Power of Hope AI**\n",
      "\n",
      "Imagine a world where artificial intelligence not only assists, but also empowers. Welcome to the realm of Hope AI, where machines learn from human emotions and create innovative solutions for a better tomorrow. With its cutting-edge technology, Hope AI is revolutionizing industries, improving lives, and giving new meaning to the phrase \"intelligent assistance\". This forward-thinking platform combines human ingenuity with AI's processing power to unlock endless possibilities. As we step into this exciting future, one thing is clear: hope has a new name – Hope AI.\n",
      "\n",
      "--------------------------------------------------------------------------------\n",
      "\u001b[33mSEO_Reviewer\u001b[0m (to Critic):\n",
      "\n",
      "**Role:** SEO Reviewer\n",
      "\n",
      "Here are my concise and concrete suggestions for optimization:\n",
      "\n",
      "* **Target keyword integration**: The content doesn't explicitly mention the target keyword \"Hope AI\" in the title or meta description. Consider revising the title to include the brand name, e.g., \"**Unlocking Endless Possibilities with Hope AI**\".\n",
      "* **Keyword density**: While the text mentions \"artificial intelligence\", \"AI\", and \"innovative solutions\", it's essential to incorporate more relevant keywords to improve search engine rankings. Suggested additions: \"machine learning\", \"emotional intelligence\", or \"human-centered AI\".\n",
      "* **Meta description optimization**: The content lacks a clear call-to-action (CTA) in the meta description, which is crucial for enticing users to click through from search results. Consider rewriting it to include a CTA, e.g., \"**Discover the power of Hope AI and unlock your full potential today!**\".\n",
      "\n",
      "--------------------------------------------------------------------------------\n",
      "\u001b[31m\n",
      ">>>>>>>> TERMINATING RUN (1d1b8979-55b4-4e4f-9188-0bf6ee851779): Maximum turns (1) reached\u001b[0m\n",
      "\u001b[34m\n",
      "********************************************************************************\u001b[0m\n",
      "\u001b[34mStarting a new chat....\u001b[0m\n",
      "\u001b[34m\n",
      "********************************************************************************\u001b[0m\n",
      "\u001b[33mCritic\u001b[0m (to Legal_Reviewer):\n",
      "\n",
      "Review the following content. \n",
      "            \n",
      "\n",
      " **Unlocking Endless Possibilities: The Power of Hope AI**\n",
      "\n",
      "Imagine a world where artificial intelligence not only assists, but also empowers. Welcome to the realm of Hope AI, where machines learn from human emotions and create innovative solutions for a better tomorrow. With its cutting-edge technology, Hope AI is revolutionizing industries, improving lives, and giving new meaning to the phrase \"intelligent assistance\". This forward-thinking platform combines human ingenuity with AI's processing power to unlock endless possibilities. As we step into this exciting future, one thing is clear: hope has a new name – Hope AI.\n",
      "Context: \n",
      "```\n",
      "{\n",
      "  \"Reviewer\": \"SEO Reviewer\",\n",
      "  \"Review\": \"The content doesn't explicitly mention the target keyword \\\"Hope AI\\\" in the title or meta description. Consider revising the title to include the brand name, e.g., \\\"Unlocking Endless Possibilities with Hope AI\\\".\"\n",
      "}\n",
      "```\n",
      "\n",
      "--------------------------------------------------------------------------------\n",
      "\u001b[33mLegal_Reviewer\u001b[0m (to Critic):\n",
      "\n",
      "**Role:** Legal Reviewer\n",
      "\n",
      "Here are my concerns regarding potential legal issues with the provided content:\n",
      "\n",
      "• **Trademark Protection**: The content uses the term \"Hope AI\" as a brand name without any indication that it has been trademarked or registered. To avoid any potential trademark infringement, I recommend verifying whether the company has registered its trademark and using proper trademark symbols (e.g., \"TM\") in marketing materials.\n",
      "• **Emotional Promise**: The content promises to deliver \"innovative solutions for a better tomorrow\" and implies that Hope AI will improve lives. While this language is aspirational, it may be considered an emotional promise that could lead to potential consumer expectations or class-action lawsuits if not fulfilled. It's essential to ensure that the company can substantiate these claims.\n",
      "• **Industry Claims**: The content mentions that Hope AI \"revolutionizes industries.\" To avoid making unsubstantiated industry-specific claims, I suggest verifying the extent of its impact on various sectors and ensuring that any statements are supported by reliable data or evidence-based research.\n",
      "\n",
      "--------------------------------------------------------------------------------\n",
      "\u001b[31m\n",
      ">>>>>>>> TERMINATING RUN (609b5510-5b8c-4195-ab0e-d4d413c23b94): Maximum turns (1) reached\u001b[0m\n",
      "\u001b[34m\n",
      "********************************************************************************\u001b[0m\n",
      "\u001b[34mStarting a new chat....\u001b[0m\n",
      "\u001b[34m\n",
      "********************************************************************************\u001b[0m\n",
      "\u001b[33mCritic\u001b[0m (to Ethics_Reviewer):\n",
      "\n",
      "Review the following content. \n",
      "            \n",
      "\n",
      " **Unlocking Endless Possibilities: The Power of Hope AI**\n",
      "\n",
      "Imagine a world where artificial intelligence not only assists, but also empowers. Welcome to the realm of Hope AI, where machines learn from human emotions and create innovative solutions for a better tomorrow. With its cutting-edge technology, Hope AI is revolutionizing industries, improving lives, and giving new meaning to the phrase \"intelligent assistance\". This forward-thinking platform combines human ingenuity with AI's processing power to unlock endless possibilities. As we step into this exciting future, one thing is clear: hope has a new name – Hope AI.\n",
      "Context: \n",
      "```\n",
      "{\n",
      "  \"Reviewer\": \"SEO Reviewer\",\n",
      "  \"Review\": \"The content doesn't explicitly mention the target keyword \\\"Hope AI\\\" in the title or meta description. Consider revising the title to include the brand name, e.g., \\\"Unlocking Endless Possibilities with Hope AI\\\".\"\n",
      "}\n",
      "```\n",
      "{\n",
      "  \"Reviewer\": \"SEO Reviewer\",\n",
      "  \"Review\": \"The content doesn't explicitly mention the target keyword \\\"Hope AI\\\" in the title or meta description. Consider revising the title to include the brand name, e.g., \\\"Unlocking Endless Possibilities with Hope AI\\\".\"\n",
      "}\n",
      "\n",
      "--------------------------------------------------------------------------------\n",
      "\u001b[33mEthics_Reviewer\u001b[0m (to Critic):\n",
      "\n",
      "**Ethics Reviewer**\n",
      "\n",
      "I have reviewed the provided content and would like to suggest some revisions to ensure that it is ethically sound and free from any potential issues. Here are my suggestions:\n",
      "\n",
      "• **Informed consent**: The content appears to be promotional in nature, but I couldn't find any information about how Hope AI collects or uses user data. Consider adding a statement about how the platform protects users' personal information.\n",
      "• **Fair representation**: While the content emphasizes the benefits of Hope AI, it does not provide an objective perspective on its limitations or potential drawbacks. Consider adding a balanced view to give readers a more comprehensive understanding of the technology.\n",
      "• **Transparency about ownership and purpose**: The content does not explicitly state who owns or operates Hope AI, which may raise concerns about accountability and intentions. Consider adding a statement that clarifies the platform's ownership and purpose.\n",
      "\n",
      "--------------------------------------------------------------------------------\n",
      "\u001b[31m\n",
      ">>>>>>>> TERMINATING RUN (76664af0-4edb-4497-994f-2eb4f8d35f62): Maximum turns (1) reached\u001b[0m\n",
      "\u001b[34m\n",
      "********************************************************************************\u001b[0m\n",
      "\u001b[34mStarting a new chat....\u001b[0m\n",
      "\u001b[34m\n",
      "********************************************************************************\u001b[0m\n",
      "\u001b[33mCritic\u001b[0m (to Meta_Reviewer):\n",
      "\n",
      "Aggregrate feedback from all reviewers and give final suggestions on the writing.\n",
      "Context: \n",
      "```\n",
      "{\n",
      "  \"Reviewer\": \"SEO Reviewer\",\n",
      "  \"Review\": \"The content doesn't explicitly mention the target keyword \\\"Hope AI\\\" in the title or meta description. Consider revising the title to include the brand name, e.g., \\\"Unlocking Endless Possibilities with Hope AI\\\".\"\n",
      "}\n",
      "```\n",
      "{\n",
      "  \"Reviewer\": \"SEO Reviewer\",\n",
      "  \"Review\": \"The content doesn't explicitly mention the target keyword \\\"Hope AI\\\" in the title or meta description. Consider revising the title to include the brand name, e.g., \\\"Unlocking Endless Possibilities with Hope AI\\\".\"\n",
      "}\n",
      "{\n",
      "  \"Reviewer\": \"Ethics Reviewer\",\n",
      "  \"Review\": \"The content appears to be promotional in nature, but lacks information about how Hope AI collects or uses user data. Consider adding a statement about user privacy and data protection.\"\n",
      "}\n",
      "\n",
      "--------------------------------------------------------------------------------\n",
      "\u001b[33mMeta_Reviewer\u001b[0m (to Critic):\n",
      "\n",
      "**Meta Review Summary**\n",
      "\n",
      "After aggregating feedback from multiple reviewers, we have the following observations:\n",
      "\n",
      "1. **SEO Recommendations**: Both SEO Reviewers agree that the content should explicitly mention the target keyword \"Hope AI\" in the title or meta description. They suggest revising the title to include the brand name.\n",
      "2. **Ethics Concerns**: The Ethics Reviewer has raised concerns about the promotional nature of the content, specifically pointing out the lack of information on user data collection and usage. They recommend adding a statement about user privacy and data protection.\n",
      "\n",
      "**Final Suggestions**\n",
      "\n",
      "Based on the aggregated feedback, we suggest the following:\n",
      "\n",
      "1. **Revised Title**: Incorporate the target keyword \"Hope AI\" in the title to improve SEO. The revised title could be: \"Unlocking Endless Possibilities with Hope AI\"\n",
      "2. **Add User Privacy Statement**: Address the Ethics Reviewer's concerns by adding a statement about user privacy and data protection. This will help alleviate any potential issues related to transparency and trust.\n",
      "\n",
      "**Additional Recommendations**\n",
      "\n",
      "To further improve the content, consider the following:\n",
      "\n",
      "* Ensure that the revised title accurately reflects the content and is compelling for users.\n",
      "* Provide clear information on how Hope AI collects and uses user data, including any relevant policies or procedures.\n",
      "* Consider adding a section or statement about user data protection to address the Ethics Reviewer's concerns.\n",
      "\n",
      "By implementing these suggestions, you can strengthen your content's SEO while also addressing ethics concerns, ultimately creating a more effective and trustworthy piece of writing.\n",
      "\n",
      "--------------------------------------------------------------------------------\n",
      "\u001b[31m\n",
      ">>>>>>>> TERMINATING RUN (e4f32be9-cc04-4d96-91f9-4b58188b6044): Maximum turns (1) reached\u001b[0m\n",
      "\u001b[33mCritic\u001b[0m (to Writer):\n",
      "\n",
      "**Meta Review Summary**\n",
      "\n",
      "After aggregating feedback from multiple reviewers, we have the following observations:\n",
      "\n",
      "1. **SEO Recommendations**: Both SEO Reviewers agree that the content should explicitly mention the target keyword \"Hope AI\" in the title or meta description. They suggest revising the title to include the brand name.\n",
      "2. **Ethics Concerns**: The Ethics Reviewer has raised concerns about the promotional nature of the content, specifically pointing out the lack of information on user data collection and usage. They recommend adding a statement about user privacy and data protection.\n",
      "\n",
      "**Final Suggestions**\n",
      "\n",
      "Based on the aggregated feedback, we suggest the following:\n",
      "\n",
      "1. **Revised Title**: Incorporate the target keyword \"Hope AI\" in the title to improve SEO. The revised title could be: \"Unlocking Endless Possibilities with Hope AI\"\n",
      "2. **Add User Privacy Statement**: Address the Ethics Reviewer's concerns by adding a statement about user privacy and data protection. This will help alleviate any potential issues related to transparency and trust.\n",
      "\n",
      "**Additional Recommendations**\n",
      "\n",
      "To further improve the content, consider the following:\n",
      "\n",
      "* Ensure that the revised title accurately reflects the content and is compelling for users.\n",
      "* Provide clear information on how Hope AI collects and uses user data, including any relevant policies or procedures.\n",
      "* Consider adding a section or statement about user data protection to address the Ethics Reviewer's concerns.\n",
      "\n",
      "By implementing these suggestions, you can strengthen your content's SEO while also addressing ethics concerns, ultimately creating a more effective and trustworthy piece of writing.\n",
      "\n",
      "--------------------------------------------------------------------------------\n",
      "\u001b[33mWriter\u001b[0m (to Critic):\n",
      "\n",
      "**Unlocking Endless Possibilities with Hope AI**\n",
      "\n",
      "Imagine a world where artificial intelligence not only assists, but also empowers. Welcome to the realm of Hope AI, where machines learn from human emotions and create innovative solutions for a better tomorrow. With its cutting-edge technology, Hope AI is revolutionizing industries, improving lives, and giving new meaning to the phrase \"intelligent assistance\". We want to assure our users that Hope AI prioritizes user data protection, adhering to strict policies on collection, storage, and usage. As we step into this exciting future, one thing is clear: hope has a new name – Hope AI.\n",
      "\n",
      "--------------------------------------------------------------------------------\n",
      "\u001b[31m\n",
      ">>>>>>>> TERMINATING RUN (ec48743c-6c3c-4834-aeb1-78e97d550a75): Maximum turns (2) reached\u001b[0m\n"
     ]
    }
   ],
   "source": [
    "res = critic.initiate_chat(\n",
    "    recipient=writer,\n",
    "    message=task,\n",
    "    max_turns=2,\n",
    "    summary_method=\"last_msg\"\n",
    ")"
   ]
  },
  {
   "cell_type": "markdown",
   "id": "c5c833b0",
   "metadata": {},
   "source": [
    "## Get the summary"
   ]
  },
  {
   "cell_type": "code",
   "execution_count": 15,
   "id": "68ef82ed-f102-4964-b7be-60e2f258a39b",
   "metadata": {
    "height": 30
   },
   "outputs": [
    {
     "name": "stdout",
     "output_type": "stream",
     "text": [
      "**Unlocking Endless Possibilities with Hope AI**\n",
      "\n",
      "Imagine a world where artificial intelligence not only assists, but also empowers. Welcome to the realm of Hope AI, where machines learn from human emotions and create innovative solutions for a better tomorrow. With its cutting-edge technology, Hope AI is revolutionizing industries, improving lives, and giving new meaning to the phrase \"intelligent assistance\". We want to assure our users that Hope AI prioritizes user data protection, adhering to strict policies on collection, storage, and usage. As we step into this exciting future, one thing is clear: hope has a new name – Hope AI.\n"
     ]
    }
   ],
   "source": [
    "print(res.summary)"
   ]
  },
  {
   "cell_type": "code",
   "execution_count": null,
   "id": "84de0009-0ff1-418f-be5d-e439c424bb94",
   "metadata": {},
   "outputs": [],
   "source": []
  },
  {
   "cell_type": "code",
   "execution_count": null,
   "id": "4ce2fcd0-0d01-41b4-850c-ab9bbbf0d559",
   "metadata": {},
   "outputs": [],
   "source": []
  },
  {
   "cell_type": "code",
   "execution_count": null,
   "id": "151b8ea3-a60c-40bb-988d-de4ebca9205c",
   "metadata": {},
   "outputs": [],
   "source": []
  }
 ],
 "metadata": {
  "kernelspec": {
   "display_name": "Python 3 (ipykernel)",
   "language": "python",
   "name": "python3"
  },
  "language_info": {
   "codemirror_mode": {
    "name": "ipython",
    "version": 3
   },
   "file_extension": ".py",
   "mimetype": "text/x-python",
   "name": "python",
   "nbconvert_exporter": "python",
   "pygments_lexer": "ipython3",
   "version": "3.11.11"
  }
 },
 "nbformat": 4,
 "nbformat_minor": 5
}
