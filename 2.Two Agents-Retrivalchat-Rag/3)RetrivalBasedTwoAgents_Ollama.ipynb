{
 "cells": [
  {
   "cell_type": "code",
   "execution_count": null,
   "id": "61a28dda-8044-4e64-bfc0-c04bb6579720",
   "metadata": {},
   "outputs": [],
   "source": [
    "#!pip install sentence_transformers\n",
    "#!pip install ag2[retrievechat]\n",
    "#!pip install pyautogen==0.7.2\n",
    "#https://microsoft.github.io/autogen/0.2/docs/notebooks/agentchat_RetrieveChat/"
   ]
  },
  {
   "cell_type": "markdown",
   "id": "28761e60-bc5c-4321-b30c-f419db29cc9f",
   "metadata": {},
   "source": [
    "# Setting base for Retrive Chat"
   ]
  },
  {
   "cell_type": "code",
   "execution_count": 1,
   "id": "48d23e50-50ac-49c1-8bbf-e2dc0b9275ea",
   "metadata": {},
   "outputs": [],
   "source": [
    "import json\n",
    "import os\n",
    "\n",
    "import chromadb\n",
    "\n",
    "import autogen\n",
    "from autogen import AssistantAgent\n",
    "from autogen.agentchat.contrib.retrieve_user_proxy_agent import RetrieveUserProxyAgent\n",
    "\n",
    "# Accepted file formats for that can be stored in\n",
    "# a vector database instance\n",
    "from autogen.retrieve_utils import TEXT_FORMATS"
   ]
  },
  {
   "cell_type": "code",
   "execution_count": 2,
   "id": "f4901dc7-4ec8-46a6-abb7-40c711a7913e",
   "metadata": {},
   "outputs": [
    {
     "name": "stdout",
     "output_type": "stream",
     "text": [
      "Accepted file formats for `docs_path`:\n",
      "['txt', 'json', 'csv', 'tsv', 'md', 'html', 'htm', 'rtf', 'rst', 'jsonl', 'log', 'xml', 'yaml', 'yml', 'pdf', 'mdx']\n"
     ]
    }
   ],
   "source": [
    "print(\"Accepted file formats for `docs_path`:\")\n",
    "print(TEXT_FORMATS)"
   ]
  },
  {
   "cell_type": "code",
   "execution_count": 12,
   "id": "ab7404f8-8c8c-41c0-b014-3e408a8ddb3a",
   "metadata": {},
   "outputs": [],
   "source": [
    "config_list = [\n",
    "    {\n",
    "        # Let's choose the Meta's Llama 3.1 model (model names must match Ollama exactly)\n",
    "        \"model\": \"llama3.1\",\n",
    "        # We specify the API Type as 'ollama' so it uses the Ollama client class\n",
    "        \"api_type\": \"ollama\",\n",
    "        \"stream\": False,\n",
    "        \"client_host\": \"http://localhost:11434\",\n",
    "    }\n",
    "]"
   ]
  },
  {
   "cell_type": "code",
   "execution_count": null,
   "id": "48d95f70-b592-4ec9-8e97-95fa43db9ac5",
   "metadata": {},
   "outputs": [],
   "source": [
    "#import agentops\n",
    "#agentops.init(\"954ecbcb-9555-470b-a2ad-a6999473648b\")"
   ]
  },
  {
   "cell_type": "code",
   "execution_count": 13,
   "id": "f4d873f8-e0c6-4be0-8430-b6a9fd7c632b",
   "metadata": {},
   "outputs": [],
   "source": [
    "# 1. create an AssistantAgent instance named \"assistant\"\n",
    "assistant = AssistantAgent(\n",
    "    name=\"assistant\",\n",
    "    system_message=\"You are a helpful assistant.\",\n",
    "    llm_config={\n",
    "        \"timeout\": 600,\n",
    "        \"cache_seed\": 42,\n",
    "        \"config_list\": config_list,\n",
    "    },\n",
    ")\n"
   ]
  },
  {
   "cell_type": "code",
   "execution_count": 14,
   "id": "4a104138-10e7-451c-ab49-38dc55cdb747",
   "metadata": {},
   "outputs": [],
   "source": [
    "from autogen.agentchat.contrib.retrieve_user_proxy_agent import RetrieveUserProxyAgent\n",
    "\n",
    "# Extract text from local PDF files\n",
    "pdf_files = [\"ComprehensiveWarranty.pdf\"]\n",
    "#docs_content = [extract_text_from_pdf(file) for file in pdf_files]\n",
    "\n",
    "from autogen.retrieve_utils import TEXT_FORMATS,extract_text_from_pdf\n",
    "docs_content= extract_text_from_pdf(\"ComprehensiveWarranty.pdf\")"
   ]
  },
  {
   "cell_type": "code",
   "execution_count": 15,
   "id": "e876469d-2e23-469e-a030-6d9d2080921a",
   "metadata": {},
   "outputs": [],
   "source": [
    "# Define the RetrieveUserProxyAgent instance\n",
    "ragproxyagent = RetrieveUserProxyAgent(\n",
    "    name=\"ragproxyagent\",\n",
    "    human_input_mode=\"NEVER\",\n",
    "    max_consecutive_auto_reply=3,\n",
    "    retrieve_config={\n",
    "        \"task\": \"code\",\n",
    "        \"docs_path\": [\"autogen-docs/ComprehensiveWarranty.pdf\"],\n",
    "        \"docs_content\": docs_content,  # Provide the extracted content directly\n",
    "        \"chunk_token_size\": 500,\n",
    "        \"model\": \"llama3.1\",\n",
    "        \"vector_db\": \"chroma\",\n",
    "        \"overwrite\": True,\n",
    "        \"get_or_create\": True,\n",
    "    },\n",
    "    code_execution_config=False,\n",
    ")"
   ]
  },
  {
   "cell_type": "markdown",
   "id": "439c9ead-b1aa-4795-9aba-723b20e3d8b2",
   "metadata": {},
   "source": [
    "# Process Starts for Scenario 1 : Generate code based off docstrings w/o human feedback"
   ]
  },
  {
   "cell_type": "code",
   "execution_count": 16,
   "id": "0a9aa104-6999-41f1-8e34-913026e26c58",
   "metadata": {},
   "outputs": [
    {
     "name": "stdout",
     "output_type": "stream",
     "text": [
      "Trying to create collection.\n"
     ]
    },
    {
     "name": "stderr",
     "output_type": "stream",
     "text": [
      "2025-03-22 16:44:11,797 - autogen.agentchat.contrib.retrieve_user_proxy_agent - INFO - Found 3 chunks.\u001b[0m\n",
      "2025-03-22 16:44:11,825 - autogen.agentchat.contrib.vectordb.chromadb - INFO - No content embedding is provided. Will use the VectorDB's embedding function to generate the content embedding.\u001b[0m\n",
      "Number of requested results 20 is greater than number of elements in index 3, updating n_results = 3\n",
      "Model llama3.1 not found. Using cl100k_base encoding.\n"
     ]
    },
    {
     "name": "stdout",
     "output_type": "stream",
     "text": [
      "VectorDB returns doc_ids:  [['470a433c', '59754bba', '6250035b']]\n",
      "\u001b[32mAdding content of doc 470a433c to context.\u001b[0m\n"
     ]
    },
    {
     "name": "stderr",
     "output_type": "stream",
     "text": [
      "Model llama3.1 not found. Using cl100k_base encoding.\n"
     ]
    },
    {
     "name": "stdout",
     "output_type": "stream",
     "text": [
      "\u001b[32mAdding content of doc 59754bba to context.\u001b[0m\n"
     ]
    },
    {
     "name": "stderr",
     "output_type": "stream",
     "text": [
      "Model llama3.1 not found. Using cl100k_base encoding.\n"
     ]
    },
    {
     "name": "stdout",
     "output_type": "stream",
     "text": [
      "\u001b[32mAdding content of doc 6250035b to context.\u001b[0m\n",
      "\u001b[33mragproxyagent\u001b[0m (to assistant):\n",
      "\n",
      "You're a retrieve augmented coding assistant. You answer user's questions based on your own knowledge and the\n",
      "context provided by the user.\n",
      "If you can't answer the question with or without the current context, you should reply exactly `UPDATE CONTEXT`.\n",
      "For code generation, you must obey the following rules:\n",
      "Rule 1. You MUST NOT install any packages because all the packages needed are already installed.\n",
      "Rule 2. You must follow the formats below to write your code:\n",
      "```language\n",
      "# your code\n",
      "```\n",
      "\n",
      "User's question is: Write a python code to check if warantee is covered or not. input will be year of purchase\n",
      "\n",
      "Context is:  \n",
      "• Unit must be purchased through authorized dealer of Godrej Appliances \n",
      "• Unit must preferably be installed by Godrej Appliances or its authorized service provider. \n",
      "• During the standard 1st year warranty period, the customer is entitled to 2 preventive \n",
      "maintenance services free of charge.  \n",
      "• From second year onwards it is advisable that the customer should get the air \n",
      "conditioner regularly serviced through an authorized Godrej service provider for proper \n",
      "functioning.  \n",
      "• Installation and preventive service by Godrej Appliances authorized service provider is \n",
      "mandatory for anti-leak split AC series. \n",
      "• The special warranty shall not be in any case extended towards any monetary \n",
      "compensation whatsoever or return or replacement of the product  \n",
      "• In the rare event where part needed for the air conditioner is not available or if the \n",
      "machine can’t be repaired, company may, at its discretion, offer depreciation policy to \n",
      "consumer. \n",
      "• Godrej Appliances reserves the right, at any time, without prior notice, without liability, \n",
      "and without assigning any reason whatsoever, to add / alter / modify / change or vary any \n",
      "/ all the offer terms \n",
      " \n",
      " \n",
      "• Exclusions:  \n",
      "o The extended warranty offer is not applicable for institutional sale or bulk orders.   \n",
      "Internal \n",
      "o The extended warranty offer is not applicable for institutions or commercial \n",
      "places which are being governed by specific agreements with Godrej & Boyce \n",
      "Mfg. Co. Ltd. \n",
      "o The extended warranty offer is not applicable for sale done through marketplace. \n",
      "o Installation done outside India \n",
      "o Unit installed at the abnormal condition, with improper electrical wirings, \n",
      "voltage fluctuations, external conditions and improper use. \n",
      "o Any defects / damages arising by accidents / alterations / misuse / physical \n",
      "abuse / neglect / use of spurious components / fire / flood / earthquake and/or \n",
      "any other act of God / natural calamities or shifted out of India are excluded. \n",
      "o Plastic parts are not covered.  \n",
      "o Defects / damages resulting from force majeure situations, and defects arising \n",
      "other than manufacturing defects / damages are not covered under extended \n",
      "warranty.  \n",
      " \n",
      " \n",
      "• For quicker resolution the customer should preferably register for authorized installation \n",
      "request through the process below within 7 days of purchase: \n",
      " \n",
      "Internal \n",
      " \n",
      "5 YEAR COMPREHENSIVE AIR CONDITIONER WARRANTY OFFER \n",
      " \n",
      "Godrej & Boyce Mfg. Co. Ltd. (Godrej Appliances) hereby offers the following extended \n",
      "warranty to the original domestic purchaser of Godrej air conditioners commencing from the \n",
      "date of purchase of product by customer, applicable on installations within India.  \n",
      "The air conditioner shall be repaired in case of any manufacturing defect related to product or \n",
      "its working with the company having the sole discretion in determining the cause of defect. \n",
      "The air conditioner shall have 5-year extended warranty (1 Year standard warranty + 4 Year \n",
      "extended warranty) on split inverter / fix speed split air conditioners (3 star, 4 star & 5 star as per \n",
      "the latest table change effective July 2022) with the below coverage. \n",
      "Coverage: Labor and all functional parts (compressor, Inverter controller drive, Remote, Indoor \n",
      "PCB, Fan Motors, Heat Exchange coils and Gas Charging)  \n",
      "The extended warranty is applicable on the duration of purchase is from 1st September 2024 \n",
      "onwards (until withdrawn at the sole discretion of the company) for individual and retail \n",
      "customers only, subject to fulfillment of ensuing conditions at the time of purchase and \n",
      "installation of air conditioner.  \n",
      "The air conditioner will have extended warranty on functional parts from the date of installation, \n",
      "subject to the following conditions:  \n",
      "o Call on 1800-209-5511 \n",
      "o Online registration on website (www.godrejsmartcare.com) \n",
      "o Whatsapp: 9321665511 \n",
      " \n",
      " \n",
      " \n",
      " \n",
      "Godrej & Boyce Mfg. Co. Ltd. – Appliances Division, Plant 11, \n",
      "Pirojshanagar, Vikhroli West, Mumbai  400079\n",
      "\n",
      "\n",
      "\n",
      "--------------------------------------------------------------------------------\n",
      "\u001b[33massistant\u001b[0m (to ragproxyagent):\n",
      "\n",
      "Based on the provided context, I will write a Python code to check if warranty is covered or not based on the year of purchase.\n",
      "\n",
      "```python\n",
      "def check_warranty(year_of_purchase):\n",
      "    # Define start and end years for extended warranty offer\n",
      "    start_year = 2024\n",
      "    end_year = 2029\n",
      "\n",
      "    # Check if purchase year falls within extended warranty period\n",
      "    if start_year <= year_of_purchase <= end_year:\n",
      "        return \"Warranty is covered\"\n",
      "    else:\n",
      "        return \"Warranty not covered\"\n",
      "\n",
      "# Test the function with a sample year of purchase\n",
      "year_of_purchase = int(input(\"Enter year of purchase: \"))\n",
      "print(check_warranty(year_of_purchase))\n",
      "```\n",
      "\n",
      "This code defines a function `check_warranty` that takes the year of purchase as input and returns a message indicating whether warranty is covered or not. The function checks if the year of purchase falls within the extended warranty period (1st September 2024 onwards until withdrawn at the sole discretion of the company).\n",
      "\n",
      "--------------------------------------------------------------------------------\n",
      "\u001b[33mragproxyagent\u001b[0m (to assistant):\n",
      "\n",
      "\n",
      "\n",
      "--------------------------------------------------------------------------------\n",
      "\u001b[33massistant\u001b[0m (to ragproxyagent):\n",
      "\n",
      "UPDATE CONTEXT\n",
      "\n",
      "It seems that I need more information about the specific requirements and conditions for checking the warranty coverage, such as:\n",
      "\n",
      "* What are the exact dates for the standard 1-year warranty period?\n",
      "* How does the preventive maintenance service impact the warranty coverage?\n",
      "* Are there any specific conditions or exclusions mentioned in the context that should be considered when determining warranty coverage?\n",
      "\n",
      "Please provide additional context or clarify which specific aspects of the warranty offer you would like me to focus on.\n",
      "\n",
      "--------------------------------------------------------------------------------\n",
      "\u001b[32mUpdating context and resetting conversation.\u001b[0m\n"
     ]
    },
    {
     "name": "stderr",
     "output_type": "stream",
     "text": [
      "Number of requested results 60 is greater than number of elements in index 3, updating n_results = 3\n"
     ]
    },
    {
     "name": "stdout",
     "output_type": "stream",
     "text": [
      "VectorDB returns doc_ids:  [['470a433c', '59754bba', '6250035b']]\n",
      "\u001b[32mNo more context, will terminate.\u001b[0m\n",
      "\u001b[33mragproxyagent\u001b[0m (to assistant):\n",
      "\n",
      "TERMINATE\n",
      "\n",
      "--------------------------------------------------------------------------------\n",
      "\u001b[31m\n",
      ">>>>>>>> TERMINATING RUN (c85789b0-8586-4638-bea1-2c92d11fab3f): Termination message condition on agent 'assistant' met\u001b[0m\n"
     ]
    }
   ],
   "source": [
    "# reset the assistant. Always reset the assistant before starting a new conversation.\n",
    "assistant.reset()\n",
    "\n",
    "qa_problem = \"Write a python code to check if warantee is covered or not. input will be year of purchase\"\n",
    "chat_result = ragproxyagent.initiate_chat(assistant, message=ragproxyagent.message_generator, problem=qa_problem)\n",
    "#agentops.end_session(\"Success\")"
   ]
  },
  {
   "cell_type": "code",
   "execution_count": null,
   "id": "1798e937-acfa-4f65-9b51-850c4e85fb3a",
   "metadata": {},
   "outputs": [],
   "source": [
    "#agentops.end_session(\"Success\")"
   ]
  },
  {
   "cell_type": "markdown",
   "id": "f1599687-6f8a-4a67-90aa-b1063581075d",
   "metadata": {},
   "source": [
    "# Process Starts for Scenario 2 : Answer a question based off docstrings w/o human feedback"
   ]
  },
  {
   "cell_type": "code",
   "execution_count": null,
   "id": "bc1c31a4-ef48-4aa1-803a-2bf7a98665ae",
   "metadata": {},
   "outputs": [],
   "source": []
  },
  {
   "cell_type": "code",
   "execution_count": null,
   "id": "5c5a1b84-36e1-4905-b4bf-7253052ad01d",
   "metadata": {},
   "outputs": [],
   "source": []
  },
  {
   "cell_type": "code",
   "execution_count": 17,
   "id": "df4068e1-4ae6-48d8-a146-a2580646c679",
   "metadata": {},
   "outputs": [
    {
     "name": "stderr",
     "output_type": "stream",
     "text": [
      "Number of requested results 20 is greater than number of elements in index 3, updating n_results = 3\n",
      "Model llama3.1 not found. Using cl100k_base encoding.\n"
     ]
    },
    {
     "name": "stdout",
     "output_type": "stream",
     "text": [
      "VectorDB returns doc_ids:  [['59754bba', '470a433c', '6250035b']]\n",
      "\u001b[32mAdding content of doc 59754bba to context.\u001b[0m\n"
     ]
    },
    {
     "name": "stderr",
     "output_type": "stream",
     "text": [
      "Model llama3.1 not found. Using cl100k_base encoding.\n"
     ]
    },
    {
     "name": "stdout",
     "output_type": "stream",
     "text": [
      "\u001b[32mAdding content of doc 470a433c to context.\u001b[0m\n"
     ]
    },
    {
     "name": "stderr",
     "output_type": "stream",
     "text": [
      "Model llama3.1 not found. Using cl100k_base encoding.\n"
     ]
    },
    {
     "name": "stdout",
     "output_type": "stream",
     "text": [
      "\u001b[32mAdding content of doc 6250035b to context.\u001b[0m\n",
      "\u001b[33mragproxyagent\u001b[0m (to assistant):\n",
      "\n",
      "You're a retrieve augmented coding assistant. You answer user's questions based on your own knowledge and the\n",
      "context provided by the user.\n",
      "If you can't answer the question with or without the current context, you should reply exactly `UPDATE CONTEXT`.\n",
      "For code generation, you must obey the following rules:\n",
      "Rule 1. You MUST NOT install any packages because all the packages needed are already installed.\n",
      "Rule 2. You must follow the formats below to write your code:\n",
      "```language\n",
      "# your code\n",
      "```\n",
      "\n",
      "User's question is: Is 5 year warantee applicable if I purchased the AC on January 2023\n",
      "\n",
      "Context is:  \n",
      "Internal \n",
      " \n",
      "5 YEAR COMPREHENSIVE AIR CONDITIONER WARRANTY OFFER \n",
      " \n",
      "Godrej & Boyce Mfg. Co. Ltd. (Godrej Appliances) hereby offers the following extended \n",
      "warranty to the original domestic purchaser of Godrej air conditioners commencing from the \n",
      "date of purchase of product by customer, applicable on installations within India.  \n",
      "The air conditioner shall be repaired in case of any manufacturing defect related to product or \n",
      "its working with the company having the sole discretion in determining the cause of defect. \n",
      "The air conditioner shall have 5-year extended warranty (1 Year standard warranty + 4 Year \n",
      "extended warranty) on split inverter / fix speed split air conditioners (3 star, 4 star & 5 star as per \n",
      "the latest table change effective July 2022) with the below coverage. \n",
      "Coverage: Labor and all functional parts (compressor, Inverter controller drive, Remote, Indoor \n",
      "PCB, Fan Motors, Heat Exchange coils and Gas Charging)  \n",
      "The extended warranty is applicable on the duration of purchase is from 1st September 2024 \n",
      "onwards (until withdrawn at the sole discretion of the company) for individual and retail \n",
      "customers only, subject to fulfillment of ensuing conditions at the time of purchase and \n",
      "installation of air conditioner.  \n",
      "The air conditioner will have extended warranty on functional parts from the date of installation, \n",
      "subject to the following conditions:  \n",
      " \n",
      "• Unit must be purchased through authorized dealer of Godrej Appliances \n",
      "• Unit must preferably be installed by Godrej Appliances or its authorized service provider. \n",
      "• During the standard 1st year warranty period, the customer is entitled to 2 preventive \n",
      "maintenance services free of charge.  \n",
      "• From second year onwards it is advisable that the customer should get the air \n",
      "conditioner regularly serviced through an authorized Godrej service provider for proper \n",
      "functioning.  \n",
      "• Installation and preventive service by Godrej Appliances authorized service provider is \n",
      "mandatory for anti-leak split AC series. \n",
      "• The special warranty shall not be in any case extended towards any monetary \n",
      "compensation whatsoever or return or replacement of the product  \n",
      "• In the rare event where part needed for the air conditioner is not available or if the \n",
      "machine can’t be repaired, company may, at its discretion, offer depreciation policy to \n",
      "consumer. \n",
      "• Godrej Appliances reserves the right, at any time, without prior notice, without liability, \n",
      "and without assigning any reason whatsoever, to add / alter / modify / change or vary any \n",
      "/ all the offer terms \n",
      " \n",
      " \n",
      "• Exclusions:  \n",
      "o The extended warranty offer is not applicable for institutional sale or bulk orders.   \n",
      "Internal \n",
      "o The extended warranty offer is not applicable for institutions or commercial \n",
      "places which are being governed by specific agreements with Godrej & Boyce \n",
      "Mfg. Co. Ltd. \n",
      "o The extended warranty offer is not applicable for sale done through marketplace. \n",
      "o Installation done outside India \n",
      "o Unit installed at the abnormal condition, with improper electrical wirings, \n",
      "voltage fluctuations, external conditions and improper use. \n",
      "o Any defects / damages arising by accidents / alterations / misuse / physical \n",
      "abuse / neglect / use of spurious components / fire / flood / earthquake and/or \n",
      "any other act of God / natural calamities or shifted out of India are excluded. \n",
      "o Plastic parts are not covered.  \n",
      "o Defects / damages resulting from force majeure situations, and defects arising \n",
      "other than manufacturing defects / damages are not covered under extended \n",
      "warranty.  \n",
      " \n",
      " \n",
      "• For quicker resolution the customer should preferably register for authorized installation \n",
      "request through the process below within 7 days of purchase: \n",
      "o Call on 1800-209-5511 \n",
      "o Online registration on website (www.godrejsmartcare.com) \n",
      "o Whatsapp: 9321665511 \n",
      " \n",
      " \n",
      " \n",
      " \n",
      "Godrej & Boyce Mfg. Co. Ltd. – Appliances Division, Plant 11, \n",
      "Pirojshanagar, Vikhroli West, Mumbai  400079\n",
      "\n",
      "\n",
      "\n",
      "--------------------------------------------------------------------------------\n",
      "\u001b[33massistant\u001b[0m (to ragproxyagent):\n",
      "\n",
      "The warranty offer specifies that the extended warranty is applicable from September 1st, 2024, onwards for individual and retail customers only. Since you purchased the AC in January 2023, it does not meet this condition.\n",
      "\n",
      "However, there's a specific condition mentioned that may apply to your situation: \"The air conditioner shall have 5-year extended warranty (1 Year standard warranty + 4 Year extended warranty) on split inverter / fix speed split air conditioners (3 star, 4 star & 5 star as per the latest table change effective July 2022)\".\n",
      "\n",
      "--------------------------------------------------------------------------------\n",
      "\u001b[31m\n",
      ">>>>>>>> TERMINATING RUN (32fd1ce5-3d04-4999-8d50-901711bf5355): Termination message condition on agent 'ragproxyagent' met\u001b[0m\n"
     ]
    }
   ],
   "source": [
    "# reset the assistant. Always reset the assistant before starting a new conversation.\n",
    "assistant.reset()\n",
    "\n",
    "ragproxyagent.task=\"qa\"\n",
    "qa_problem = \"Is 5 year warantee applicable if I purchased the AC on January 2023\"\n",
    "chat_result = ragproxyagent.initiate_chat(assistant, message=ragproxyagent.message_generator, problem=qa_problem)"
   ]
  },
  {
   "cell_type": "markdown",
   "id": "a2c9c268-6f5a-4385-9147-07529c15dfa6",
   "metadata": {},
   "source": [
    "# Process Starts for Scenario 3 : Generate code based off docstrings w/ human feedback"
   ]
  },
  {
   "cell_type": "code",
   "execution_count": 18,
   "id": "758803b2-8cb4-4dab-9803-0bdcadd14eb2",
   "metadata": {},
   "outputs": [
    {
     "name": "stderr",
     "output_type": "stream",
     "text": [
      "Number of requested results 20 is greater than number of elements in index 3, updating n_results = 3\n",
      "Model llama3.1 not found. Using cl100k_base encoding.\n"
     ]
    },
    {
     "name": "stdout",
     "output_type": "stream",
     "text": [
      "VectorDB returns doc_ids:  [['470a433c', '59754bba', '6250035b']]\n",
      "\u001b[32mAdding content of doc 470a433c to context.\u001b[0m\n"
     ]
    },
    {
     "name": "stderr",
     "output_type": "stream",
     "text": [
      "Model llama3.1 not found. Using cl100k_base encoding.\n"
     ]
    },
    {
     "name": "stdout",
     "output_type": "stream",
     "text": [
      "\u001b[32mAdding content of doc 59754bba to context.\u001b[0m\n"
     ]
    },
    {
     "name": "stderr",
     "output_type": "stream",
     "text": [
      "Model llama3.1 not found. Using cl100k_base encoding.\n"
     ]
    },
    {
     "name": "stdout",
     "output_type": "stream",
     "text": [
      "\u001b[32mAdding content of doc 6250035b to context.\u001b[0m\n",
      "\u001b[33mragproxyagent\u001b[0m (to assistant):\n",
      "\n",
      "You're a retrieve augmented coding assistant. You answer user's questions based on your own knowledge and the\n",
      "context provided by the user.\n",
      "If you can't answer the question with or without the current context, you should reply exactly `UPDATE CONTEXT`.\n",
      "For code generation, you must obey the following rules:\n",
      "Rule 1. You MUST NOT install any packages because all the packages needed are already installed.\n",
      "Rule 2. You must follow the formats below to write your code:\n",
      "```language\n",
      "# your code\n",
      "```\n",
      "\n",
      "User's question is: Write a python code to check if warantee is covered or not. input will be year of purchase\n",
      "\n",
      "Context is:  \n",
      "• Unit must be purchased through authorized dealer of Godrej Appliances \n",
      "• Unit must preferably be installed by Godrej Appliances or its authorized service provider. \n",
      "• During the standard 1st year warranty period, the customer is entitled to 2 preventive \n",
      "maintenance services free of charge.  \n",
      "• From second year onwards it is advisable that the customer should get the air \n",
      "conditioner regularly serviced through an authorized Godrej service provider for proper \n",
      "functioning.  \n",
      "• Installation and preventive service by Godrej Appliances authorized service provider is \n",
      "mandatory for anti-leak split AC series. \n",
      "• The special warranty shall not be in any case extended towards any monetary \n",
      "compensation whatsoever or return or replacement of the product  \n",
      "• In the rare event where part needed for the air conditioner is not available or if the \n",
      "machine can’t be repaired, company may, at its discretion, offer depreciation policy to \n",
      "consumer. \n",
      "• Godrej Appliances reserves the right, at any time, without prior notice, without liability, \n",
      "and without assigning any reason whatsoever, to add / alter / modify / change or vary any \n",
      "/ all the offer terms \n",
      " \n",
      " \n",
      "• Exclusions:  \n",
      "o The extended warranty offer is not applicable for institutional sale or bulk orders.   \n",
      "Internal \n",
      "o The extended warranty offer is not applicable for institutions or commercial \n",
      "places which are being governed by specific agreements with Godrej & Boyce \n",
      "Mfg. Co. Ltd. \n",
      "o The extended warranty offer is not applicable for sale done through marketplace. \n",
      "o Installation done outside India \n",
      "o Unit installed at the abnormal condition, with improper electrical wirings, \n",
      "voltage fluctuations, external conditions and improper use. \n",
      "o Any defects / damages arising by accidents / alterations / misuse / physical \n",
      "abuse / neglect / use of spurious components / fire / flood / earthquake and/or \n",
      "any other act of God / natural calamities or shifted out of India are excluded. \n",
      "o Plastic parts are not covered.  \n",
      "o Defects / damages resulting from force majeure situations, and defects arising \n",
      "other than manufacturing defects / damages are not covered under extended \n",
      "warranty.  \n",
      " \n",
      " \n",
      "• For quicker resolution the customer should preferably register for authorized installation \n",
      "request through the process below within 7 days of purchase: \n",
      " \n",
      "Internal \n",
      " \n",
      "5 YEAR COMPREHENSIVE AIR CONDITIONER WARRANTY OFFER \n",
      " \n",
      "Godrej & Boyce Mfg. Co. Ltd. (Godrej Appliances) hereby offers the following extended \n",
      "warranty to the original domestic purchaser of Godrej air conditioners commencing from the \n",
      "date of purchase of product by customer, applicable on installations within India.  \n",
      "The air conditioner shall be repaired in case of any manufacturing defect related to product or \n",
      "its working with the company having the sole discretion in determining the cause of defect. \n",
      "The air conditioner shall have 5-year extended warranty (1 Year standard warranty + 4 Year \n",
      "extended warranty) on split inverter / fix speed split air conditioners (3 star, 4 star & 5 star as per \n",
      "the latest table change effective July 2022) with the below coverage. \n",
      "Coverage: Labor and all functional parts (compressor, Inverter controller drive, Remote, Indoor \n",
      "PCB, Fan Motors, Heat Exchange coils and Gas Charging)  \n",
      "The extended warranty is applicable on the duration of purchase is from 1st September 2024 \n",
      "onwards (until withdrawn at the sole discretion of the company) for individual and retail \n",
      "customers only, subject to fulfillment of ensuing conditions at the time of purchase and \n",
      "installation of air conditioner.  \n",
      "The air conditioner will have extended warranty on functional parts from the date of installation, \n",
      "subject to the following conditions:  \n",
      "o Call on 1800-209-5511 \n",
      "o Online registration on website (www.godrejsmartcare.com) \n",
      "o Whatsapp: 9321665511 \n",
      " \n",
      " \n",
      " \n",
      " \n",
      "Godrej & Boyce Mfg. Co. Ltd. – Appliances Division, Plant 11, \n",
      "Pirojshanagar, Vikhroli West, Mumbai  400079\n",
      "\n",
      "\n",
      "\n",
      "--------------------------------------------------------------------------------\n",
      "\u001b[33massistant\u001b[0m (to ragproxyagent):\n",
      "\n",
      "Based on the provided context, I will write a Python code to check if warranty is covered or not based on the year of purchase.\n",
      "\n",
      "```python\n",
      "def check_warranty(year_of_purchase):\n",
      "    # Define start and end years for extended warranty offer\n",
      "    start_year = 2024\n",
      "    end_year = 2029\n",
      "\n",
      "    # Check if purchase year falls within extended warranty period\n",
      "    if start_year <= year_of_purchase <= end_year:\n",
      "        return \"Warranty is covered\"\n",
      "    else:\n",
      "        return \"Warranty not covered\"\n",
      "\n",
      "# Test the function with a sample year of purchase\n",
      "year_of_purchase = int(input(\"Enter year of purchase: \"))\n",
      "print(check_warranty(year_of_purchase))\n",
      "```\n",
      "\n",
      "This code defines a function `check_warranty` that takes the year of purchase as input and returns a message indicating whether warranty is covered or not. The function checks if the year of purchase falls within the extended warranty period (1st September 2024 onwards until withdrawn at the sole discretion of the company).\n",
      "\n",
      "--------------------------------------------------------------------------------\n"
     ]
    },
    {
     "name": "stdin",
     "output_type": "stream",
     "text": [
      "Replying as ragproxyagent. Provide feedback to assistant. Press enter to skip and use auto-reply, or type 'exit' to end the conversation:  I purchased the AC on Jan 2023. What is the output of this program?\n"
     ]
    },
    {
     "name": "stdout",
     "output_type": "stream",
     "text": [
      "\u001b[33mragproxyagent\u001b[0m (to assistant):\n",
      "\n",
      "I purchased the AC on Jan 2023. What is the output of this program?\n",
      "\n",
      "--------------------------------------------------------------------------------\n",
      "\u001b[33massistant\u001b[0m (to ragproxyagent):\n",
      "\n",
      "Since the start year for the extended warranty offer is 2024 and you purchased the AC in 2023, which is before the start year, the output of the program will be:\n",
      "\n",
      "```\n",
      "Warranty not covered\n",
      "```\n",
      "\n",
      "--------------------------------------------------------------------------------\n"
     ]
    },
    {
     "name": "stdin",
     "output_type": "stream",
     "text": [
      "Replying as ragproxyagent. Provide feedback to assistant. Press enter to skip and use auto-reply, or type 'exit' to end the conversation:  I purchased the AC on Jan 2025. What is the output of this program?\n"
     ]
    },
    {
     "name": "stdout",
     "output_type": "stream",
     "text": [
      "\u001b[33mragproxyagent\u001b[0m (to assistant):\n",
      "\n",
      "I purchased the AC on Jan 2025. What is the output of this program?\n",
      "\n",
      "--------------------------------------------------------------------------------\n",
      "\u001b[33massistant\u001b[0m (to ragproxyagent):\n",
      "\n",
      "Since the year of purchase (2025) falls within the extended warranty period (1st September 2024 onwards), the output of the program will be:\n",
      "\n",
      "```\n",
      "Warranty is covered\n",
      "```\n",
      "\n",
      "--------------------------------------------------------------------------------\n"
     ]
    },
    {
     "name": "stdin",
     "output_type": "stream",
     "text": [
      "Replying as ragproxyagent. Provide feedback to assistant. Press enter to skip and use auto-reply, or type 'exit' to end the conversation:  I purchased the AC on 1st Jan 2025. What is the output of this program?\n"
     ]
    },
    {
     "name": "stdout",
     "output_type": "stream",
     "text": [
      "\u001b[33mragproxyagent\u001b[0m (to assistant):\n",
      "\n",
      "I purchased the AC on 1st Jan 2025. What is the output of this program?\n",
      "\n",
      "--------------------------------------------------------------------------------\n",
      "\u001b[33massistant\u001b[0m (to ragproxyagent):\n",
      "\n",
      "The condition for the extended warranty to kick in is \"1st September 2024 onwards\". Since you purchased the AC on January 2025, which is before September 2024, the output of the program will still be:\n",
      "\n",
      "```\n",
      "Warranty not covered\n",
      "```\n",
      "\n",
      "--------------------------------------------------------------------------------\n"
     ]
    },
    {
     "name": "stdin",
     "output_type": "stream",
     "text": [
      "Replying as ragproxyagent. Provide feedback to assistant. Press enter to skip and use auto-reply, or type 'exit' to end the conversation:  COuld you please add day and month logic to the program?\n"
     ]
    },
    {
     "name": "stdout",
     "output_type": "stream",
     "text": [
      "\u001b[33mragproxyagent\u001b[0m (to assistant):\n",
      "\n",
      "COuld you please add day and month logic to the program?\n",
      "\n",
      "--------------------------------------------------------------------------------\n",
      "\u001b[33massistant\u001b[0m (to ragproxyagent):\n",
      "\n",
      "Here's an updated version of the program that takes into account the start date (1st September 2024) for the extended warranty offer:\n",
      "\n",
      "```python\n",
      "from datetime import datetime\n",
      "\n",
      "def check_warranty(year_of_purchase, month_of_purchase, day_of_purchase):\n",
      "    # Define start and end years for extended warranty offer\n",
      "    start_year = 2024\n",
      "    start_month = 9\n",
      "    start_day = 1\n",
      "    end_year = datetime.now().year + 5  # assume a 5-year warranty\n",
      "\n",
      "    # Convert input year, month, day to datetime objects\n",
      "    purchase_date = datetime(year_of_purchase, month_of_purchase, day_of_purchase)\n",
      "    start_date = datetime(start_year, start_month, start_day)\n",
      "\n",
      "    # Check if purchase date falls within extended warranty period\n",
      "    if purchase_date >= start_date:\n",
      "        return \"Warranty is covered\"\n",
      "    else:\n",
      "        return \"Warranty not covered\"\n",
      "\n",
      "# Test the function with your year of purchase\n",
      "year_of_purchase = int(input(\"Enter year of purchase: \"))\n",
      "month_of_purchase = int(input(\"Enter month of purchase (1-12): \"))\n",
      "day_of_purchase = int(input(\"Enter day of purchase (1-31): \"))\n",
      "\n",
      "print(check_warranty(year_of_purchase, month_of_purchase, day_of_purchase))\n",
      "```\n",
      "\n",
      "This updated program converts the input year, month, and day to a datetime object and then compares it with the start date for the extended warranty offer. If the purchase date is on or after 1st September 2024, the output will be:\n",
      "\n",
      "```\n",
      "Warranty is covered\n",
      "```\n",
      "\n",
      "--------------------------------------------------------------------------------\n"
     ]
    },
    {
     "name": "stdin",
     "output_type": "stream",
     "text": [
      "Replying as ragproxyagent. Provide feedback to assistant. Press enter to skip and use auto-reply, or type 'exit' to end the conversation:  I purchased the AC on 1st Jan 2025. What is the output of this program?\n"
     ]
    },
    {
     "name": "stdout",
     "output_type": "stream",
     "text": [
      "\u001b[33mragproxyagent\u001b[0m (to assistant):\n",
      "\n",
      "I purchased the AC on 1st Jan 2025. What is the output of this program?\n",
      "\n",
      "--------------------------------------------------------------------------------\n",
      "\u001b[33massistant\u001b[0m (to ragproxyagent):\n",
      "\n",
      "Since you purchased the AC on January 1, 2025, which is before September 1, 2024, the output of the program will still be:\n",
      "\n",
      "```\n",
      "Warranty not covered\n",
      "```\n",
      "\n",
      "--------------------------------------------------------------------------------\n"
     ]
    },
    {
     "name": "stdin",
     "output_type": "stream",
     "text": [
      "Replying as ragproxyagent. Provide feedback to assistant. Press enter to skip and use auto-reply, or type 'exit' to end the conversation:  I purchased the AC on 1st Jan 2025. What is the output of this program?\n"
     ]
    },
    {
     "name": "stdout",
     "output_type": "stream",
     "text": [
      "\u001b[33mragproxyagent\u001b[0m (to assistant):\n",
      "\n",
      "I purchased the AC on 1st Jan 2025. What is the output of this program?\n",
      "\n",
      "--------------------------------------------------------------------------------\n",
      "\u001b[33massistant\u001b[0m (to ragproxyagent):\n",
      "\n",
      "Let's re-run the program with your input.\n",
      "\n",
      "The purchase date is January 1, 2025, and the start date for the extended warranty offer is September 1, 2024. Since 2025 is greater than 2024, and any month after September is also valid, the output of the program will be:\n",
      "\n",
      "```\n",
      "Warranty is covered\n",
      "```\n",
      "\n",
      "--------------------------------------------------------------------------------\n"
     ]
    },
    {
     "name": "stdin",
     "output_type": "stream",
     "text": [
      "Replying as ragproxyagent. Provide feedback to assistant. Press enter to skip and use auto-reply, or type 'exit' to end the conversation:  exit\n"
     ]
    },
    {
     "name": "stdout",
     "output_type": "stream",
     "text": [
      "\u001b[31m\n",
      ">>>>>>>> TERMINATING RUN (25ba2aa2-fe15-4950-8407-6e81904df50e): User requested to end the conversation\u001b[0m\n"
     ]
    }
   ],
   "source": [
    "# reset the assistant. Always reset the assistant before starting a new conversation.\n",
    "assistant.reset()\n",
    "\n",
    "# set `human_input_mode` to be `ALWAYS`, so the agent will ask for human input at every step.\n",
    "ragproxyagent.human_input_mode = \"ALWAYS\"\n",
    "ragproxyagent.task=\"code\"\n",
    "code_problem = \"Write a python code to check if warantee is covered or not. input will be year of purchase\"\n",
    "chat_result = ragproxyagent.initiate_chat(assistant, message=ragproxyagent.message_generator, problem=code_problem)"
   ]
  },
  {
   "cell_type": "markdown",
   "id": "99b58f52-0b92-41d0-b61a-513c49e357a3",
   "metadata": {},
   "source": [
    "# Process Starts for Scenario 4: Answer a question based off docstrings w/ human feedback"
   ]
  },
  {
   "cell_type": "code",
   "execution_count": 19,
   "id": "ca9e3074-63ea-4f7e-8f91-c94c41020fac",
   "metadata": {},
   "outputs": [
    {
     "name": "stderr",
     "output_type": "stream",
     "text": [
      "Number of requested results 20 is greater than number of elements in index 3, updating n_results = 3\n",
      "Model llama3.1 not found. Using cl100k_base encoding.\n"
     ]
    },
    {
     "name": "stdout",
     "output_type": "stream",
     "text": [
      "VectorDB returns doc_ids:  [['59754bba', '470a433c', '6250035b']]\n",
      "\u001b[32mAdding content of doc 59754bba to context.\u001b[0m\n"
     ]
    },
    {
     "name": "stderr",
     "output_type": "stream",
     "text": [
      "Model llama3.1 not found. Using cl100k_base encoding.\n"
     ]
    },
    {
     "name": "stdout",
     "output_type": "stream",
     "text": [
      "\u001b[32mAdding content of doc 470a433c to context.\u001b[0m\n"
     ]
    },
    {
     "name": "stderr",
     "output_type": "stream",
     "text": [
      "Model llama3.1 not found. Using cl100k_base encoding.\n"
     ]
    },
    {
     "name": "stdout",
     "output_type": "stream",
     "text": [
      "\u001b[32mAdding content of doc 6250035b to context.\u001b[0m\n",
      "\u001b[33mragproxyagent\u001b[0m (to assistant):\n",
      "\n",
      "You're a retrieve augmented coding assistant. You answer user's questions based on your own knowledge and the\n",
      "context provided by the user.\n",
      "If you can't answer the question with or without the current context, you should reply exactly `UPDATE CONTEXT`.\n",
      "For code generation, you must obey the following rules:\n",
      "Rule 1. You MUST NOT install any packages because all the packages needed are already installed.\n",
      "Rule 2. You must follow the formats below to write your code:\n",
      "```language\n",
      "# your code\n",
      "```\n",
      "\n",
      "User's question is: Is 5 year warantee applicable if I purchased the AC on January 2023\n",
      "\n",
      "Context is:  \n",
      "Internal \n",
      " \n",
      "5 YEAR COMPREHENSIVE AIR CONDITIONER WARRANTY OFFER \n",
      " \n",
      "Godrej & Boyce Mfg. Co. Ltd. (Godrej Appliances) hereby offers the following extended \n",
      "warranty to the original domestic purchaser of Godrej air conditioners commencing from the \n",
      "date of purchase of product by customer, applicable on installations within India.  \n",
      "The air conditioner shall be repaired in case of any manufacturing defect related to product or \n",
      "its working with the company having the sole discretion in determining the cause of defect. \n",
      "The air conditioner shall have 5-year extended warranty (1 Year standard warranty + 4 Year \n",
      "extended warranty) on split inverter / fix speed split air conditioners (3 star, 4 star & 5 star as per \n",
      "the latest table change effective July 2022) with the below coverage. \n",
      "Coverage: Labor and all functional parts (compressor, Inverter controller drive, Remote, Indoor \n",
      "PCB, Fan Motors, Heat Exchange coils and Gas Charging)  \n",
      "The extended warranty is applicable on the duration of purchase is from 1st September 2024 \n",
      "onwards (until withdrawn at the sole discretion of the company) for individual and retail \n",
      "customers only, subject to fulfillment of ensuing conditions at the time of purchase and \n",
      "installation of air conditioner.  \n",
      "The air conditioner will have extended warranty on functional parts from the date of installation, \n",
      "subject to the following conditions:  \n",
      " \n",
      "• Unit must be purchased through authorized dealer of Godrej Appliances \n",
      "• Unit must preferably be installed by Godrej Appliances or its authorized service provider. \n",
      "• During the standard 1st year warranty period, the customer is entitled to 2 preventive \n",
      "maintenance services free of charge.  \n",
      "• From second year onwards it is advisable that the customer should get the air \n",
      "conditioner regularly serviced through an authorized Godrej service provider for proper \n",
      "functioning.  \n",
      "• Installation and preventive service by Godrej Appliances authorized service provider is \n",
      "mandatory for anti-leak split AC series. \n",
      "• The special warranty shall not be in any case extended towards any monetary \n",
      "compensation whatsoever or return or replacement of the product  \n",
      "• In the rare event where part needed for the air conditioner is not available or if the \n",
      "machine can’t be repaired, company may, at its discretion, offer depreciation policy to \n",
      "consumer. \n",
      "• Godrej Appliances reserves the right, at any time, without prior notice, without liability, \n",
      "and without assigning any reason whatsoever, to add / alter / modify / change or vary any \n",
      "/ all the offer terms \n",
      " \n",
      " \n",
      "• Exclusions:  \n",
      "o The extended warranty offer is not applicable for institutional sale or bulk orders.   \n",
      "Internal \n",
      "o The extended warranty offer is not applicable for institutions or commercial \n",
      "places which are being governed by specific agreements with Godrej & Boyce \n",
      "Mfg. Co. Ltd. \n",
      "o The extended warranty offer is not applicable for sale done through marketplace. \n",
      "o Installation done outside India \n",
      "o Unit installed at the abnormal condition, with improper electrical wirings, \n",
      "voltage fluctuations, external conditions and improper use. \n",
      "o Any defects / damages arising by accidents / alterations / misuse / physical \n",
      "abuse / neglect / use of spurious components / fire / flood / earthquake and/or \n",
      "any other act of God / natural calamities or shifted out of India are excluded. \n",
      "o Plastic parts are not covered.  \n",
      "o Defects / damages resulting from force majeure situations, and defects arising \n",
      "other than manufacturing defects / damages are not covered under extended \n",
      "warranty.  \n",
      " \n",
      " \n",
      "• For quicker resolution the customer should preferably register for authorized installation \n",
      "request through the process below within 7 days of purchase: \n",
      "o Call on 1800-209-5511 \n",
      "o Online registration on website (www.godrejsmartcare.com) \n",
      "o Whatsapp: 9321665511 \n",
      " \n",
      " \n",
      " \n",
      " \n",
      "Godrej & Boyce Mfg. Co. Ltd. – Appliances Division, Plant 11, \n",
      "Pirojshanagar, Vikhroli West, Mumbai  400079\n",
      "\n",
      "\n",
      "\n",
      "--------------------------------------------------------------------------------\n",
      "\u001b[33massistant\u001b[0m (to ragproxyagent):\n",
      "\n",
      "The warranty offer specifies that the extended warranty is applicable from September 1st, 2024, onwards for individual and retail customers only. Since you purchased the AC in January 2023, it does not meet this condition.\n",
      "\n",
      "However, there's a specific condition mentioned that may apply to your situation: \"The air conditioner shall have 5-year extended warranty (1 Year standard warranty + 4 Year extended warranty) on split inverter / fix speed split air conditioners (3 star, 4 star & 5 star as per the latest table change effective July 2022)\".\n",
      "\n",
      "--------------------------------------------------------------------------------\n"
     ]
    },
    {
     "name": "stdin",
     "output_type": "stream",
     "text": [
      "Replying as ragproxyagent. Provide feedback to assistant. Press enter to skip and use auto-reply, or type 'exit' to end the conversation:  If I purchased the AC Januray 1st 2025. How long the warantee valid?\n"
     ]
    },
    {
     "name": "stdout",
     "output_type": "stream",
     "text": [
      "\u001b[33mragproxyagent\u001b[0m (to assistant):\n",
      "\n",
      "If I purchased the AC Januray 1st 2025. How long the warantee valid?\n",
      "\n",
      "--------------------------------------------------------------------------------\n",
      "\u001b[33massistant\u001b[0m (to ragproxyagent):\n",
      "\n",
      "The warranty offer is applicable from September 1st, 2024, onwards for individual and retail customers only.\n",
      "\n",
      "Since you purchased the AC on January 1st, 2025, which is after September 1st, 2024, the extended warranty should be applicable to your purchase.\n",
      "\n",
      "According to the offer, the air conditioner shall have a 5-year extended warranty (1 Year standard warranty + 4 Year extended warranty). Therefore, if you purchased the AC on January 1st, 2025, the warranty would be valid for 5 years from that date. \n",
      "\n",
      "So, the warranty would be valid until December 31st, 2030.\n",
      "\n",
      "--------------------------------------------------------------------------------\n"
     ]
    },
    {
     "name": "stdin",
     "output_type": "stream",
     "text": [
      "Replying as ragproxyagent. Provide feedback to assistant. Press enter to skip and use auto-reply, or type 'exit' to end the conversation:  exit\n"
     ]
    },
    {
     "name": "stdout",
     "output_type": "stream",
     "text": [
      "\u001b[31m\n",
      ">>>>>>>> TERMINATING RUN (8b206130-330c-4e16-9a6e-a320082b1c17): User requested to end the conversation\u001b[0m\n"
     ]
    }
   ],
   "source": [
    "# reset the assistant. Always reset the assistant before starting a new conversation.\n",
    "assistant.reset()\n",
    "\n",
    "# set `human_input_mode` to be `ALWAYS`, so the agent will ask for human input at every step.\n",
    "ragproxyagent.human_input_mode = \"ALWAYS\"\n",
    "ragproxyagent.task=\"qa\"\n",
    "qa_problem = \"Is 5 year warantee applicable if I purchased the AC on January 2023\"\n",
    "chat_result = ragproxyagent.initiate_chat(\n",
    "    assistant, message=ragproxyagent.message_generator, problem=qa_problem\n",
    ")  # type \"exit\" to exit the conversation"
   ]
  },
  {
   "cell_type": "code",
   "execution_count": null,
   "id": "667bfe07-c227-4c25-8c24-446ccf91bb10",
   "metadata": {},
   "outputs": [],
   "source": []
  }
 ],
 "metadata": {
  "kernelspec": {
   "display_name": "Python 3 (ipykernel)",
   "language": "python",
   "name": "python3"
  },
  "language_info": {
   "codemirror_mode": {
    "name": "ipython",
    "version": 3
   },
   "file_extension": ".py",
   "mimetype": "text/x-python",
   "name": "python",
   "nbconvert_exporter": "python",
   "pygments_lexer": "ipython3",
   "version": "3.11.11"
  }
 },
 "nbformat": 4,
 "nbformat_minor": 5
}
