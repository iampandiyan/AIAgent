{
 "cells": [
  {
   "cell_type": "code",
   "execution_count": null,
   "id": "61a28dda-8044-4e64-bfc0-c04bb6579720",
   "metadata": {},
   "outputs": [],
   "source": [
    "#!pip install sentence_transformers\n",
    "#!pip install ag2[retrievechat]\n",
    "#!pip install pyautogen==0.7.2\n",
    "#https://microsoft.github.io/autogen/0.2/docs/notebooks/agentchat_RetrieveChat/"
   ]
  },
  {
   "cell_type": "markdown",
   "id": "28761e60-bc5c-4321-b30c-f419db29cc9f",
   "metadata": {},
   "source": [
    "# Setting base for Retrive Chat"
   ]
  },
  {
   "cell_type": "code",
   "execution_count": 8,
   "id": "48d23e50-50ac-49c1-8bbf-e2dc0b9275ea",
   "metadata": {},
   "outputs": [],
   "source": [
    "import json\n",
    "import os\n",
    "\n",
    "import chromadb\n",
    "\n",
    "import autogen\n",
    "from autogen import AssistantAgent\n",
    "from autogen.agentchat.contrib.retrieve_user_proxy_agent import RetrieveUserProxyAgent\n",
    "\n",
    "# Accepted file formats for that can be stored in\n",
    "# a vector database instance\n",
    "from autogen.retrieve_utils import TEXT_FORMATS\n"
   ]
  },
  {
   "cell_type": "code",
   "execution_count": 9,
   "id": "f4901dc7-4ec8-46a6-abb7-40c711a7913e",
   "metadata": {},
   "outputs": [
    {
     "name": "stdout",
     "output_type": "stream",
     "text": [
      "Accepted file formats for `docs_path`:\n",
      "['txt', 'json', 'csv', 'tsv', 'md', 'html', 'htm', 'rtf', 'rst', 'jsonl', 'log', 'xml', 'yaml', 'yml', 'pdf', 'mdx']\n"
     ]
    }
   ],
   "source": [
    "print(\"Accepted file formats for `docs_path`:\")\n",
    "print(TEXT_FORMATS)"
   ]
  },
  {
   "cell_type": "code",
   "execution_count": 10,
   "id": "ab7404f8-8c8c-41c0-b014-3e408a8ddb3a",
   "metadata": {},
   "outputs": [],
   "source": [
    "api_key = os.environ[\"GEMINI_API_KEY\"]\n",
    "config_list = [\n",
    "    {\n",
    "        \"model\": \"gemini-1.5-pro-latest\",\n",
    "        \"api_key\": api_key,\n",
    "        \"api_type\": \"google\"\n",
    "    }\n",
    "]"
   ]
  },
  {
   "cell_type": "code",
   "execution_count": null,
   "id": "48d95f70-b592-4ec9-8e97-95fa43db9ac5",
   "metadata": {},
   "outputs": [],
   "source": [
    "#import agentops\n",
    "#agentops.init(\"putYourKey\")"
   ]
  },
  {
   "cell_type": "code",
   "execution_count": 11,
   "id": "f4d873f8-e0c6-4be0-8430-b6a9fd7c632b",
   "metadata": {},
   "outputs": [],
   "source": [
    "# 1. create an AssistantAgent instance named \"assistant\"\n",
    "assistant = AssistantAgent(\n",
    "    name=\"assistant\",\n",
    "    system_message=\"You are a helpful assistant.\",\n",
    "    llm_config={\n",
    "        \"timeout\": 600,\n",
    "        \"cache_seed\": 42,\n",
    "        \"config_list\": config_list,\n",
    "    },\n",
    ")\n"
   ]
  },
  {
   "cell_type": "code",
   "execution_count": 12,
   "id": "4a104138-10e7-451c-ab49-38dc55cdb747",
   "metadata": {},
   "outputs": [],
   "source": [
    "from autogen.agentchat.contrib.retrieve_user_proxy_agent import RetrieveUserProxyAgent\n",
    "\n",
    "# Extract text from local PDF files\n",
    "pdf_files = [\"ComprehensiveWarranty.pdf\"]\n",
    "#docs_content = [extract_text_from_pdf(file) for file in pdf_files]\n",
    "\n",
    "from autogen.retrieve_utils import TEXT_FORMATS,extract_text_from_pdf\n",
    "docs_content= extract_text_from_pdf(\"ComprehensiveWarranty.pdf\")"
   ]
  },
  {
   "cell_type": "code",
   "execution_count": 19,
   "id": "e876469d-2e23-469e-a030-6d9d2080921a",
   "metadata": {},
   "outputs": [],
   "source": [
    "# Define the RetrieveUserProxyAgent instance\n",
    "ragproxyagent = RetrieveUserProxyAgent(\n",
    "    name=\"ragproxyagent\",\n",
    "    human_input_mode=\"NEVER\",\n",
    "    max_consecutive_auto_reply=3,\n",
    "    retrieve_config={\n",
    "        \"task\": \"code\",\n",
    "        \"docs_path\": [\"autogen-docs/ComprehensiveWarranty.pdf\"],\n",
    "        \"docs_content\": docs_content,  # Provide the extracted content directly\n",
    "        \"chunk_token_size\": 200,\n",
    "        \"model\": \"gemini-1.5-pro-latest\",\n",
    "        \"vector_db\": \"chroma\",\n",
    "        \"overwrite\": True,\n",
    "        \"get_or_create\": True,\n",
    "    },\n",
    "    code_execution_config=False,\n",
    ")"
   ]
  },
  {
   "cell_type": "markdown",
   "id": "439c9ead-b1aa-4795-9aba-723b20e3d8b2",
   "metadata": {},
   "source": [
    "# Process Starts for Scenario 1 : Generate code based off docstrings w/o human feedback"
   ]
  },
  {
   "cell_type": "code",
   "execution_count": 20,
   "id": "0a9aa104-6999-41f1-8e34-913026e26c58",
   "metadata": {},
   "outputs": [
    {
     "name": "stdout",
     "output_type": "stream",
     "text": [
      "Trying to create collection.\n"
     ]
    },
    {
     "name": "stderr",
     "output_type": "stream",
     "text": [
      "max_tokens is too small to fit a single line of text. Breaking this line:\n",
      "\t  ...\n",
      "Failed to split docs with must_break_at_empty_line being True, set to False.\n",
      "2025-03-22 16:22:31,244 - autogen.agentchat.contrib.retrieve_user_proxy_agent - INFO - Found 6 chunks.\u001b[0m\n",
      "2025-03-22 16:22:31,278 - autogen.agentchat.contrib.vectordb.chromadb - INFO - No content embedding is provided. Will use the VectorDB's embedding function to generate the content embedding.\u001b[0m\n",
      "Number of requested results 20 is greater than number of elements in index 6, updating n_results = 6\n",
      "Model gemini-1.5-pro-latest not found. Using cl100k_base encoding.\n"
     ]
    },
    {
     "name": "stdout",
     "output_type": "stream",
     "text": [
      "VectorDB returns doc_ids:  [['735b1899', '2add3c40', '4365ed84', '9d11a270', '5aaaa884', 'dcd986b8']]\n",
      "\u001b[32mAdding content of doc 735b1899 to context.\u001b[0m\n"
     ]
    },
    {
     "name": "stderr",
     "output_type": "stream",
     "text": [
      "Model gemini-1.5-pro-latest not found. Using cl100k_base encoding.\n"
     ]
    },
    {
     "name": "stdout",
     "output_type": "stream",
     "text": [
      "\u001b[32mAdding content of doc 2add3c40 to context.\u001b[0m\n"
     ]
    },
    {
     "name": "stderr",
     "output_type": "stream",
     "text": [
      "Model gemini-1.5-pro-latest not found. Using cl100k_base encoding.\n"
     ]
    },
    {
     "name": "stdout",
     "output_type": "stream",
     "text": [
      "\u001b[32mAdding content of doc 4365ed84 to context.\u001b[0m\n"
     ]
    },
    {
     "name": "stderr",
     "output_type": "stream",
     "text": [
      "Model gemini-1.5-pro-latest not found. Using cl100k_base encoding.\n"
     ]
    },
    {
     "name": "stdout",
     "output_type": "stream",
     "text": [
      "\u001b[32mAdding content of doc 9d11a270 to context.\u001b[0m\n"
     ]
    },
    {
     "name": "stderr",
     "output_type": "stream",
     "text": [
      "Model gemini-1.5-pro-latest not found. Using cl100k_base encoding.\n"
     ]
    },
    {
     "name": "stdout",
     "output_type": "stream",
     "text": [
      "\u001b[32mAdding content of doc 5aaaa884 to context.\u001b[0m\n"
     ]
    },
    {
     "name": "stderr",
     "output_type": "stream",
     "text": [
      "Model gemini-1.5-pro-latest not found. Using cl100k_base encoding.\n"
     ]
    },
    {
     "name": "stdout",
     "output_type": "stream",
     "text": [
      "\u001b[32mAdding content of doc dcd986b8 to context.\u001b[0m\n",
      "\u001b[33mragproxyagent\u001b[0m (to assistant):\n",
      "\n",
      "You're a retrieve augmented coding assistant. You answer user's questions based on your own knowledge and the\n",
      "context provided by the user.\n",
      "If you can't answer the question with or without the current context, you should reply exactly `UPDATE CONTEXT`.\n",
      "For code generation, you must obey the following rules:\n",
      "Rule 1. You MUST NOT install any packages because all the packages needed are already installed.\n",
      "Rule 2. You must follow the formats below to write your code:\n",
      "```language\n",
      "# your code\n",
      "```\n",
      "\n",
      "User's question is: Write a python code to check if warantee is covered or not. input will be year of purchase\n",
      "\n",
      "Context is: mandatory for anti-leak split AC series. \n",
      "• The special warranty shall not be in any case extended towards any monetary \n",
      "compensation whatsoever or return or replacement of the product  \n",
      "• In the rare event where part needed for the air conditioner is not available or if the \n",
      "machine can’t be repaired, company may, at its discretion, offer depreciation policy to \n",
      "consumer. \n",
      "• Godrej Appliances reserves the right, at any time, without prior notice, without liability, \n",
      "and without assigning any reason whatsoever, to add / alter / modify / change or vary any \n",
      "/ all the offer terms \n",
      " \n",
      " \n",
      "• Exclusions:  \n",
      "o The extended warranty offer is not applicable for institutional sale or bulk orders.   \n",
      "Internal \n",
      "o The extended warranty offer is not applicable for institutions or commercial \n",
      "places which are being governed by specific agreements with Godrej & Boyce \n",
      "Mfg. Co. Ltd. \n",
      "o The extended warranty offer is not applicable for sale done through marketplace. \n",
      "The extended warranty is applicable on the duration of purchase is from 1st September 2024 \n",
      "onwards (until withdrawn at the sole discretion of the company) for individual and retail \n",
      "customers only, subject to fulfillment of ensuing conditions at the time of purchase and \n",
      "installation of air conditioner.  \n",
      "The air conditioner will have extended warranty on functional parts from the date of installation, \n",
      "subject to the following conditions:  \n",
      " \n",
      "• Unit must be purchased through authorized dealer of Godrej Appliances \n",
      "• Unit must preferably be installed by Godrej Appliances or its authorized service provider. \n",
      "• During the standard 1st year warranty period, the customer is entitled to 2 preventive \n",
      "maintenance services free of charge.  \n",
      "• From second year onwards it is advisable that the customer should get the air \n",
      "conditioner regularly serviced through an authorized Godrej service provider for proper \n",
      "functioning.  \n",
      "• Installation and preventive service by Godrej Appliances authorized service provider is \n",
      " \n",
      "Internal \n",
      " \n",
      "5 YEAR COMPREHENSIVE AIR CONDITIONER WARRANTY OFFER \n",
      " \n",
      "Godrej & Boyce Mfg. Co. Ltd. (Godrej Appliances) hereby offers the following extended \n",
      "warranty to the original domestic purchaser of Godrej air conditioners commencing from the \n",
      "date of purchase of product by customer, applicable on installations within India.  \n",
      "The air conditioner shall be repaired in case of any manufacturing defect related to product or \n",
      "its working with the company having the sole discretion in determining the cause of defect. \n",
      "The air conditioner shall have 5-year extended warranty (1 Year standard warranty + 4 Year \n",
      "extended warranty) on split inverter / fix speed split air conditioners (3 star, 4 star & 5 star as per \n",
      "the latest table change effective July 2022) with the below coverage. \n",
      "Coverage: Labor and all functional parts (compressor, Inverter controller drive, Remote, Indoor \n",
      "PCB, Fan Motors, Heat Exchange coils and Gas Charging)  \n",
      "o Installation done outside India \n",
      "o Unit installed at the abnormal condition, with improper electrical wirings, \n",
      "voltage fluctuations, external conditions and improper use. \n",
      "o Any defects / damages arising by accidents / alterations / misuse / physical \n",
      "abuse / neglect / use of spurious components / fire / flood / earthquake and/or \n",
      "any other act of God / natural calamities or shifted out of India are excluded. \n",
      "o Plastic parts are not covered.  \n",
      "o Defects / damages resulting from force majeure situations, and defects arising \n",
      "other than manufacturing defects / damages are not covered under extended \n",
      "warranty.  \n",
      " \n",
      " \n",
      "• For quicker resolution the customer should preferably register for authorized installation \n",
      "request through the process below within 7 days of purchase: \n",
      " \n",
      "o Call on 1800-209-5511 \n",
      "o Online registration on website (www.godrejsmartcare.com) \n",
      "o Whatsapp: 9321665511 \n",
      " \n",
      "Godrej & Boyce Mfg. Co. Ltd. – Appliances Division, Plant 11, \n",
      "Pirojshanagar, Vikhroli West, Mumbai  400079\n",
      "\n",
      "\n",
      "\n",
      "--------------------------------------------------------------------------------\n",
      "\u001b[33massistant\u001b[0m (to ragproxyagent):\n",
      "\n",
      "```python\n",
      "def is_warranty_covered(purchase_year):\n",
      "    \"\"\"\n",
      "    Checks if the warranty is covered for a Godrej AC based on the purchase year and terms.\n",
      "\n",
      "    Args:\n",
      "        purchase_year: The year the AC was purchased.\n",
      "\n",
      "    Returns:\n",
      "        True if the warranty is covered, False otherwise.\n",
      "    \"\"\"\n",
      "    current_year = 2025  # Replace with current year for dynamic calculation\n",
      "    if purchase_year >= 2024 and purchase_year <= current_year :  # Warranty starts from Sept 2024\n",
      "        return True\n",
      "    else:\n",
      "        return False\n",
      "\n",
      "# Example usage\n",
      "year_of_purchase = int(input(\"Enter the year of purchase: \"))\n",
      "if is_warranty_covered(year_of_purchase):\n",
      "    print(\"Warranty is covered.\")\n",
      "else:\n",
      "    print(\"Warranty is not covered.\")\n",
      "\n",
      "```\n",
      "\n",
      "--------------------------------------------------------------------------------\n",
      "\u001b[33mragproxyagent\u001b[0m (to assistant):\n",
      "\n",
      "\n",
      "\n",
      "--------------------------------------------------------------------------------\n",
      "\u001b[33massistant\u001b[0m (to ragproxyagent):\n",
      "\n",
      "UPDATE CONTEXT\n",
      "\n",
      "\n",
      "--------------------------------------------------------------------------------\n",
      "\u001b[32mUpdating context and resetting conversation.\u001b[0m\n"
     ]
    },
    {
     "name": "stderr",
     "output_type": "stream",
     "text": [
      "Number of requested results 60 is greater than number of elements in index 6, updating n_results = 6\n"
     ]
    },
    {
     "name": "stdout",
     "output_type": "stream",
     "text": [
      "VectorDB returns doc_ids:  [['735b1899', '2add3c40', '4365ed84', '9d11a270', '5aaaa884', 'dcd986b8']]\n",
      "\u001b[32mNo more context, will terminate.\u001b[0m\n",
      "\u001b[33mragproxyagent\u001b[0m (to assistant):\n",
      "\n",
      "TERMINATE\n",
      "\n",
      "--------------------------------------------------------------------------------\n",
      "\u001b[31m\n",
      ">>>>>>>> TERMINATING RUN (975495cf-d231-45a8-8d46-a52722c48aec): Termination message condition on agent 'assistant' met\u001b[0m\n"
     ]
    }
   ],
   "source": [
    "# reset the assistant. Always reset the assistant before starting a new conversation.\n",
    "assistant.reset()\n",
    "\n",
    "qa_problem = \"Write a python code to check if warantee is covered or not. input will be year of purchase\"\n",
    "chat_result = ragproxyagent.initiate_chat(assistant, message=ragproxyagent.message_generator, problem=qa_problem)\n",
    "#agentops.end_session(\"Success\")"
   ]
  },
  {
   "cell_type": "code",
   "execution_count": null,
   "id": "1798e937-acfa-4f65-9b51-850c4e85fb3a",
   "metadata": {},
   "outputs": [],
   "source": [
    "#agentops.end_session(\"Success\")"
   ]
  },
  {
   "cell_type": "markdown",
   "id": "f1599687-6f8a-4a67-90aa-b1063581075d",
   "metadata": {},
   "source": [
    "# Process Starts for Scenario 2 : Answer a question based off docstrings w/o human feedback"
   ]
  },
  {
   "cell_type": "code",
   "execution_count": null,
   "id": "bc1c31a4-ef48-4aa1-803a-2bf7a98665ae",
   "metadata": {},
   "outputs": [],
   "source": []
  },
  {
   "cell_type": "code",
   "execution_count": null,
   "id": "5c5a1b84-36e1-4905-b4bf-7253052ad01d",
   "metadata": {},
   "outputs": [],
   "source": []
  },
  {
   "cell_type": "code",
   "execution_count": 22,
   "id": "df4068e1-4ae6-48d8-a146-a2580646c679",
   "metadata": {},
   "outputs": [
    {
     "name": "stderr",
     "output_type": "stream",
     "text": [
      "Number of requested results 20 is greater than number of elements in index 6, updating n_results = 6\n",
      "Model gemini-1.5-pro-latest not found. Using cl100k_base encoding.\n"
     ]
    },
    {
     "name": "stdout",
     "output_type": "stream",
     "text": [
      "VectorDB returns doc_ids:  [['4365ed84', '735b1899', '2add3c40', '9d11a270', '5aaaa884', 'dcd986b8']]\n",
      "\u001b[32mAdding content of doc 4365ed84 to context.\u001b[0m\n"
     ]
    },
    {
     "name": "stderr",
     "output_type": "stream",
     "text": [
      "Model gemini-1.5-pro-latest not found. Using cl100k_base encoding.\n"
     ]
    },
    {
     "name": "stdout",
     "output_type": "stream",
     "text": [
      "\u001b[32mAdding content of doc 735b1899 to context.\u001b[0m\n"
     ]
    },
    {
     "name": "stderr",
     "output_type": "stream",
     "text": [
      "Model gemini-1.5-pro-latest not found. Using cl100k_base encoding.\n"
     ]
    },
    {
     "name": "stdout",
     "output_type": "stream",
     "text": [
      "\u001b[32mAdding content of doc 2add3c40 to context.\u001b[0m\n"
     ]
    },
    {
     "name": "stderr",
     "output_type": "stream",
     "text": [
      "Model gemini-1.5-pro-latest not found. Using cl100k_base encoding.\n"
     ]
    },
    {
     "name": "stdout",
     "output_type": "stream",
     "text": [
      "\u001b[32mAdding content of doc 9d11a270 to context.\u001b[0m\n"
     ]
    },
    {
     "name": "stderr",
     "output_type": "stream",
     "text": [
      "Model gemini-1.5-pro-latest not found. Using cl100k_base encoding.\n"
     ]
    },
    {
     "name": "stdout",
     "output_type": "stream",
     "text": [
      "\u001b[32mAdding content of doc 5aaaa884 to context.\u001b[0m\n"
     ]
    },
    {
     "name": "stderr",
     "output_type": "stream",
     "text": [
      "Model gemini-1.5-pro-latest not found. Using cl100k_base encoding.\n"
     ]
    },
    {
     "name": "stdout",
     "output_type": "stream",
     "text": [
      "\u001b[32mAdding content of doc dcd986b8 to context.\u001b[0m\n",
      "\u001b[33mragproxyagent\u001b[0m (to assistant):\n",
      "\n",
      "You're a retrieve augmented coding assistant. You answer user's questions based on your own knowledge and the\n",
      "context provided by the user.\n",
      "If you can't answer the question with or without the current context, you should reply exactly `UPDATE CONTEXT`.\n",
      "For code generation, you must obey the following rules:\n",
      "Rule 1. You MUST NOT install any packages because all the packages needed are already installed.\n",
      "Rule 2. You must follow the formats below to write your code:\n",
      "```language\n",
      "# your code\n",
      "```\n",
      "\n",
      "User's question is: Is 5 year warantee applicable if I purchased the AC on January 2023\n",
      "\n",
      "Context is:  \n",
      "Internal \n",
      " \n",
      "5 YEAR COMPREHENSIVE AIR CONDITIONER WARRANTY OFFER \n",
      "mandatory for anti-leak split AC series. \n",
      "• The special warranty shall not be in any case extended towards any monetary \n",
      "compensation whatsoever or return or replacement of the product  \n",
      "• In the rare event where part needed for the air conditioner is not available or if the \n",
      "machine can’t be repaired, company may, at its discretion, offer depreciation policy to \n",
      "consumer. \n",
      "• Godrej Appliances reserves the right, at any time, without prior notice, without liability, \n",
      "and without assigning any reason whatsoever, to add / alter / modify / change or vary any \n",
      "/ all the offer terms \n",
      " \n",
      " \n",
      "• Exclusions:  \n",
      "o The extended warranty offer is not applicable for institutional sale or bulk orders.   \n",
      "Internal \n",
      "o The extended warranty offer is not applicable for institutions or commercial \n",
      "places which are being governed by specific agreements with Godrej & Boyce \n",
      "Mfg. Co. Ltd. \n",
      "o The extended warranty offer is not applicable for sale done through marketplace. \n",
      "The extended warranty is applicable on the duration of purchase is from 1st September 2024 \n",
      "onwards (until withdrawn at the sole discretion of the company) for individual and retail \n",
      "customers only, subject to fulfillment of ensuing conditions at the time of purchase and \n",
      "installation of air conditioner.  \n",
      "The air conditioner will have extended warranty on functional parts from the date of installation, \n",
      "subject to the following conditions:  \n",
      " \n",
      "• Unit must be purchased through authorized dealer of Godrej Appliances \n",
      "• Unit must preferably be installed by Godrej Appliances or its authorized service provider. \n",
      "• During the standard 1st year warranty period, the customer is entitled to 2 preventive \n",
      "maintenance services free of charge.  \n",
      "• From second year onwards it is advisable that the customer should get the air \n",
      "conditioner regularly serviced through an authorized Godrej service provider for proper \n",
      "functioning.  \n",
      "• Installation and preventive service by Godrej Appliances authorized service provider is \n",
      " \n",
      "Godrej & Boyce Mfg. Co. Ltd. (Godrej Appliances) hereby offers the following extended \n",
      "warranty to the original domestic purchaser of Godrej air conditioners commencing from the \n",
      "date of purchase of product by customer, applicable on installations within India.  \n",
      "The air conditioner shall be repaired in case of any manufacturing defect related to product or \n",
      "its working with the company having the sole discretion in determining the cause of defect. \n",
      "The air conditioner shall have 5-year extended warranty (1 Year standard warranty + 4 Year \n",
      "extended warranty) on split inverter / fix speed split air conditioners (3 star, 4 star & 5 star as per \n",
      "the latest table change effective July 2022) with the below coverage. \n",
      "Coverage: Labor and all functional parts (compressor, Inverter controller drive, Remote, Indoor \n",
      "PCB, Fan Motors, Heat Exchange coils and Gas Charging)  \n",
      "o Installation done outside India \n",
      "o Unit installed at the abnormal condition, with improper electrical wirings, \n",
      "voltage fluctuations, external conditions and improper use. \n",
      "o Any defects / damages arising by accidents / alterations / misuse / physical \n",
      "abuse / neglect / use of spurious components / fire / flood / earthquake and/or \n",
      "any other act of God / natural calamities or shifted out of India are excluded. \n",
      "o Plastic parts are not covered.  \n",
      "o Defects / damages resulting from force majeure situations, and defects arising \n",
      "other than manufacturing defects / damages are not covered under extended \n",
      "warranty.  \n",
      " \n",
      " \n",
      "• For quicker resolution the customer should preferably register for authorized installation \n",
      "request through the process below within 7 days of purchase: \n",
      " \n",
      "o Call on 1800-209-5511 \n",
      "o Online registration on website (www.godrejsmartcare.com) \n",
      "o Whatsapp: 9321665511 \n",
      " \n",
      "Godrej & Boyce Mfg. Co. Ltd. – Appliances Division, Plant 11, \n",
      "Pirojshanagar, Vikhroli West, Mumbai  400079\n",
      "\n",
      "\n",
      "\n",
      "--------------------------------------------------------------------------------\n",
      "\u001b[33massistant\u001b[0m (to ragproxyagent):\n",
      "\n",
      "No. The 5-year warranty offer is applicable only for purchases made from 1st September 2024 onwards.  Since you purchased the AC in January 2023, the extended warranty offer does not apply.\n",
      "\n",
      "\n",
      "--------------------------------------------------------------------------------\n",
      "\u001b[31m\n",
      ">>>>>>>> TERMINATING RUN (d65554c7-efd7-4176-8298-1f6ed7d7d849): Termination message condition on agent 'ragproxyagent' met\u001b[0m\n"
     ]
    }
   ],
   "source": [
    "# reset the assistant. Always reset the assistant before starting a new conversation.\n",
    "assistant.reset()\n",
    "ragproxyagent.task=\"qa\"\n",
    "qa_problem = \"Is 5 year warantee applicable if I purchased the AC on January 2023\"\n",
    "chat_result = ragproxyagent.initiate_chat(assistant, message=ragproxyagent.message_generator, problem=qa_problem)"
   ]
  },
  {
   "cell_type": "markdown",
   "id": "a2c9c268-6f5a-4385-9147-07529c15dfa6",
   "metadata": {},
   "source": [
    "# Process Starts for Scenario 3 : Generate code based off docstrings w/ human feedback"
   ]
  },
  {
   "cell_type": "code",
   "execution_count": 23,
   "id": "758803b2-8cb4-4dab-9803-0bdcadd14eb2",
   "metadata": {},
   "outputs": [
    {
     "name": "stderr",
     "output_type": "stream",
     "text": [
      "Number of requested results 20 is greater than number of elements in index 6, updating n_results = 6\n",
      "Model gemini-1.5-pro-latest not found. Using cl100k_base encoding.\n"
     ]
    },
    {
     "name": "stdout",
     "output_type": "stream",
     "text": [
      "VectorDB returns doc_ids:  [['735b1899', '2add3c40', '4365ed84', '9d11a270', '5aaaa884', 'dcd986b8']]\n",
      "\u001b[32mAdding content of doc 735b1899 to context.\u001b[0m\n"
     ]
    },
    {
     "name": "stderr",
     "output_type": "stream",
     "text": [
      "Model gemini-1.5-pro-latest not found. Using cl100k_base encoding.\n"
     ]
    },
    {
     "name": "stdout",
     "output_type": "stream",
     "text": [
      "\u001b[32mAdding content of doc 2add3c40 to context.\u001b[0m\n"
     ]
    },
    {
     "name": "stderr",
     "output_type": "stream",
     "text": [
      "Model gemini-1.5-pro-latest not found. Using cl100k_base encoding.\n"
     ]
    },
    {
     "name": "stdout",
     "output_type": "stream",
     "text": [
      "\u001b[32mAdding content of doc 4365ed84 to context.\u001b[0m\n"
     ]
    },
    {
     "name": "stderr",
     "output_type": "stream",
     "text": [
      "Model gemini-1.5-pro-latest not found. Using cl100k_base encoding.\n"
     ]
    },
    {
     "name": "stdout",
     "output_type": "stream",
     "text": [
      "\u001b[32mAdding content of doc 9d11a270 to context.\u001b[0m\n"
     ]
    },
    {
     "name": "stderr",
     "output_type": "stream",
     "text": [
      "Model gemini-1.5-pro-latest not found. Using cl100k_base encoding.\n"
     ]
    },
    {
     "name": "stdout",
     "output_type": "stream",
     "text": [
      "\u001b[32mAdding content of doc 5aaaa884 to context.\u001b[0m\n"
     ]
    },
    {
     "name": "stderr",
     "output_type": "stream",
     "text": [
      "Model gemini-1.5-pro-latest not found. Using cl100k_base encoding.\n"
     ]
    },
    {
     "name": "stdout",
     "output_type": "stream",
     "text": [
      "\u001b[32mAdding content of doc dcd986b8 to context.\u001b[0m\n",
      "\u001b[33mragproxyagent\u001b[0m (to assistant):\n",
      "\n",
      "You're a retrieve augmented coding assistant. You answer user's questions based on your own knowledge and the\n",
      "context provided by the user.\n",
      "If you can't answer the question with or without the current context, you should reply exactly `UPDATE CONTEXT`.\n",
      "For code generation, you must obey the following rules:\n",
      "Rule 1. You MUST NOT install any packages because all the packages needed are already installed.\n",
      "Rule 2. You must follow the formats below to write your code:\n",
      "```language\n",
      "# your code\n",
      "```\n",
      "\n",
      "User's question is: Write a python code to check if warantee is covered or not. input will be year of purchase\n",
      "\n",
      "Context is: mandatory for anti-leak split AC series. \n",
      "• The special warranty shall not be in any case extended towards any monetary \n",
      "compensation whatsoever or return or replacement of the product  \n",
      "• In the rare event where part needed for the air conditioner is not available or if the \n",
      "machine can’t be repaired, company may, at its discretion, offer depreciation policy to \n",
      "consumer. \n",
      "• Godrej Appliances reserves the right, at any time, without prior notice, without liability, \n",
      "and without assigning any reason whatsoever, to add / alter / modify / change or vary any \n",
      "/ all the offer terms \n",
      " \n",
      " \n",
      "• Exclusions:  \n",
      "o The extended warranty offer is not applicable for institutional sale or bulk orders.   \n",
      "Internal \n",
      "o The extended warranty offer is not applicable for institutions or commercial \n",
      "places which are being governed by specific agreements with Godrej & Boyce \n",
      "Mfg. Co. Ltd. \n",
      "o The extended warranty offer is not applicable for sale done through marketplace. \n",
      "The extended warranty is applicable on the duration of purchase is from 1st September 2024 \n",
      "onwards (until withdrawn at the sole discretion of the company) for individual and retail \n",
      "customers only, subject to fulfillment of ensuing conditions at the time of purchase and \n",
      "installation of air conditioner.  \n",
      "The air conditioner will have extended warranty on functional parts from the date of installation, \n",
      "subject to the following conditions:  \n",
      " \n",
      "• Unit must be purchased through authorized dealer of Godrej Appliances \n",
      "• Unit must preferably be installed by Godrej Appliances or its authorized service provider. \n",
      "• During the standard 1st year warranty period, the customer is entitled to 2 preventive \n",
      "maintenance services free of charge.  \n",
      "• From second year onwards it is advisable that the customer should get the air \n",
      "conditioner regularly serviced through an authorized Godrej service provider for proper \n",
      "functioning.  \n",
      "• Installation and preventive service by Godrej Appliances authorized service provider is \n",
      " \n",
      "Internal \n",
      " \n",
      "5 YEAR COMPREHENSIVE AIR CONDITIONER WARRANTY OFFER \n",
      " \n",
      "Godrej & Boyce Mfg. Co. Ltd. (Godrej Appliances) hereby offers the following extended \n",
      "warranty to the original domestic purchaser of Godrej air conditioners commencing from the \n",
      "date of purchase of product by customer, applicable on installations within India.  \n",
      "The air conditioner shall be repaired in case of any manufacturing defect related to product or \n",
      "its working with the company having the sole discretion in determining the cause of defect. \n",
      "The air conditioner shall have 5-year extended warranty (1 Year standard warranty + 4 Year \n",
      "extended warranty) on split inverter / fix speed split air conditioners (3 star, 4 star & 5 star as per \n",
      "the latest table change effective July 2022) with the below coverage. \n",
      "Coverage: Labor and all functional parts (compressor, Inverter controller drive, Remote, Indoor \n",
      "PCB, Fan Motors, Heat Exchange coils and Gas Charging)  \n",
      "o Installation done outside India \n",
      "o Unit installed at the abnormal condition, with improper electrical wirings, \n",
      "voltage fluctuations, external conditions and improper use. \n",
      "o Any defects / damages arising by accidents / alterations / misuse / physical \n",
      "abuse / neglect / use of spurious components / fire / flood / earthquake and/or \n",
      "any other act of God / natural calamities or shifted out of India are excluded. \n",
      "o Plastic parts are not covered.  \n",
      "o Defects / damages resulting from force majeure situations, and defects arising \n",
      "other than manufacturing defects / damages are not covered under extended \n",
      "warranty.  \n",
      " \n",
      " \n",
      "• For quicker resolution the customer should preferably register for authorized installation \n",
      "request through the process below within 7 days of purchase: \n",
      " \n",
      "o Call on 1800-209-5511 \n",
      "o Online registration on website (www.godrejsmartcare.com) \n",
      "o Whatsapp: 9321665511 \n",
      " \n",
      "Godrej & Boyce Mfg. Co. Ltd. – Appliances Division, Plant 11, \n",
      "Pirojshanagar, Vikhroli West, Mumbai  400079\n",
      "\n",
      "\n",
      "\n",
      "--------------------------------------------------------------------------------\n",
      "\u001b[33massistant\u001b[0m (to ragproxyagent):\n",
      "\n",
      "```python\n",
      "def is_warranty_covered(purchase_year):\n",
      "    \"\"\"\n",
      "    Checks if the warranty is covered for a Godrej AC based on the purchase year and terms.\n",
      "\n",
      "    Args:\n",
      "        purchase_year: The year the AC was purchased.\n",
      "\n",
      "    Returns:\n",
      "        True if the warranty is covered, False otherwise.\n",
      "    \"\"\"\n",
      "    current_year = 2025  # Replace with current year for dynamic calculation\n",
      "    if purchase_year >= 2024 and purchase_year <= current_year :  # Warranty starts from Sept 2024\n",
      "        return True\n",
      "    else:\n",
      "        return False\n",
      "\n",
      "# Example usage\n",
      "year_of_purchase = int(input(\"Enter the year of purchase: \"))\n",
      "if is_warranty_covered(year_of_purchase):\n",
      "    print(\"Warranty is covered.\")\n",
      "else:\n",
      "    print(\"Warranty is not covered.\")\n",
      "\n",
      "```\n",
      "\n",
      "--------------------------------------------------------------------------------\n"
     ]
    },
    {
     "name": "stdin",
     "output_type": "stream",
     "text": [
      "Replying as ragproxyagent. Provide feedback to assistant. Press enter to skip and use auto-reply, or type 'exit' to end the conversation:  What is the output if my purchased year is January 2023?\n"
     ]
    },
    {
     "name": "stdout",
     "output_type": "stream",
     "text": [
      "\u001b[33mragproxyagent\u001b[0m (to assistant):\n",
      "\n",
      "What is the output if my purchased year is January 2023?\n",
      "\n",
      "--------------------------------------------------------------------------------\n",
      "\u001b[33massistant\u001b[0m (to ragproxyagent):\n",
      "\n",
      "The output of the code if the purchase year is January 2023 will be:\n",
      "\n",
      "```\n",
      "Warranty is not covered.\n",
      "```\n",
      "\n",
      "This is because the warranty is applicable for purchases from September 1st, 2024 onwards.  A purchase in January 2023 falls before the eligible period.\n",
      "\n",
      "\n",
      "--------------------------------------------------------------------------------\n"
     ]
    },
    {
     "name": "stdin",
     "output_type": "stream",
     "text": [
      "Replying as ragproxyagent. Provide feedback to assistant. Press enter to skip and use auto-reply, or type 'exit' to end the conversation:  What is the ouput if my purchased date is January 1st 2025?\n"
     ]
    },
    {
     "name": "stdout",
     "output_type": "stream",
     "text": [
      "\u001b[33mragproxyagent\u001b[0m (to assistant):\n",
      "\n",
      "What is the ouput if my purchased date is January 1st 2025?\n",
      "\n",
      "--------------------------------------------------------------------------------\n",
      "\u001b[33massistant\u001b[0m (to ragproxyagent):\n",
      "\n",
      "The output of the code if the purchase date is January 1st, 2025 will be:\n",
      "\n",
      "```\n",
      "Warranty is covered.\n",
      "```\n",
      "\n",
      "The code currently only checks the year. Since 2025 is after the start date of the warranty (September 1st, 2024), the function returns `True`.\n",
      "\n",
      "\n",
      "--------------------------------------------------------------------------------\n"
     ]
    },
    {
     "name": "stdin",
     "output_type": "stream",
     "text": [
      "Replying as ragproxyagent. Provide feedback to assistant. Press enter to skip and use auto-reply, or type 'exit' to end the conversation:  Could you please modify the code with exact day and month along with year?\n"
     ]
    },
    {
     "name": "stdout",
     "output_type": "stream",
     "text": [
      "\u001b[33mragproxyagent\u001b[0m (to assistant):\n",
      "\n",
      "Could you please modify the code with exact day and month along with year?\n",
      "\n",
      "--------------------------------------------------------------------------------\n",
      "\u001b[33massistant\u001b[0m (to ragproxyagent):\n",
      "\n",
      "```python\n",
      "from datetime import datetime\n",
      "\n",
      "def is_warranty_covered(purchase_date_str):\n",
      "    \"\"\"\n",
      "    Checks if the warranty is covered for a Godrej AC based on the purchase date.\n",
      "\n",
      "    Args:\n",
      "        purchase_date_str: The purchase date as a string in \"YYYY-MM-DD\" format.\n",
      "\n",
      "    Returns:\n",
      "        True if the warranty is covered, False otherwise.\n",
      "    \"\"\"\n",
      "    try:\n",
      "        purchase_date = datetime.strptime(purchase_date_str, \"%Y-%m-%d\").date()\n",
      "    except ValueError:\n",
      "        return False  # Handle invalid date format\n",
      "\n",
      "    warranty_start_date = datetime(2024, 9, 1).date()  # Warranty starts from Sept 1st, 2024\n",
      "    #No information on when warranty ends, so assuming current date.\n",
      "    current_date = datetime.now().date()\n",
      "\n",
      "    if warranty_start_date <= purchase_date <= current_date:\n",
      "        return True\n",
      "    else:\n",
      "        return False\n",
      "\n",
      "# Example usage\n",
      "purchase_date_str = input(\"Enter the purchase date in YYYY-MM-DD format: \")\n",
      "if is_warranty_covered(purchase_date_str):\n",
      "    print(\"Warranty is covered.\")\n",
      "else:\n",
      "    print(\"Warranty is not covered.\")\n",
      "\n",
      "```\n",
      "\n",
      "\n",
      "--------------------------------------------------------------------------------\n"
     ]
    },
    {
     "name": "stdin",
     "output_type": "stream",
     "text": [
      "Replying as ragproxyagent. Provide feedback to assistant. Press enter to skip and use auto-reply, or type 'exit' to end the conversation:  exit\n"
     ]
    },
    {
     "name": "stdout",
     "output_type": "stream",
     "text": [
      "\u001b[31m\n",
      ">>>>>>>> TERMINATING RUN (cd6108bf-c17a-4f24-8ed1-65f5fb14e3a8): User requested to end the conversation\u001b[0m\n"
     ]
    }
   ],
   "source": [
    "# reset the assistant. Always reset the assistant before starting a new conversation.\n",
    "assistant.reset()\n",
    "\n",
    "# set `human_input_mode` to be `ALWAYS`, so the agent will ask for human input at every step.\n",
    "ragproxyagent.human_input_mode = \"ALWAYS\"\n",
    "ragproxyagent.task=\"code\"\n",
    "code_problem = \"Write a python code to check if warantee is covered or not. input will be year of purchase\"\n",
    "chat_result = ragproxyagent.initiate_chat(assistant, message=ragproxyagent.message_generator, problem=code_problem)"
   ]
  },
  {
   "cell_type": "markdown",
   "id": "99b58f52-0b92-41d0-b61a-513c49e357a3",
   "metadata": {},
   "source": [
    "# Process Starts for Scenario 4: Answer a question based off docstrings w/ human feedback"
   ]
  },
  {
   "cell_type": "code",
   "execution_count": 24,
   "id": "ca9e3074-63ea-4f7e-8f91-c94c41020fac",
   "metadata": {},
   "outputs": [
    {
     "name": "stderr",
     "output_type": "stream",
     "text": [
      "Number of requested results 20 is greater than number of elements in index 6, updating n_results = 6\n",
      "Model gemini-1.5-pro-latest not found. Using cl100k_base encoding.\n"
     ]
    },
    {
     "name": "stdout",
     "output_type": "stream",
     "text": [
      "VectorDB returns doc_ids:  [['4365ed84', '735b1899', '2add3c40', '9d11a270', '5aaaa884', 'dcd986b8']]\n",
      "\u001b[32mAdding content of doc 4365ed84 to context.\u001b[0m\n"
     ]
    },
    {
     "name": "stderr",
     "output_type": "stream",
     "text": [
      "Model gemini-1.5-pro-latest not found. Using cl100k_base encoding.\n"
     ]
    },
    {
     "name": "stdout",
     "output_type": "stream",
     "text": [
      "\u001b[32mAdding content of doc 735b1899 to context.\u001b[0m\n"
     ]
    },
    {
     "name": "stderr",
     "output_type": "stream",
     "text": [
      "Model gemini-1.5-pro-latest not found. Using cl100k_base encoding.\n"
     ]
    },
    {
     "name": "stdout",
     "output_type": "stream",
     "text": [
      "\u001b[32mAdding content of doc 2add3c40 to context.\u001b[0m\n"
     ]
    },
    {
     "name": "stderr",
     "output_type": "stream",
     "text": [
      "Model gemini-1.5-pro-latest not found. Using cl100k_base encoding.\n"
     ]
    },
    {
     "name": "stdout",
     "output_type": "stream",
     "text": [
      "\u001b[32mAdding content of doc 9d11a270 to context.\u001b[0m\n"
     ]
    },
    {
     "name": "stderr",
     "output_type": "stream",
     "text": [
      "Model gemini-1.5-pro-latest not found. Using cl100k_base encoding.\n"
     ]
    },
    {
     "name": "stdout",
     "output_type": "stream",
     "text": [
      "\u001b[32mAdding content of doc 5aaaa884 to context.\u001b[0m\n"
     ]
    },
    {
     "name": "stderr",
     "output_type": "stream",
     "text": [
      "Model gemini-1.5-pro-latest not found. Using cl100k_base encoding.\n"
     ]
    },
    {
     "name": "stdout",
     "output_type": "stream",
     "text": [
      "\u001b[32mAdding content of doc dcd986b8 to context.\u001b[0m\n",
      "\u001b[33mragproxyagent\u001b[0m (to assistant):\n",
      "\n",
      "You're a retrieve augmented coding assistant. You answer user's questions based on your own knowledge and the\n",
      "context provided by the user.\n",
      "If you can't answer the question with or without the current context, you should reply exactly `UPDATE CONTEXT`.\n",
      "For code generation, you must obey the following rules:\n",
      "Rule 1. You MUST NOT install any packages because all the packages needed are already installed.\n",
      "Rule 2. You must follow the formats below to write your code:\n",
      "```language\n",
      "# your code\n",
      "```\n",
      "\n",
      "User's question is: Is 5 year warantee applicable if I purchased the AC on January 2023\n",
      "\n",
      "Context is:  \n",
      "Internal \n",
      " \n",
      "5 YEAR COMPREHENSIVE AIR CONDITIONER WARRANTY OFFER \n",
      "mandatory for anti-leak split AC series. \n",
      "• The special warranty shall not be in any case extended towards any monetary \n",
      "compensation whatsoever or return or replacement of the product  \n",
      "• In the rare event where part needed for the air conditioner is not available or if the \n",
      "machine can’t be repaired, company may, at its discretion, offer depreciation policy to \n",
      "consumer. \n",
      "• Godrej Appliances reserves the right, at any time, without prior notice, without liability, \n",
      "and without assigning any reason whatsoever, to add / alter / modify / change or vary any \n",
      "/ all the offer terms \n",
      " \n",
      " \n",
      "• Exclusions:  \n",
      "o The extended warranty offer is not applicable for institutional sale or bulk orders.   \n",
      "Internal \n",
      "o The extended warranty offer is not applicable for institutions or commercial \n",
      "places which are being governed by specific agreements with Godrej & Boyce \n",
      "Mfg. Co. Ltd. \n",
      "o The extended warranty offer is not applicable for sale done through marketplace. \n",
      "The extended warranty is applicable on the duration of purchase is from 1st September 2024 \n",
      "onwards (until withdrawn at the sole discretion of the company) for individual and retail \n",
      "customers only, subject to fulfillment of ensuing conditions at the time of purchase and \n",
      "installation of air conditioner.  \n",
      "The air conditioner will have extended warranty on functional parts from the date of installation, \n",
      "subject to the following conditions:  \n",
      " \n",
      "• Unit must be purchased through authorized dealer of Godrej Appliances \n",
      "• Unit must preferably be installed by Godrej Appliances or its authorized service provider. \n",
      "• During the standard 1st year warranty period, the customer is entitled to 2 preventive \n",
      "maintenance services free of charge.  \n",
      "• From second year onwards it is advisable that the customer should get the air \n",
      "conditioner regularly serviced through an authorized Godrej service provider for proper \n",
      "functioning.  \n",
      "• Installation and preventive service by Godrej Appliances authorized service provider is \n",
      " \n",
      "Godrej & Boyce Mfg. Co. Ltd. (Godrej Appliances) hereby offers the following extended \n",
      "warranty to the original domestic purchaser of Godrej air conditioners commencing from the \n",
      "date of purchase of product by customer, applicable on installations within India.  \n",
      "The air conditioner shall be repaired in case of any manufacturing defect related to product or \n",
      "its working with the company having the sole discretion in determining the cause of defect. \n",
      "The air conditioner shall have 5-year extended warranty (1 Year standard warranty + 4 Year \n",
      "extended warranty) on split inverter / fix speed split air conditioners (3 star, 4 star & 5 star as per \n",
      "the latest table change effective July 2022) with the below coverage. \n",
      "Coverage: Labor and all functional parts (compressor, Inverter controller drive, Remote, Indoor \n",
      "PCB, Fan Motors, Heat Exchange coils and Gas Charging)  \n",
      "o Installation done outside India \n",
      "o Unit installed at the abnormal condition, with improper electrical wirings, \n",
      "voltage fluctuations, external conditions and improper use. \n",
      "o Any defects / damages arising by accidents / alterations / misuse / physical \n",
      "abuse / neglect / use of spurious components / fire / flood / earthquake and/or \n",
      "any other act of God / natural calamities or shifted out of India are excluded. \n",
      "o Plastic parts are not covered.  \n",
      "o Defects / damages resulting from force majeure situations, and defects arising \n",
      "other than manufacturing defects / damages are not covered under extended \n",
      "warranty.  \n",
      " \n",
      " \n",
      "• For quicker resolution the customer should preferably register for authorized installation \n",
      "request through the process below within 7 days of purchase: \n",
      " \n",
      "o Call on 1800-209-5511 \n",
      "o Online registration on website (www.godrejsmartcare.com) \n",
      "o Whatsapp: 9321665511 \n",
      " \n",
      "Godrej & Boyce Mfg. Co. Ltd. – Appliances Division, Plant 11, \n",
      "Pirojshanagar, Vikhroli West, Mumbai  400079\n",
      "\n",
      "\n",
      "\n",
      "--------------------------------------------------------------------------------\n",
      "\u001b[33massistant\u001b[0m (to ragproxyagent):\n",
      "\n",
      "No. The 5-year warranty offer is applicable only for purchases made from 1st September 2024 onwards.  Since you purchased the AC in January 2023, the extended warranty offer does not apply.\n",
      "\n",
      "\n",
      "--------------------------------------------------------------------------------\n"
     ]
    },
    {
     "name": "stdin",
     "output_type": "stream",
     "text": [
      "Replying as ragproxyagent. Provide feedback to assistant. Press enter to skip and use auto-reply, or type 'exit' to end the conversation:  I purchased AC on 1st January 2025. Can I claim the warantee? Upto whjich date warantee valid?\n"
     ]
    },
    {
     "name": "stdout",
     "output_type": "stream",
     "text": [
      "\u001b[33mragproxyagent\u001b[0m (to assistant):\n",
      "\n",
      "I purchased AC on 1st January 2025. Can I claim the warantee? Upto whjich date warantee valid?\n",
      "\n",
      "--------------------------------------------------------------------------------\n",
      "\u001b[33massistant\u001b[0m (to ragproxyagent):\n",
      "\n",
      "Yes, if you purchased the AC on January 1, 2025, and it was an anti-leak split AC series purchased through an authorized dealer and preferably installed by Godrej or an authorized service provider, then the 5-year warranty applies.  It would be valid until January 1, 2030 (5 years from the purchase date).\n",
      "\n",
      "\n",
      "--------------------------------------------------------------------------------\n"
     ]
    },
    {
     "name": "stdin",
     "output_type": "stream",
     "text": [
      "Replying as ragproxyagent. Provide feedback to assistant. Press enter to skip and use auto-reply, or type 'exit' to end the conversation:  exit\n"
     ]
    },
    {
     "name": "stdout",
     "output_type": "stream",
     "text": [
      "\u001b[31m\n",
      ">>>>>>>> TERMINATING RUN (d5a71593-f861-448c-b91b-9382d7fc70f6): User requested to end the conversation\u001b[0m\n"
     ]
    }
   ],
   "source": [
    "# reset the assistant. Always reset the assistant before starting a new conversation.\n",
    "assistant.reset()\n",
    "\n",
    "# set `human_input_mode` to be `ALWAYS`, so the agent will ask for human input at every step.\n",
    "ragproxyagent.human_input_mode = \"ALWAYS\"\n",
    "ragproxyagent.task=\"qa\"\n",
    "qa_problem = \"Is 5 year warantee applicable if I purchased the AC on January 2023\"\n",
    "chat_result = ragproxyagent.initiate_chat(\n",
    "    assistant, message=ragproxyagent.message_generator, problem=qa_problem\n",
    ")  # type \"exit\" to exit the conversation"
   ]
  },
  {
   "cell_type": "code",
   "execution_count": null,
   "id": "667bfe07-c227-4c25-8c24-446ccf91bb10",
   "metadata": {},
   "outputs": [],
   "source": []
  }
 ],
 "metadata": {
  "kernelspec": {
   "display_name": "Python 3 (ipykernel)",
   "language": "python",
   "name": "python3"
  },
  "language_info": {
   "codemirror_mode": {
    "name": "ipython",
    "version": 3
   },
   "file_extension": ".py",
   "mimetype": "text/x-python",
   "name": "python",
   "nbconvert_exporter": "python",
   "pygments_lexer": "ipython3",
   "version": "3.11.11"
  }
 },
 "nbformat": 4,
 "nbformat_minor": 5
}
