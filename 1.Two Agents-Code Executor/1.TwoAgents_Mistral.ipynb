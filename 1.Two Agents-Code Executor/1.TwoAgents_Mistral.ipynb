{
 "cells": [
  {
   "cell_type": "code",
   "execution_count": 1,
   "id": "aeca920d-3020-47ec-a787-ef805be0a7e9",
   "metadata": {},
   "outputs": [
    {
     "data": {
      "text/plain": [
       "'0.8.3'"
      ]
     },
     "execution_count": 1,
     "metadata": {},
     "output_type": "execute_result"
    }
   ],
   "source": [
    "import autogen\n",
    "autogen.__version__"
   ]
  },
  {
   "cell_type": "code",
   "execution_count": 2,
   "id": "d2603c61-ef0a-451a-8ffe-39d054231dc6",
   "metadata": {},
   "outputs": [],
   "source": [
    "#!pip install agentops\n",
    "#!pip install autogen\n",
    "#!pip install mistralai"
   ]
  },
  {
   "cell_type": "code",
   "execution_count": 3,
   "id": "fe420b9c-97de-4b43-8a27-ec8b9ecee178",
   "metadata": {},
   "outputs": [],
   "source": [
    "#import agentops\n",
    "#agentops.init(\"Put your key\")\n"
   ]
  },
  {
   "cell_type": "code",
   "execution_count": 4,
   "id": "30806c12-83ee-491e-a4c4-3e3588516dfc",
   "metadata": {},
   "outputs": [],
   "source": [
    "from pathlib import Path\n",
    "\n",
    "from autogen import ConversableAgent\n",
    "from autogen.coding import  CodeBlock, LocalCommandLineCodeExecutor\n",
    "work_dir = Path(\"coding\")\n",
    "work_dir.mkdir(exist_ok=True)\n",
    "\n",
    "executor = LocalCommandLineCodeExecutor(work_dir=work_dir)\n",
    "\n",
    "#Agent 1\n",
    "code_executor_agent = ConversableAgent(\n",
    "    name=\"code_executor_agent\",\n",
    "    llm_config=False,\n",
    "    code_execution_config={\n",
    "        \"executor\": executor,\n",
    "    },\n",
    "    human_input_mode=\"NEVER\",\n",
    ")"
   ]
  },
  {
   "cell_type": "code",
   "execution_count": 5,
   "id": "0ff51275-3922-45f2-8a6d-b7474a4fe0c8",
   "metadata": {},
   "outputs": [],
   "source": [
    "# The code writer agent's system message is to instruct the LLM on how to\n",
    "# use the Jupyter code executor with IPython kernel.\n",
    "code_writer_system_message = \"\"\"\n",
    "You have been given coding capability to solve tasks using Python code.\n",
    "In the following cases, suggest python code (in a python coding block) or shell script (in a sh coding block) for the user \n",
    "to execute.\n",
    "    1. When you need to collect info, use the code to output the info you need, for example, browse or search the web, \n",
    "    download/read a file, \n",
    "    print the content of a webpage or a file, get the current date/time, check the operating system. After sufficient \n",
    "    info is printed and the \n",
    "    task is ready to be solved based on your language skill, you can solve the task by yourself.\n",
    "    2. When you need to perform some task with code, use the code to perform the task and output the result. Finish the\n",
    "    task smartly.\n",
    "Solve the task step by step if you need to. If a plan is not provided, explain your plan first. Be clear which step uses \n",
    "code, and which step uses your \n",
    "language skill.When using code, you must indicate the script type in the code block. The user cannot provide any other\n",
    "feedback or perform any other \n",
    "action beyond executing the code you suggest. The user can't modify your code. So do not suggest incomplete code which\n",
    "requires users to modify. \n",
    "Don't use a code block if it's not intended to be executed by the user.\n",
    "If you want the user to save the code in a file before executing it, put # filename: <filename> inside the code block \n",
    "as the first line. Don't include multiple code blocks in one response. Do not ask users to copy and paste the result. \n",
    "Instead, use 'print' function for the output when relevant. Check the execution result returned by the user.\n",
    "\"\"\"\n",
    "\n",
    "import os\n",
    "api_key = os.environ[\"MISTRAL_API_KEY\"]\n",
    "\n",
    "#Agent 2\n",
    "\n",
    "code_writer_agent = ConversableAgent(\n",
    "    \"code_writer\",\n",
    "    system_message=code_writer_system_message,\n",
    "    llm_config={\"config_list\": [{\"model\": \"mistral-large-latest\", \"api_key\":api_key,\"api_type\": \"mistral\"}]},\n",
    "    code_execution_config=False,  # Turn off code execution for this agent.\n",
    "    max_consecutive_auto_reply=2,\n",
    "    human_input_mode=\"NEVER\",\n",
    ")"
   ]
  },
  {
   "cell_type": "code",
   "execution_count": 7,
   "id": "2ae1ae8c-42ba-4c88-ac3d-2be110638655",
   "metadata": {},
   "outputs": [
    {
     "name": "stdout",
     "output_type": "stream",
     "text": [
      "\u001b[33mcode_executor_agent\u001b[0m (to code_writer):\n",
      "\n",
      " write python code for permutation for the word ALGEbRA. use optimised way to calculate it .I want final result count.\n",
      "\n",
      "--------------------------------------------------------------------------------\n",
      "\u001b[33mcode_writer\u001b[0m (to code_executor_agent):\n",
      "\n",
      "To solve this task, we need to generate all permutations of the word \"ALGEbRA\" and count them. Given that the word has repeated characters, we should use an optimized approach to avoid generating duplicate permutations.\n",
      "\n",
      "Here's the plan:\n",
      "1. Use Python's `itertools.permutations` to generate all possible permutations of the string.\n",
      "2. Convert the permutations to a set to remove duplicates.\n",
      "3. Count the number of unique permutations.\n",
      "\n",
      "Let's write the Python code to achieve this:\n",
      "\n",
      "```python\n",
      "# filename: permutations_count.py\n",
      "import itertools\n",
      "\n",
      "def count_permutations(word):\n",
      "    # Generate all permutations\n",
      "    permutations = itertools.permutations(word)\n",
      "    # Convert to a set to remove duplicates\n",
      "    unique_permutations = set(permutations)\n",
      "    # Count the number of unique permutations\n",
      "    count = len(unique_permutations)\n",
      "    print(f\"The number of unique permutations of the word '{word}' is: {count}\")\n",
      "\n",
      "# Word to permute\n",
      "word = \"ALGEbRA\"\n",
      "count_permutations(word)\n",
      "```\n",
      "\n",
      "Please save the above code in a file named `permutations_count.py` and execute it. The code will output the count of unique permutations of the word \"ALGEbRA\".\n",
      "\n",
      "--------------------------------------------------------------------------------\n",
      "\u001b[31m\n",
      ">>>>>>>> EXECUTING CODE BLOCK (inferred language is python)...\u001b[0m\n",
      "\u001b[33mcode_executor_agent\u001b[0m (to code_writer):\n",
      "\n",
      "exitcode: 0 (execution succeeded)\n",
      "Code output: The number of unique permutations of the word 'ALGEbRA' is: 2520\n",
      "\n",
      "\n",
      "--------------------------------------------------------------------------------\n",
      "\u001b[33mcode_writer\u001b[0m (to code_executor_agent):\n",
      "\n",
      "The Python code has successfully executed and provided the count of unique permutations for the word \"ALGEbRA\". The number of unique permutations is 2520.\n",
      "\n",
      "The task is now complete. If you have any other tasks or need further assistance, feel free to ask!\n",
      "\n",
      "--------------------------------------------------------------------------------\n",
      "\u001b[33mcode_executor_agent\u001b[0m (to code_writer):\n",
      "\n",
      "\n",
      "\n",
      "--------------------------------------------------------------------------------\n",
      "\u001b[31m\n",
      ">>>>>>>> TERMINATING RUN (14aa7c0e-68d6-450c-92c1-0a37d99cd4c5): Maximum number of consecutive auto-replies reached\u001b[0m\n",
      "ChatResult(chat_id=None,\n",
      "           chat_history=[{'content': ' write python code for permutation for '\n",
      "                                     'the word ALGEbRA. use optimised way to '\n",
      "                                     'calculate it .I want final result count.',\n",
      "                          'name': 'code_executor_agent',\n",
      "                          'role': 'assistant'},\n",
      "                         {'content': 'To solve this task, we need to generate '\n",
      "                                     'all permutations of the word \"ALGEbRA\" '\n",
      "                                     'and count them. Given that the word has '\n",
      "                                     'repeated characters, we should use an '\n",
      "                                     'optimized approach to avoid generating '\n",
      "                                     'duplicate permutations.\\n'\n",
      "                                     '\\n'\n",
      "                                     \"Here's the plan:\\n\"\n",
      "                                     \"1. Use Python's `itertools.permutations` \"\n",
      "                                     'to generate all possible permutations of '\n",
      "                                     'the string.\\n'\n",
      "                                     '2. Convert the permutations to a set to '\n",
      "                                     'remove duplicates.\\n'\n",
      "                                     '3. Count the number of unique '\n",
      "                                     'permutations.\\n'\n",
      "                                     '\\n'\n",
      "                                     \"Let's write the Python code to achieve \"\n",
      "                                     'this:\\n'\n",
      "                                     '\\n'\n",
      "                                     '```python\\n'\n",
      "                                     '# filename: permutations_count.py\\n'\n",
      "                                     'import itertools\\n'\n",
      "                                     '\\n'\n",
      "                                     'def count_permutations(word):\\n'\n",
      "                                     '    # Generate all permutations\\n'\n",
      "                                     '    permutations = '\n",
      "                                     'itertools.permutations(word)\\n'\n",
      "                                     '    # Convert to a set to remove '\n",
      "                                     'duplicates\\n'\n",
      "                                     '    unique_permutations = '\n",
      "                                     'set(permutations)\\n'\n",
      "                                     '    # Count the number of unique '\n",
      "                                     'permutations\\n'\n",
      "                                     '    count = len(unique_permutations)\\n'\n",
      "                                     '    print(f\"The number of unique '\n",
      "                                     \"permutations of the word '{word}' is: \"\n",
      "                                     '{count}\")\\n'\n",
      "                                     '\\n'\n",
      "                                     '# Word to permute\\n'\n",
      "                                     'word = \"ALGEbRA\"\\n'\n",
      "                                     'count_permutations(word)\\n'\n",
      "                                     '```\\n'\n",
      "                                     '\\n'\n",
      "                                     'Please save the above code in a file '\n",
      "                                     'named `permutations_count.py` and '\n",
      "                                     'execute it. The code will output the '\n",
      "                                     'count of unique permutations of the word '\n",
      "                                     '\"ALGEbRA\".',\n",
      "                          'name': 'code_writer',\n",
      "                          'role': 'user'},\n",
      "                         {'content': 'exitcode: 0 (execution succeeded)\\n'\n",
      "                                     'Code output: The number of unique '\n",
      "                                     \"permutations of the word 'ALGEbRA' is: \"\n",
      "                                     '2520\\n',\n",
      "                          'name': 'code_executor_agent',\n",
      "                          'role': 'assistant'},\n",
      "                         {'content': 'The Python code has successfully '\n",
      "                                     'executed and provided the count of '\n",
      "                                     'unique permutations for the word '\n",
      "                                     '\"ALGEbRA\". The number of unique '\n",
      "                                     'permutations is 2520.\\n'\n",
      "                                     '\\n'\n",
      "                                     'The task is now complete. If you have '\n",
      "                                     'any other tasks or need further '\n",
      "                                     'assistance, feel free to ask!',\n",
      "                          'name': 'code_writer',\n",
      "                          'role': 'user'},\n",
      "                         {'content': '',\n",
      "                          'name': 'code_executor_agent',\n",
      "                          'role': 'assistant'}],\n",
      "           summary='',\n",
      "           cost={'usage_excluding_cached_inference': {'mistral-large-latest': {'completion_tokens': 386,\n",
      "                                                                               'cost': 0.0004829999999999999,\n",
      "                                                                               'prompt_tokens': 1224,\n",
      "                                                                               'total_tokens': 1610},\n",
      "                                                      'total_cost': 0.0004829999999999999},\n",
      "                 'usage_including_cached_inference': {'mistral-large-latest': {'completion_tokens': 772,\n",
      "                                                                               'cost': 0.0009659999999999998,\n",
      "                                                                               'prompt_tokens': 2448,\n",
      "                                                                               'total_tokens': 3220},\n",
      "                                                      'total_cost': 0.0009659999999999998}},\n",
      "           human_input=[])\n"
     ]
    }
   ],
   "source": [
    "import pprint\n",
    "\n",
    "chat_result = code_executor_agent.initiate_chat(\n",
    "    code_writer_agent, message=\" write python code for permutation for the word ALGEbRA. use optimised way to calculate it .I want final result count.\"\n",
    ")\n",
    "\n",
    "pprint.pprint(chat_result)\n",
    "#agentops.end_session(\"Success\")"
   ]
  },
  {
   "cell_type": "code",
   "execution_count": 8,
   "id": "5148f5e1-7290-464e-9b95-b1fff71d5595",
   "metadata": {},
   "outputs": [
    {
     "data": {
      "text/plain": [
       "['__annotations__',\n",
       " '__class__',\n",
       " '__dataclass_fields__',\n",
       " '__dataclass_params__',\n",
       " '__delattr__',\n",
       " '__dict__',\n",
       " '__dir__',\n",
       " '__doc__',\n",
       " '__eq__',\n",
       " '__format__',\n",
       " '__ge__',\n",
       " '__getattribute__',\n",
       " '__getstate__',\n",
       " '__gt__',\n",
       " '__hash__',\n",
       " '__init__',\n",
       " '__init_subclass__',\n",
       " '__le__',\n",
       " '__lt__',\n",
       " '__match_args__',\n",
       " '__module__',\n",
       " '__ne__',\n",
       " '__new__',\n",
       " '__reduce__',\n",
       " '__reduce_ex__',\n",
       " '__repr__',\n",
       " '__setattr__',\n",
       " '__sizeof__',\n",
       " '__str__',\n",
       " '__subclasshook__',\n",
       " '__weakref__',\n",
       " 'chat_history',\n",
       " 'chat_id',\n",
       " 'cost',\n",
       " 'human_input',\n",
       " 'summary']"
      ]
     },
     "execution_count": 8,
     "metadata": {},
     "output_type": "execute_result"
    }
   ],
   "source": [
    "dir(chat_result)\n"
   ]
  },
  {
   "cell_type": "code",
   "execution_count": 9,
   "id": "9b8a1ec8-8aca-4aee-a6c6-add1ca8dfc85",
   "metadata": {},
   "outputs": [
    {
     "data": {
      "text/plain": [
       "[{'content': ' write python code for permutation for the word ALGEbRA. use optimised way to calculate it .I want final result count.',\n",
       "  'role': 'assistant',\n",
       "  'name': 'code_executor_agent'},\n",
       " {'content': 'To solve this task, we need to generate all permutations of the word \"ALGEbRA\" and count them. Given that the word has repeated characters, we should use an optimized approach to avoid generating duplicate permutations.\\n\\nHere\\'s the plan:\\n1. Use Python\\'s `itertools.permutations` to generate all possible permutations of the string.\\n2. Convert the permutations to a set to remove duplicates.\\n3. Count the number of unique permutations.\\n\\nLet\\'s write the Python code to achieve this:\\n\\n```python\\n# filename: permutations_count.py\\nimport itertools\\n\\ndef count_permutations(word):\\n    # Generate all permutations\\n    permutations = itertools.permutations(word)\\n    # Convert to a set to remove duplicates\\n    unique_permutations = set(permutations)\\n    # Count the number of unique permutations\\n    count = len(unique_permutations)\\n    print(f\"The number of unique permutations of the word \\'{word}\\' is: {count}\")\\n\\n# Word to permute\\nword = \"ALGEbRA\"\\ncount_permutations(word)\\n```\\n\\nPlease save the above code in a file named `permutations_count.py` and execute it. The code will output the count of unique permutations of the word \"ALGEbRA\".',\n",
       "  'role': 'user',\n",
       "  'name': 'code_writer'},\n",
       " {'content': \"exitcode: 0 (execution succeeded)\\nCode output: The number of unique permutations of the word 'ALGEbRA' is: 2520\\n\",\n",
       "  'role': 'assistant',\n",
       "  'name': 'code_executor_agent'},\n",
       " {'content': 'The Python code has successfully executed and provided the count of unique permutations for the word \"ALGEbRA\". The number of unique permutations is 2520.\\n\\nThe task is now complete. If you have any other tasks or need further assistance, feel free to ask!',\n",
       "  'role': 'user',\n",
       "  'name': 'code_writer'},\n",
       " {'content': '', 'role': 'assistant', 'name': 'code_executor_agent'}]"
      ]
     },
     "execution_count": 9,
     "metadata": {},
     "output_type": "execute_result"
    }
   ],
   "source": [
    "chat_result.chat_history"
   ]
  },
  {
   "cell_type": "code",
   "execution_count": 10,
   "id": "af22aca1-3645-4234-897e-ca88924732f9",
   "metadata": {},
   "outputs": [],
   "source": [
    "chat_result.chat_id"
   ]
  },
  {
   "cell_type": "code",
   "execution_count": 11,
   "id": "ad79de7f-6ae5-40fe-bbc4-fba32d936b67",
   "metadata": {},
   "outputs": [
    {
     "data": {
      "text/plain": [
       "{'usage_including_cached_inference': {'total_cost': 0.0009659999999999998,\n",
       "  'mistral-large-latest': {'cost': 0.0009659999999999998,\n",
       "   'prompt_tokens': 2448,\n",
       "   'completion_tokens': 772,\n",
       "   'total_tokens': 3220}},\n",
       " 'usage_excluding_cached_inference': {'total_cost': 0.0004829999999999999,\n",
       "  'mistral-large-latest': {'cost': 0.0004829999999999999,\n",
       "   'prompt_tokens': 1224,\n",
       "   'completion_tokens': 386,\n",
       "   'total_tokens': 1610}}}"
      ]
     },
     "execution_count": 11,
     "metadata": {},
     "output_type": "execute_result"
    }
   ],
   "source": [
    "chat_result.cost"
   ]
  },
  {
   "cell_type": "code",
   "execution_count": 12,
   "id": "a63b28d5-ad61-4394-970f-a0e6f831653e",
   "metadata": {},
   "outputs": [
    {
     "data": {
      "text/plain": [
       "[]"
      ]
     },
     "execution_count": 12,
     "metadata": {},
     "output_type": "execute_result"
    }
   ],
   "source": [
    "chat_result.human_input"
   ]
  },
  {
   "cell_type": "code",
   "execution_count": 13,
   "id": "9f6e469d-4425-44ef-b531-027ee8104b2b",
   "metadata": {},
   "outputs": [
    {
     "data": {
      "text/plain": [
       "''"
      ]
     },
     "execution_count": 13,
     "metadata": {},
     "output_type": "execute_result"
    }
   ],
   "source": [
    "chat_result.summary"
   ]
  },
  {
   "cell_type": "code",
   "execution_count": null,
   "id": "6828fb2e-c6ef-4ed6-9eaf-120851db488c",
   "metadata": {},
   "outputs": [],
   "source": []
  }
 ],
 "metadata": {
  "kernelspec": {
   "display_name": "Python 3 (ipykernel)",
   "language": "python",
   "name": "python3"
  },
  "language_info": {
   "codemirror_mode": {
    "name": "ipython",
    "version": 3
   },
   "file_extension": ".py",
   "mimetype": "text/x-python",
   "name": "python",
   "nbconvert_exporter": "python",
   "pygments_lexer": "ipython3",
   "version": "3.11.11"
  }
 },
 "nbformat": 4,
 "nbformat_minor": 5
}
