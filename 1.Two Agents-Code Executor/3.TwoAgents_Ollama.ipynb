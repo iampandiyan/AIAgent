{
 "cells": [
  {
   "cell_type": "code",
   "execution_count": 1,
   "id": "aeca920d-3020-47ec-a787-ef805be0a7e9",
   "metadata": {},
   "outputs": [
    {
     "data": {
      "text/plain": [
       "'0.8.3'"
      ]
     },
     "execution_count": 1,
     "metadata": {},
     "output_type": "execute_result"
    }
   ],
   "source": [
    "import autogen\n",
    "autogen.__version__"
   ]
  },
  {
   "cell_type": "code",
   "execution_count": 2,
   "id": "9324b50b-8c47-4396-ada9-b886a103ec5e",
   "metadata": {},
   "outputs": [],
   "source": [
    "#!pip install ollama fix-busted-json\n",
    "#Dowmload ollama\n",
    "#ollama pull llama3 -- Downloading purpose\n",
    "#ollama run llama3 -- Prompting\n",
    "#!pip install pyautogen[ollama] (0.4.7)"
   ]
  },
  {
   "cell_type": "code",
   "execution_count": 3,
   "id": "783881c3-6a49-4af7-971d-adbe255eb654",
   "metadata": {},
   "outputs": [],
   "source": [
    "#import agentops\n",
    "#agentops.init(\"yourkey\")"
   ]
  },
  {
   "cell_type": "code",
   "execution_count": 4,
   "id": "30806c12-83ee-491e-a4c4-3e3588516dfc",
   "metadata": {},
   "outputs": [],
   "source": [
    "from pathlib import Path\n",
    "\n",
    "from autogen import ConversableAgent\n",
    "from autogen.coding import  CodeBlock, LocalCommandLineCodeExecutor\n",
    "work_dir = Path(\"coding\")\n",
    "work_dir.mkdir(exist_ok=True)\n",
    "\n",
    "executor = LocalCommandLineCodeExecutor(work_dir=work_dir)\n",
    "\n",
    "#Agent 1\n",
    "code_executor_agent = ConversableAgent(\n",
    "    name=\"code_executor_agent\",\n",
    "    llm_config=False,\n",
    "    code_execution_config={\n",
    "        \"executor\": executor,\n",
    "    },\n",
    "    human_input_mode=\"NEVER\",\n",
    ")"
   ]
  },
  {
   "cell_type": "code",
   "execution_count": 5,
   "id": "ff1de663-2db1-44c4-9364-86a223db158a",
   "metadata": {},
   "outputs": [],
   "source": [
    "config_list = [\n",
    "    {\n",
    "        # Let's choose the Meta's Llama 3.1 model (model names must match Ollama exactly)\n",
    "        \"model\": \"llama3.1\",\n",
    "        # We specify the API Type as 'ollama' so it uses the Ollama client class\n",
    "        \"api_type\": \"ollama\",\n",
    "        \"stream\": False,\n",
    "        \"client_host\": \" http://localhost:11434\",\n",
    "    }\n",
    "]"
   ]
  },
  {
   "cell_type": "code",
   "execution_count": 6,
   "id": "0ff51275-3922-45f2-8a6d-b7474a4fe0c8",
   "metadata": {},
   "outputs": [],
   "source": [
    "# The code writer agent's system message is to instruct the LLM on how to\n",
    "# use the Jupyter code executor with IPython kernel.\n",
    "code_writer_system_message = \"\"\"\n",
    "You have been given coding capability to solve tasks using Python code.\n",
    "In the following cases, suggest python code (in a python coding block) or shell script (in a sh coding block) for the user to execute.\n",
    "    1. When you need to collect info, use the code to output the info you need, for example, browse or search the web, download/read a file, \n",
    "    print the content of a webpage or a file, get the current date/time, check the operating system. After sufficient info is printed and the \n",
    "    task is ready to be solved based on your language skill, you can solve the task by yourself.\n",
    "    2. When you need to perform some task with code, use the code to perform the task and output the result. Finish the task smartly.\n",
    "Solve the task step by step if you need to. If a plan is not provided, explain your plan first. Be clear which step uses code, and which step uses your \n",
    "language skill.When using code, you must indicate the script type in the code block. The user cannot provide any other feedback or perform any other \n",
    "action beyond executing the code you suggest. The user can't modify your code. So do not suggest incomplete code which requires users to modify. \n",
    "Don't use a code block if it's not intended to be executed by the user.\n",
    "If you want the user to save the code in a file before executing it, put # filename: <filename> inside the code block as the first line. Don't include multiple code blocks in one response. Do not ask users to copy and paste the result. Instead, use 'print' function for the output when relevant. Check the execution result returned by the user.\n",
    "\"\"\"\n",
    "\n",
    "import os\n",
    "\n",
    "#Agent 2\n",
    "\n",
    "code_writer_agent = ConversableAgent(\n",
    "    \"code_writer\",\n",
    "    system_message=code_writer_system_message,\n",
    "    llm_config={\"config_list\":config_list},\n",
    "    code_execution_config=False,  # Turn off code execution for this agent.\n",
    "    max_consecutive_auto_reply=2,\n",
    "    human_input_mode=\"NEVER\",\n",
    ")"
   ]
  },
  {
   "cell_type": "code",
   "execution_count": 7,
   "id": "2ae1ae8c-42ba-4c88-ac3d-2be110638655",
   "metadata": {},
   "outputs": [
    {
     "name": "stdout",
     "output_type": "stream",
     "text": [
      "\u001b[33mcode_executor_agent\u001b[0m (to code_writer):\n",
      "\n",
      "Write optimized Python code to calculate the number of unique permutations of the word 'ALGEBRA.'\n",
      "    For example, the word 'ALGEbRA' should have 2520 unique permutations. Use efficient logic to compute the result and verify the output using \n",
      "    the word 'ALGEBRA.' The code should only return the final permutation count.\n",
      "\n",
      "--------------------------------------------------------------------------------\n",
      "\u001b[33mcode_writer\u001b[0m (to code_executor_agent):\n",
      "\n",
      "```python\n",
      "# filename: permutation_count.py\n",
      "\n",
      "import math\n",
      "\n",
      "def factorial(n):\n",
      "    \"\"\"Calculate n!\"\"\"\n",
      "    if n == 0:\n",
      "        return 1\n",
      "    else:\n",
      "        return n * factorial(n-1)\n",
      "\n",
      "def unique_permutations(word):\n",
      "    \"\"\"Return the number of unique permutations of a word\"\"\"\n",
      "    # Convert to lower case and count frequency of each letter\n",
      "    freq = {}\n",
      "    for char in word.lower():\n",
      "        if char.isalpha():  # Ignore non-alphabetic characters\n",
      "            freq[char] = freq.get(char, 0) + 1\n",
      "\n",
      "    # Calculate the total number of permutations using factorials and division\n",
      "    num_permutations = math.factorial(len(word))\n",
      "    for count in freq.values():\n",
      "        num_permutations //= math.factorial(count)\n",
      "\n",
      "    return num_permutations\n",
      "\n",
      "\n",
      "print(unique_permutations('ALGEBRA'))\n",
      "```\n",
      "\n",
      "--------------------------------------------------------------------------------\n",
      "\u001b[31m\n",
      ">>>>>>>> EXECUTING CODE BLOCK (inferred language is python)...\u001b[0m\n",
      "\u001b[33mcode_executor_agent\u001b[0m (to code_writer):\n",
      "\n",
      "exitcode: 0 (execution succeeded)\n",
      "Code output: 2520\n",
      "\n",
      "\n",
      "--------------------------------------------------------------------------------\n",
      "\u001b[33mcode_writer\u001b[0m (to code_executor_agent):\n",
      "\n",
      "The code works as expected. The `unique_permutations` function first counts the frequency of each letter in the input word, then calculates the total number of permutations by dividing the factorial of the word length by the product of the factorials of the frequencies of each letter.\n",
      "\n",
      "This is an efficient approach because it avoids calculating unnecessary factorials and only divides them when necessary. The result matches the expected output of 2520 unique permutations for the input 'ALGEBRA'.\n",
      "\n",
      "--------------------------------------------------------------------------------\n",
      "\u001b[33mcode_executor_agent\u001b[0m (to code_writer):\n",
      "\n",
      "\n",
      "\n",
      "--------------------------------------------------------------------------------\n",
      "\u001b[31m\n",
      ">>>>>>>> TERMINATING RUN (9546c48a-7102-48e1-bc90-779386631a23): Maximum number of consecutive auto-replies reached\u001b[0m\n",
      "ChatResult(chat_id=None,\n",
      "           chat_history=[{'content': 'Write optimized Python code to calculate '\n",
      "                                     'the number of unique permutations of the '\n",
      "                                     \"word 'ALGEBRA.'\\n\"\n",
      "                                     \"    For example, the word 'ALGEbRA' \"\n",
      "                                     'should have 2520 unique permutations. '\n",
      "                                     'Use efficient logic to compute the '\n",
      "                                     'result and verify the output using \\n'\n",
      "                                     \"    the word 'ALGEBRA.' The code should \"\n",
      "                                     'only return the final permutation count.',\n",
      "                          'name': 'code_executor_agent',\n",
      "                          'role': 'assistant'},\n",
      "                         {'content': '```python\\n'\n",
      "                                     '# filename: permutation_count.py\\n'\n",
      "                                     '\\n'\n",
      "                                     'import math\\n'\n",
      "                                     '\\n'\n",
      "                                     'def factorial(n):\\n'\n",
      "                                     '    \"\"\"Calculate n!\"\"\"\\n'\n",
      "                                     '    if n == 0:\\n'\n",
      "                                     '        return 1\\n'\n",
      "                                     '    else:\\n'\n",
      "                                     '        return n * factorial(n-1)\\n'\n",
      "                                     '\\n'\n",
      "                                     'def unique_permutations(word):\\n'\n",
      "                                     '    \"\"\"Return the number of unique '\n",
      "                                     'permutations of a word\"\"\"\\n'\n",
      "                                     '    # Convert to lower case and count '\n",
      "                                     'frequency of each letter\\n'\n",
      "                                     '    freq = {}\\n'\n",
      "                                     '    for char in word.lower():\\n'\n",
      "                                     '        if char.isalpha():  # Ignore '\n",
      "                                     'non-alphabetic characters\\n'\n",
      "                                     '            freq[char] = freq.get(char, '\n",
      "                                     '0) + 1\\n'\n",
      "                                     '\\n'\n",
      "                                     '    # Calculate the total number of '\n",
      "                                     'permutations using factorials and '\n",
      "                                     'division\\n'\n",
      "                                     '    num_permutations = '\n",
      "                                     'math.factorial(len(word))\\n'\n",
      "                                     '    for count in freq.values():\\n'\n",
      "                                     '        num_permutations //= '\n",
      "                                     'math.factorial(count)\\n'\n",
      "                                     '\\n'\n",
      "                                     '    return num_permutations\\n'\n",
      "                                     '\\n'\n",
      "                                     '\\n'\n",
      "                                     \"print(unique_permutations('ALGEBRA'))\\n\"\n",
      "                                     '```',\n",
      "                          'name': 'code_writer',\n",
      "                          'role': 'user'},\n",
      "                         {'content': 'exitcode: 0 (execution succeeded)\\n'\n",
      "                                     'Code output: 2520\\n',\n",
      "                          'name': 'code_executor_agent',\n",
      "                          'role': 'assistant'},\n",
      "                         {'content': 'The code works as expected. The '\n",
      "                                     '`unique_permutations` function first '\n",
      "                                     'counts the frequency of each letter in '\n",
      "                                     'the input word, then calculates the '\n",
      "                                     'total number of permutations by dividing '\n",
      "                                     'the factorial of the word length by the '\n",
      "                                     'product of the factorials of the '\n",
      "                                     'frequencies of each letter.\\n'\n",
      "                                     '\\n'\n",
      "                                     'This is an efficient approach because it '\n",
      "                                     'avoids calculating unnecessary '\n",
      "                                     'factorials and only divides them when '\n",
      "                                     'necessary. The result matches the '\n",
      "                                     'expected output of 2520 unique '\n",
      "                                     \"permutations for the input 'ALGEBRA'.\",\n",
      "                          'name': 'code_writer',\n",
      "                          'role': 'user'},\n",
      "                         {'content': '',\n",
      "                          'name': 'code_executor_agent',\n",
      "                          'role': 'assistant'}],\n",
      "           summary='',\n",
      "           cost={'usage_excluding_cached_inference': {'llama3.1': {'completion_tokens': 275,\n",
      "                                                                   'cost': 0.0,\n",
      "                                                                   'prompt_tokens': 1081,\n",
      "                                                                   'total_tokens': 1356},\n",
      "                                                      'total_cost': 0.0},\n",
      "                 'usage_including_cached_inference': {'llama3.1': {'completion_tokens': 275,\n",
      "                                                                   'cost': 0.0,\n",
      "                                                                   'prompt_tokens': 1081,\n",
      "                                                                   'total_tokens': 1356},\n",
      "                                                      'total_cost': 0.0}},\n",
      "           human_input=[])\n"
     ]
    }
   ],
   "source": [
    "import pprint\n",
    "\n",
    "chat_result = code_executor_agent.initiate_chat(\n",
    "    code_writer_agent, message=\"\"\"Write optimized Python code to calculate the number of unique permutations of the word 'ALGEBRA.'\n",
    "    For example, the word 'ALGEbRA' should have 2520 unique permutations. Use efficient logic to compute the result and verify the output using \n",
    "    the word 'ALGEBRA.' The code should only return the final permutation count.\"\"\"\n",
    ")\n",
    "\n",
    "pprint.pprint(chat_result)\n",
    "#agentops.end_session(\"Success\")"
   ]
  },
  {
   "cell_type": "code",
   "execution_count": 8,
   "id": "5148f5e1-7290-464e-9b95-b1fff71d5595",
   "metadata": {},
   "outputs": [
    {
     "data": {
      "text/plain": [
       "['__annotations__',\n",
       " '__class__',\n",
       " '__dataclass_fields__',\n",
       " '__dataclass_params__',\n",
       " '__delattr__',\n",
       " '__dict__',\n",
       " '__dir__',\n",
       " '__doc__',\n",
       " '__eq__',\n",
       " '__format__',\n",
       " '__ge__',\n",
       " '__getattribute__',\n",
       " '__getstate__',\n",
       " '__gt__',\n",
       " '__hash__',\n",
       " '__init__',\n",
       " '__init_subclass__',\n",
       " '__le__',\n",
       " '__lt__',\n",
       " '__match_args__',\n",
       " '__module__',\n",
       " '__ne__',\n",
       " '__new__',\n",
       " '__reduce__',\n",
       " '__reduce_ex__',\n",
       " '__repr__',\n",
       " '__setattr__',\n",
       " '__sizeof__',\n",
       " '__str__',\n",
       " '__subclasshook__',\n",
       " '__weakref__',\n",
       " 'chat_history',\n",
       " 'chat_id',\n",
       " 'cost',\n",
       " 'human_input',\n",
       " 'summary']"
      ]
     },
     "execution_count": 8,
     "metadata": {},
     "output_type": "execute_result"
    }
   ],
   "source": [
    "dir(chat_result)\n"
   ]
  },
  {
   "cell_type": "code",
   "execution_count": 9,
   "id": "9b8a1ec8-8aca-4aee-a6c6-add1ca8dfc85",
   "metadata": {},
   "outputs": [
    {
     "data": {
      "text/plain": [
       "[{'content': \"Write optimized Python code to calculate the number of unique permutations of the word 'ALGEBRA.'\\n    For example, the word 'ALGEbRA' should have 2520 unique permutations. Use efficient logic to compute the result and verify the output using \\n    the word 'ALGEBRA.' The code should only return the final permutation count.\",\n",
       "  'role': 'assistant',\n",
       "  'name': 'code_executor_agent'},\n",
       " {'content': '```python\\n# filename: permutation_count.py\\n\\nimport math\\n\\ndef factorial(n):\\n    \"\"\"Calculate n!\"\"\"\\n    if n == 0:\\n        return 1\\n    else:\\n        return n * factorial(n-1)\\n\\ndef unique_permutations(word):\\n    \"\"\"Return the number of unique permutations of a word\"\"\"\\n    # Convert to lower case and count frequency of each letter\\n    freq = {}\\n    for char in word.lower():\\n        if char.isalpha():  # Ignore non-alphabetic characters\\n            freq[char] = freq.get(char, 0) + 1\\n\\n    # Calculate the total number of permutations using factorials and division\\n    num_permutations = math.factorial(len(word))\\n    for count in freq.values():\\n        num_permutations //= math.factorial(count)\\n\\n    return num_permutations\\n\\n\\nprint(unique_permutations(\\'ALGEBRA\\'))\\n```',\n",
       "  'role': 'user',\n",
       "  'name': 'code_writer'},\n",
       " {'content': 'exitcode: 0 (execution succeeded)\\nCode output: 2520\\n',\n",
       "  'role': 'assistant',\n",
       "  'name': 'code_executor_agent'},\n",
       " {'content': \"The code works as expected. The `unique_permutations` function first counts the frequency of each letter in the input word, then calculates the total number of permutations by dividing the factorial of the word length by the product of the factorials of the frequencies of each letter.\\n\\nThis is an efficient approach because it avoids calculating unnecessary factorials and only divides them when necessary. The result matches the expected output of 2520 unique permutations for the input 'ALGEBRA'.\",\n",
       "  'role': 'user',\n",
       "  'name': 'code_writer'},\n",
       " {'content': '', 'role': 'assistant', 'name': 'code_executor_agent'}]"
      ]
     },
     "execution_count": 9,
     "metadata": {},
     "output_type": "execute_result"
    }
   ],
   "source": [
    "chat_result.chat_history"
   ]
  },
  {
   "cell_type": "code",
   "execution_count": 10,
   "id": "af22aca1-3645-4234-897e-ca88924732f9",
   "metadata": {},
   "outputs": [],
   "source": [
    "chat_result.chat_id"
   ]
  },
  {
   "cell_type": "code",
   "execution_count": 11,
   "id": "ad79de7f-6ae5-40fe-bbc4-fba32d936b67",
   "metadata": {},
   "outputs": [
    {
     "data": {
      "text/plain": [
       "{'usage_including_cached_inference': {'total_cost': 0.0,\n",
       "  'llama3.1': {'cost': 0.0,\n",
       "   'prompt_tokens': 1081,\n",
       "   'completion_tokens': 275,\n",
       "   'total_tokens': 1356}},\n",
       " 'usage_excluding_cached_inference': {'total_cost': 0.0,\n",
       "  'llama3.1': {'cost': 0.0,\n",
       "   'prompt_tokens': 1081,\n",
       "   'completion_tokens': 275,\n",
       "   'total_tokens': 1356}}}"
      ]
     },
     "execution_count": 11,
     "metadata": {},
     "output_type": "execute_result"
    }
   ],
   "source": [
    "chat_result.cost"
   ]
  },
  {
   "cell_type": "code",
   "execution_count": 12,
   "id": "a63b28d5-ad61-4394-970f-a0e6f831653e",
   "metadata": {},
   "outputs": [
    {
     "data": {
      "text/plain": [
       "[]"
      ]
     },
     "execution_count": 12,
     "metadata": {},
     "output_type": "execute_result"
    }
   ],
   "source": [
    "chat_result.human_input"
   ]
  },
  {
   "cell_type": "code",
   "execution_count": 13,
   "id": "9f6e469d-4425-44ef-b531-027ee8104b2b",
   "metadata": {},
   "outputs": [
    {
     "data": {
      "text/plain": [
       "''"
      ]
     },
     "execution_count": 13,
     "metadata": {},
     "output_type": "execute_result"
    }
   ],
   "source": [
    "chat_result.summary"
   ]
  },
  {
   "cell_type": "code",
   "execution_count": null,
   "id": "6828fb2e-c6ef-4ed6-9eaf-120851db488c",
   "metadata": {},
   "outputs": [],
   "source": []
  }
 ],
 "metadata": {
  "kernelspec": {
   "display_name": "Python 3 (ipykernel)",
   "language": "python",
   "name": "python3"
  },
  "language_info": {
   "codemirror_mode": {
    "name": "ipython",
    "version": 3
   },
   "file_extension": ".py",
   "mimetype": "text/x-python",
   "name": "python",
   "nbconvert_exporter": "python",
   "pygments_lexer": "ipython3",
   "version": "3.11.11"
  }
 },
 "nbformat": 4,
 "nbformat_minor": 5
}
