{
 "cells": [
  {
   "cell_type": "markdown",
   "id": "8140b161",
   "metadata": {},
   "source": [
    "Sequential Chats and Customer Onboarding"
   ]
  },
  {
   "cell_type": "markdown",
   "id": "e9d4d307",
   "metadata": {},
   "source": [
    "## Setup"
   ]
  },
  {
   "cell_type": "code",
   "execution_count": 1,
   "id": "24b75995-4ee4-4ff0-9c44-3943caae37e7",
   "metadata": {
    "height": 30
   },
   "outputs": [],
   "source": [
    "import os\n",
    "api_key = os.environ[\"MISTRAL_API_KEY\"]\n",
    "llm_config = { \"model\": \"mistral-large-latest\", \"api_key\": api_key, \"api_type\": \"mistral\"}"
   ]
  },
  {
   "cell_type": "code",
   "execution_count": 2,
   "id": "20ce6700-8a33-424f-aefe-8852fd1e6d07",
   "metadata": {
    "height": 30
   },
   "outputs": [],
   "source": [
    "from autogen import ConversableAgent"
   ]
  },
  {
   "cell_type": "markdown",
   "id": "76f979f9",
   "metadata": {},
   "source": [
    "## Creating the needed agents"
   ]
  },
  {
   "cell_type": "code",
   "execution_count": 3,
   "id": "a527bb1e-dd4e-47b0-a1b7-a9cbcd87cbdb",
   "metadata": {
    "height": 200
   },
   "outputs": [],
   "source": [
    "from autogen import ConversableAgent\n",
    "\n",
    "onboarding_personal_information_agent = ConversableAgent(\n",
    "    name=\"onboarding_personal_information_agent\",  # Removed spaces\n",
    "    system_message='''You are a helpful customer onboarding agent.\n",
    "    You are here to help new customers get started with our product.\n",
    "    Your job is to gather customer's name and location.\n",
    "    Do not ask for other information. Return 'TERMINATE' \n",
    "    when you have gathered all the information.''',\n",
    "    llm_config=llm_config,\n",
    "    code_execution_config=False,\n",
    "    human_input_mode=\"NEVER\",\n",
    ")\n",
    "\n",
    "onboarding_topic_preference_agent = ConversableAgent(\n",
    "    name=\"onboarding_topic_preference_agent\",  # Removed spaces\n",
    "    system_message='''You are a helpful customer onboarding agent.\n",
    "    You are here to help new customers get started with our product.\n",
    "    Your job is to gather customer's preferences on news topics.\n",
    "    Do not ask for other information.\n",
    "    Return 'TERMINATE' when you have gathered all the information.''',\n",
    "    llm_config=llm_config,\n",
    "    code_execution_config=False,\n",
    "    human_input_mode=\"NEVER\",\n",
    ")\n",
    "\n",
    "customer_engagement_agent = ConversableAgent(\n",
    "    name=\"customer_engagement_agent\",  # Removed spaces\n",
    "    system_message='''You are a helpful customer service agent.\n",
    "    You are here to provide fun for the customer based on the user's\n",
    "    personal information and topic preferences.\n",
    "    This could include fun facts, jokes, or interesting stories.\n",
    "    Make sure to make it engaging and fun!\n",
    "    Return 'TERMINATE' when you are done.''',\n",
    "    llm_config=llm_config,\n",
    "    code_execution_config=False,\n",
    "    human_input_mode=\"NEVER\",\n",
    "    is_termination_msg=lambda msg: \"terminate\" in msg.get(\"content\").lower(),\n",
    ")\n",
    "\n",
    "customer_proxy_agent = ConversableAgent(\n",
    "    name=\"customer_proxy_agent\",\n",
    "    llm_config=False,\n",
    "    code_execution_config=False,\n",
    "    human_input_mode=\"ALWAYS\",\n",
    "    is_termination_msg=lambda msg: \"terminate\" in msg.get(\"content\").lower(),\n",
    ")\n"
   ]
  },
  {
   "cell_type": "markdown",
   "id": "4f240408",
   "metadata": {},
   "source": [
    "## Creating tasks\n",
    "\n",
    "Now, you can craft a series of tasks to facilitate the onboarding process."
   ]
  },
  {
   "cell_type": "code",
   "execution_count": 4,
   "id": "2b15af1d-7042-4569-a936-7966be203f05",
   "metadata": {
    "height": 607
   },
   "outputs": [],
   "source": [
    "chats = [\n",
    "    {\n",
    "        \"sender\": onboarding_personal_information_agent,\n",
    "        \"recipient\": customer_proxy_agent,\n",
    "        \"message\": \"Hello, I'm here to help you get started with our product. Could you tell me your name and location?\",\n",
    "        \"summary_method\": \"reflection_with_llm\",\n",
    "        \"summary_args\": {\n",
    "            \"summary_prompt\": \"Return the customer information as JSON object only: {'name': '', 'location': ''}\",\n",
    "        },\n",
    "        \"max_turns\": 1,\n",
    "        \"clear_history\": True\n",
    "    },\n",
    "    {\n",
    "        \"sender\": onboarding_topic_preference_agent,\n",
    "        \"recipient\": customer_proxy_agent,\n",
    "        \"message\": \"Great! Could you tell me what topics you are interested in reading about?\",\n",
    "        \"summary_method\": \"reflection_with_llm\",\n",
    "        \"max_turns\": 1,\n",
    "        \"clear_history\": False\n",
    "    },\n",
    "    {\n",
    "        \"sender\": customer_proxy_agent,\n",
    "        \"recipient\": customer_engagement_agent,\n",
    "        \"message\": \"Let's find something fun to read.\",\n",
    "        \"max_turns\": 1,\n",
    "        \"summary_method\": \"reflection_with_llm\",\n",
    "    },\n",
    "]"
   ]
  },
  {
   "cell_type": "markdown",
   "id": "862a066b",
   "metadata": {},
   "source": [
    "## Start the onboarding process"
   ]
  },
  {
   "cell_type": "markdown",
   "id": "e0fa8f99",
   "metadata": {},
   "source": [
    "**Note**: You might get a slightly different response than what's shown in the video. Feel free to try different inputs, such as name, location, and preferences."
   ]
  },
  {
   "cell_type": "code",
   "execution_count": 5,
   "id": "9d6d1d4a-0b50-41a5-a1f0-3ff208398bc6",
   "metadata": {
    "height": 64
   },
   "outputs": [
    {
     "name": "stdout",
     "output_type": "stream",
     "text": [
      "\u001b[34m\n",
      "********************************************************************************\u001b[0m\n",
      "\u001b[34mStarting a new chat....\u001b[0m\n",
      "\u001b[34m\n",
      "********************************************************************************\u001b[0m\n",
      "\u001b[33monboarding_personal_information_agent\u001b[0m (to customer_proxy_agent):\n",
      "\n",
      "Hello, I'm here to help you get started with our product. Could you tell me your name and location?\n",
      "\n",
      "--------------------------------------------------------------------------------\n"
     ]
    },
    {
     "name": "stderr",
     "output_type": "stream",
     "text": [
      "C:\\Users\\Pandiyan\\anaconda3\\envs\\agentai\\Lib\\site-packages\\autogen\\agentchat\\chat.py:57: UserWarning: Repetitive recipients detected: The chat history will be cleared by default if a recipient appears more than once. To retain the chat history, please set 'clear_history=False' in the configuration of the repeating agent.\n",
      "  warnings.warn(\n"
     ]
    },
    {
     "name": "stdin",
     "output_type": "stream",
     "text": [
      "Replying as customer_proxy_agent. Provide feedback to onboarding_personal_information_agent. Press enter to skip and use auto-reply, or type 'exit' to end the conversation:  Pandi from Sivakasi\n"
     ]
    },
    {
     "name": "stdout",
     "output_type": "stream",
     "text": [
      "\u001b[33mcustomer_proxy_agent\u001b[0m (to onboarding_personal_information_agent):\n",
      "\n",
      "Pandi from Sivakasi\n",
      "\n",
      "--------------------------------------------------------------------------------\n",
      "\u001b[31m\n",
      ">>>>>>>> TERMINATING RUN (f9f119f3-de61-4c08-9576-3875ea253971): Maximum turns (1) reached\u001b[0m\n",
      "\u001b[34m\n",
      "********************************************************************************\u001b[0m\n",
      "\u001b[34mStarting a new chat....\u001b[0m\n",
      "\u001b[34m\n",
      "********************************************************************************\u001b[0m\n",
      "\u001b[33monboarding_topic_preference_agent\u001b[0m (to customer_proxy_agent):\n",
      "\n",
      "Great! Could you tell me what topics you are interested in reading about?\n",
      "Context: \n",
      "{\"name\":\"Pandi\",\"location\":\"Sivakasi\"}\n",
      "\n",
      "--------------------------------------------------------------------------------\n"
     ]
    },
    {
     "name": "stdin",
     "output_type": "stream",
     "text": [
      "Replying as customer_proxy_agent. Provide feedback to onboarding_topic_preference_agent. Press enter to skip and use auto-reply, or type 'exit' to end the conversation:  Gospels from Bible\n"
     ]
    },
    {
     "name": "stdout",
     "output_type": "stream",
     "text": [
      "\u001b[33mcustomer_proxy_agent\u001b[0m (to onboarding_topic_preference_agent):\n",
      "\n",
      "Gospels from Bible\n",
      "\n",
      "--------------------------------------------------------------------------------\n",
      "\u001b[31m\n",
      ">>>>>>>> TERMINATING RUN (12f2ebc1-9999-4484-b597-fb5f84d5b1f9): Maximum turns (1) reached\u001b[0m\n",
      "\u001b[34m\n",
      "********************************************************************************\u001b[0m\n",
      "\u001b[34mStarting a new chat....\u001b[0m\n",
      "\u001b[34m\n",
      "********************************************************************************\u001b[0m\n",
      "\u001b[33mcustomer_proxy_agent\u001b[0m (to customer_engagement_agent):\n",
      "\n",
      "Let's find something fun to read.\n",
      "Context: \n",
      "{\"name\":\"Pandi\",\"location\":\"Sivakasi\"}\n",
      "Interested in reading about Gospels from the Bible.\n",
      "\n",
      "--------------------------------------------------------------------------------\n",
      "\u001b[33mcustomer_engagement_agent\u001b[0m (to customer_proxy_agent):\n",
      "\n",
      "Hello Pandi from Sivakasi! It's great to meet you. I'm excited to help you find some fun and engaging content about the Gospels from the Bible. Did you know that the word \"Gospel\" comes from the Old English word \"godspell,\" which means \"good news\"?\n",
      "\n",
      "Let's start with a fascinating fact: The Gospels of Matthew, Mark, Luke, and John are each represented by a unique symbol in Christian art and literature. Matthew is often depicted as a winged man or angel, Mark as a winged lion, Luke as a winged ox or bull, and John as an eagle. These symbols are derived from the prophet Ezekiel's vision in the Old Testament.\n",
      "\n",
      "Now, here's a light-hearted joke for you:\n",
      "\n",
      "Why don’t they play poker in the jungle?\n",
      "\n",
      "Because there are too many cheetahs!\n",
      "\n",
      "Now, let's dive into an interesting story from the Gospels. One of the most famous stories is the feeding of the 5,000, which appears in all four Gospels. Imagine being part of that crowd, witnessing Jesus multiply a small amount of food to feed thousands of people. It's a powerful reminder of the miracles and teachings that make the Gospels so captivating.\n",
      "\n",
      "If you're looking for a specific passage or have any other topics you'd like to explore, just let me know! Otherwise, I hope you enjoy your reading and have a wonderful day.\n",
      "\n",
      "TERMINATE.\n",
      "\n",
      "--------------------------------------------------------------------------------\n",
      "\u001b[31m\n",
      ">>>>>>>> TERMINATING RUN (2e884ccb-37f2-44a8-ab3d-3f75a9c8c72e): Maximum turns (1) reached\u001b[0m\n"
     ]
    }
   ],
   "source": [
    "from autogen import initiate_chats\n",
    "\n",
    "chat_results = initiate_chats(chats)\n"
   ]
  },
  {
   "cell_type": "markdown",
   "id": "4f9e2713",
   "metadata": {},
   "source": [
    "## Print out the summary"
   ]
  },
  {
   "cell_type": "code",
   "execution_count": 6,
   "id": "1e122f8a-1ceb-4635-9672-662114b0552a",
   "metadata": {
    "height": 64
   },
   "outputs": [
    {
     "name": "stdout",
     "output_type": "stream",
     "text": [
      "{'content': '{\"name\":\"Pandi\",\"location\":\"Sivakasi\"}', 'refusal': None, 'role': 'assistant', 'annotations': None, 'audio': None, 'function_call': None, 'tool_calls': None}\n",
      "\n",
      "\n",
      "{'content': 'Interested in reading about Gospels from the Bible.', 'refusal': None, 'role': 'assistant', 'annotations': None, 'audio': None, 'function_call': None, 'tool_calls': None}\n",
      "\n",
      "\n",
      "{'content': \"User is interested in reading about the Gospels from the Bible.\\nProvided a fun fact about the symbols of the Gospels.\\nShared a light-hearted joke.\\nHighlighted the story of the feeding of the 5,000.\\nOffered to provide more information based on user's preferences.\", 'refusal': None, 'role': 'assistant', 'annotations': None, 'audio': None, 'function_call': None, 'tool_calls': None}\n",
      "\n",
      "\n"
     ]
    }
   ],
   "source": [
    "summary=[]\n",
    "for chat_result in chat_results:\n",
    "    print(chat_result.summary)\n",
    "    summary.append(chat_result.summary)\n",
    "    print(\"\\n\")"
   ]
  },
  {
   "cell_type": "code",
   "execution_count": 10,
   "id": "d3959b84-4c73-4483-a79a-800638faa59e",
   "metadata": {},
   "outputs": [
    {
     "data": {
      "text/plain": [
       "{'content': '{\"name\":\"Pandi\",\"location\":\"Sivakasi\"}',\n",
       " 'refusal': None,\n",
       " 'role': 'assistant',\n",
       " 'annotations': None,\n",
       " 'audio': None,\n",
       " 'function_call': None,\n",
       " 'tool_calls': None}"
      ]
     },
     "execution_count": 10,
     "metadata": {},
     "output_type": "execute_result"
    }
   ],
   "source": [
    "summary[0]"
   ]
  },
  {
   "cell_type": "code",
   "execution_count": null,
   "id": "5e04aa71-8390-4450-9738-dc69447d3ca0",
   "metadata": {},
   "outputs": [],
   "source": [
    "#!pip install pandas"
   ]
  },
  {
   "cell_type": "code",
   "execution_count": 12,
   "id": "62d02db6-1094-4374-8672-325593368df4",
   "metadata": {},
   "outputs": [
    {
     "name": "stdout",
     "output_type": "stream",
     "text": [
      "{\"name\":\"Pandi\",\"location\":\"Sivakasi\"}\n"
     ]
    },
    {
     "data": {
      "text/html": [
       "<div>\n",
       "<style scoped>\n",
       "    .dataframe tbody tr th:only-of-type {\n",
       "        vertical-align: middle;\n",
       "    }\n",
       "\n",
       "    .dataframe tbody tr th {\n",
       "        vertical-align: top;\n",
       "    }\n",
       "\n",
       "    .dataframe thead th {\n",
       "        text-align: right;\n",
       "    }\n",
       "</style>\n",
       "<table border=\"1\" class=\"dataframe\">\n",
       "  <thead>\n",
       "    <tr style=\"text-align: right;\">\n",
       "      <th></th>\n",
       "      <th>name</th>\n",
       "      <th>location</th>\n",
       "    </tr>\n",
       "  </thead>\n",
       "  <tbody>\n",
       "    <tr>\n",
       "      <th>0</th>\n",
       "      <td>Pandi</td>\n",
       "      <td>Sivakasi</td>\n",
       "    </tr>\n",
       "  </tbody>\n",
       "</table>\n",
       "</div>"
      ],
      "text/plain": [
       "    name  location\n",
       "0  Pandi  Sivakasi"
      ]
     },
     "execution_count": 12,
     "metadata": {},
     "output_type": "execute_result"
    }
   ],
   "source": [
    "import pandas as pd\n",
    "import ast\n",
    "import json\n",
    "import re\n",
    "\n",
    "# Input string\n",
    "#data_str = \"{'name': 'Ramisha', 'location': 'Coimbatore'}\"\n",
    "data_str=summary[0].get(\"content\")\n",
    "print(data_str)\n",
    "\n",
    "data_dict = ast.literal_eval(data_str)\n",
    "\n",
    "# Convert dictionary to DataFrame\n",
    "df = pd.DataFrame([data_dict])\n",
    "\n",
    "df\n"
   ]
  },
  {
   "cell_type": "code",
   "execution_count": 13,
   "id": "70cc4f86-4153-4561-8a2f-0f46a11da589",
   "metadata": {},
   "outputs": [
    {
     "data": {
      "text/plain": [
       "{'content': 'Interested in reading about Gospels from the Bible.',\n",
       " 'refusal': None,\n",
       " 'role': 'assistant',\n",
       " 'annotations': None,\n",
       " 'audio': None,\n",
       " 'function_call': None,\n",
       " 'tool_calls': None}"
      ]
     },
     "execution_count": 13,
     "metadata": {},
     "output_type": "execute_result"
    }
   ],
   "source": [
    "summary[1]"
   ]
  },
  {
   "cell_type": "code",
   "execution_count": 14,
   "id": "3c554053-49b1-4151-a82d-de7bd0d96d5e",
   "metadata": {},
   "outputs": [],
   "source": [
    "df[\"TopicPreference\"]=summary[1].get(\"content\")"
   ]
  },
  {
   "cell_type": "code",
   "execution_count": 15,
   "id": "4fdc3fa0-e84d-4f85-8b78-c1b36ad97fa2",
   "metadata": {},
   "outputs": [
    {
     "data": {
      "text/html": [
       "<div>\n",
       "<style scoped>\n",
       "    .dataframe tbody tr th:only-of-type {\n",
       "        vertical-align: middle;\n",
       "    }\n",
       "\n",
       "    .dataframe tbody tr th {\n",
       "        vertical-align: top;\n",
       "    }\n",
       "\n",
       "    .dataframe thead th {\n",
       "        text-align: right;\n",
       "    }\n",
       "</style>\n",
       "<table border=\"1\" class=\"dataframe\">\n",
       "  <thead>\n",
       "    <tr style=\"text-align: right;\">\n",
       "      <th></th>\n",
       "      <th>name</th>\n",
       "      <th>location</th>\n",
       "      <th>TopicPreference</th>\n",
       "    </tr>\n",
       "  </thead>\n",
       "  <tbody>\n",
       "    <tr>\n",
       "      <th>0</th>\n",
       "      <td>Pandi</td>\n",
       "      <td>Sivakasi</td>\n",
       "      <td>Interested in reading about Gospels from the B...</td>\n",
       "    </tr>\n",
       "  </tbody>\n",
       "</table>\n",
       "</div>"
      ],
      "text/plain": [
       "    name  location                                    TopicPreference\n",
       "0  Pandi  Sivakasi  Interested in reading about Gospels from the B..."
      ]
     },
     "execution_count": 15,
     "metadata": {},
     "output_type": "execute_result"
    }
   ],
   "source": [
    "df"
   ]
  },
  {
   "cell_type": "code",
   "execution_count": 16,
   "id": "6a290551-0cf7-4fe6-8f87-e2b482ea2c0a",
   "metadata": {},
   "outputs": [
    {
     "data": {
      "text/plain": [
       "{'content': \"User is interested in reading about the Gospels from the Bible.\\nProvided a fun fact about the symbols of the Gospels.\\nShared a light-hearted joke.\\nHighlighted the story of the feeding of the 5,000.\\nOffered to provide more information based on user's preferences.\",\n",
       " 'refusal': None,\n",
       " 'role': 'assistant',\n",
       " 'annotations': None,\n",
       " 'audio': None,\n",
       " 'function_call': None,\n",
       " 'tool_calls': None}"
      ]
     },
     "execution_count": 16,
     "metadata": {},
     "output_type": "execute_result"
    }
   ],
   "source": [
    "summary[2]"
   ]
  },
  {
   "cell_type": "code",
   "execution_count": 29,
   "id": "6c5c88cd-92d5-4c9a-a7e8-487f0ea51503",
   "metadata": {},
   "outputs": [
    {
     "data": {
      "text/plain": [
       "'Hello Pandi from Sivakasi! It\\'s great to meet you. I\\'m excited to help you find some fun and engaging content about the Gospels from the Bible. Did you know that the word \"Gospel\" comes from the Old English word \"godspell,\" which means \"good news\"?\\n\\nLet\\'s start with a fascinating fact: The Gospels of Matthew, Mark, Luke, and John are each represented by a unique symbol in Christian art and literature. Matthew is often depicted as a winged man or angel, Mark as a winged lion, Luke as a winged ox or bull, and John as an eagle. These symbols are derived from the prophet Ezekiel\\'s vision in the Old Testament.\\n\\nNow, here\\'s a light-hearted joke for you:\\n\\nWhy don’t they play poker in the jungle?\\n\\nBecause there are too many cheetahs!\\n\\nNow, let\\'s dive into an interesting story from the Gospels. One of the most famous stories is the feeding of the 5,000, which appears in all four Gospels. Imagine being part of that crowd, witnessing Jesus multiply a small amount of food to feed thousands of people. It\\'s a powerful reminder of the miracles and teachings that make the Gospels so captivating.\\n\\nIf you\\'re looking for a specific passage or have any other topics you\\'d like to explore, just let me know! Otherwise, I hope you enjoy your reading and have a wonderful day.\\n\\nTERMINATE.'"
      ]
     },
     "execution_count": 29,
     "metadata": {},
     "output_type": "execute_result"
    }
   ],
   "source": [
    "chat_results[2].chat_history[1].get(\"content\")"
   ]
  },
  {
   "cell_type": "code",
   "execution_count": 30,
   "id": "8fc39ceb-3627-4f04-9b3e-8d6f8857f8b1",
   "metadata": {},
   "outputs": [],
   "source": [
    "df[\"Enagement\"]=chat_results[2].chat_history[1].get(\"content\")"
   ]
  },
  {
   "cell_type": "code",
   "execution_count": 31,
   "id": "3adc3e08-2c15-4b79-a20a-640b1f1930c3",
   "metadata": {},
   "outputs": [
    {
     "data": {
      "text/html": [
       "<div>\n",
       "<style scoped>\n",
       "    .dataframe tbody tr th:only-of-type {\n",
       "        vertical-align: middle;\n",
       "    }\n",
       "\n",
       "    .dataframe tbody tr th {\n",
       "        vertical-align: top;\n",
       "    }\n",
       "\n",
       "    .dataframe thead th {\n",
       "        text-align: right;\n",
       "    }\n",
       "</style>\n",
       "<table border=\"1\" class=\"dataframe\">\n",
       "  <thead>\n",
       "    <tr style=\"text-align: right;\">\n",
       "      <th></th>\n",
       "      <th>name</th>\n",
       "      <th>location</th>\n",
       "      <th>TopicPreference</th>\n",
       "      <th>Enagement</th>\n",
       "    </tr>\n",
       "  </thead>\n",
       "  <tbody>\n",
       "    <tr>\n",
       "      <th>0</th>\n",
       "      <td>Pandi</td>\n",
       "      <td>Sivakasi</td>\n",
       "      <td>Interested in reading about Gospels from the B...</td>\n",
       "      <td>Hello Pandi from Sivakasi! It's great to meet ...</td>\n",
       "    </tr>\n",
       "  </tbody>\n",
       "</table>\n",
       "</div>"
      ],
      "text/plain": [
       "    name  location                                    TopicPreference  \\\n",
       "0  Pandi  Sivakasi  Interested in reading about Gospels from the B...   \n",
       "\n",
       "                                           Enagement  \n",
       "0  Hello Pandi from Sivakasi! It's great to meet ...  "
      ]
     },
     "execution_count": 31,
     "metadata": {},
     "output_type": "execute_result"
    }
   ],
   "source": [
    "df"
   ]
  },
  {
   "cell_type": "code",
   "execution_count": 24,
   "id": "2e0e5c73-a792-46d9-8c2a-f2e239d22502",
   "metadata": {},
   "outputs": [],
   "source": [
    "ll=df.tail(1).values"
   ]
  },
  {
   "cell_type": "code",
   "execution_count": 25,
   "id": "b4d05d9f-ebe9-4869-a7fa-ae3e7c24ddea",
   "metadata": {},
   "outputs": [
    {
     "data": {
      "text/plain": [
       "array([['Pandi', 'Sivakasi',\n",
       "        'Interested in reading about Gospels from the Bible.',\n",
       "        'Let\\'s find something fun to read.\\nContext: \\n{\"name\":\"Pandi\",\"location\":\"Sivakasi\"}\\nInterested in reading about Gospels from the Bible.']],\n",
       "      dtype=object)"
      ]
     },
     "execution_count": 25,
     "metadata": {},
     "output_type": "execute_result"
    }
   ],
   "source": [
    "ll"
   ]
  },
  {
   "cell_type": "code",
   "execution_count": null,
   "id": "6fac8d38-bced-449a-967f-f1d46830bc21",
   "metadata": {},
   "outputs": [],
   "source": [
    "#!pip install gspread\n",
    "#!pip install oauth2client"
   ]
  },
  {
   "cell_type": "code",
   "execution_count": 26,
   "id": "ece6177a-5bcf-419e-accb-119df7bf306a",
   "metadata": {},
   "outputs": [],
   "source": [
    "def add_leads_to_google_sheet(df):\n",
    "    import gspread\n",
    "    from oauth2client.service_account import ServiceAccountCredentials\n",
    "\n",
    "    # Define the scope for Google Sheets API\n",
    "    scope = ['https://www.googleapis.com/auth/spreadsheets']\n",
    "\n",
    "    # Add credentials to the account\n",
    "    creds = ServiceAccountCredentials.from_json_keyfile_name(\n",
    "        'fair-subset-455717-s6-84dee767824c.json', scope\n",
    "    )\n",
    "\n",
    "    # Authorize the client\n",
    "    client = gspread.authorize(creds)\n",
    "\n",
    "    # Specify the Google Sheet ID\n",
    "    sheet_id = '1gLkaCmWgQp_fuEqUeOkf-SsjwYfh4PuFQ2tpEKoLTFI'\n",
    "\n",
    "    # Open the spreadsheet using its ID\n",
    "    spreadsheet = client.open_by_key(sheet_id)\n",
    "\n",
    "    # Select the first worksheet (index 0)\n",
    "    worksheet = spreadsheet.get_worksheet(0)\n",
    "\n",
    "    # Append each row of the DataFrame to the worksheet\n",
    "    for _, row in df.iterrows():\n",
    "        # Convert row to a list and append to the sheet\n",
    "        worksheet.append_row(row.tolist())\n",
    "\n",
    "    print(\"Data added successfully!\")\n",
    "    return \"added\"\n"
   ]
  },
  {
   "cell_type": "code",
   "execution_count": 32,
   "id": "fe450b66-964e-4f35-88ae-f6596ab2b04a",
   "metadata": {},
   "outputs": [
    {
     "name": "stdout",
     "output_type": "stream",
     "text": [
      "Data added successfully!\n"
     ]
    },
    {
     "data": {
      "text/plain": [
       "'added'"
      ]
     },
     "execution_count": 32,
     "metadata": {},
     "output_type": "execute_result"
    }
   ],
   "source": [
    "add_leads_to_google_sheet(df)"
   ]
  },
  {
   "cell_type": "markdown",
   "id": "a674c4eb",
   "metadata": {},
   "source": [
    "## Print out the cost"
   ]
  },
  {
   "cell_type": "code",
   "execution_count": 28,
   "id": "8b82a10a-afe5-4ba3-97b4-41c8c14b739f",
   "metadata": {
    "height": 64
   },
   "outputs": [
    {
     "name": "stdout",
     "output_type": "stream",
     "text": [
      "{'usage_including_cached_inference': {'total_cost': 2.0999999999999995e-05, 'mistral-large-latest': {'cost': 2.0999999999999995e-05, 'prompt_tokens': 55, 'completion_tokens': 15, 'total_tokens': 70}}, 'usage_excluding_cached_inference': {'total_cost': 2.0999999999999995e-05, 'mistral-large-latest': {'cost': 2.0999999999999995e-05, 'prompt_tokens': 55, 'completion_tokens': 15, 'total_tokens': 70}}}\n",
      "\n",
      "\n",
      "{'usage_including_cached_inference': {'total_cost': 2.31e-05, 'mistral-large-latest': {'cost': 2.31e-05, 'prompt_tokens': 64, 'completion_tokens': 13, 'total_tokens': 77}}, 'usage_excluding_cached_inference': {'total_cost': 2.31e-05, 'mistral-large-latest': {'cost': 2.31e-05, 'prompt_tokens': 64, 'completion_tokens': 13, 'total_tokens': 77}}}\n",
      "\n",
      "\n",
      "{'usage_including_cached_inference': {'total_cost': 0.00027929999999999996, 'mistral-large-latest': {'cost': 0.00027929999999999996, 'prompt_tokens': 521, 'completion_tokens': 410, 'total_tokens': 931}}, 'usage_excluding_cached_inference': {'total_cost': 0.00027929999999999996, 'mistral-large-latest': {'cost': 0.00027929999999999996, 'prompt_tokens': 521, 'completion_tokens': 410, 'total_tokens': 931}}}\n",
      "\n",
      "\n"
     ]
    }
   ],
   "source": [
    "for chat_result in chat_results:\n",
    "    print(chat_result.cost)\n",
    "    print(\"\\n\")"
   ]
  },
  {
   "cell_type": "code",
   "execution_count": null,
   "id": "747732e0-d8de-4555-aa49-bf42f854b6a6",
   "metadata": {},
   "outputs": [],
   "source": []
  },
  {
   "cell_type": "code",
   "execution_count": null,
   "id": "a3cf8b33-6682-4acd-b285-ec766fb2a5eb",
   "metadata": {},
   "outputs": [],
   "source": []
  }
 ],
 "metadata": {
  "kernelspec": {
   "display_name": "Python 3 (ipykernel)",
   "language": "python",
   "name": "python3"
  },
  "language_info": {
   "codemirror_mode": {
    "name": "ipython",
    "version": 3
   },
   "file_extension": ".py",
   "mimetype": "text/x-python",
   "name": "python",
   "nbconvert_exporter": "python",
   "pygments_lexer": "ipython3",
   "version": "3.11.11"
  }
 },
 "nbformat": 4,
 "nbformat_minor": 5
}
