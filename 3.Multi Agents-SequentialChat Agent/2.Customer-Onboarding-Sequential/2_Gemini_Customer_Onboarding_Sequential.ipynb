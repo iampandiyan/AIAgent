{
 "cells": [
  {
   "cell_type": "markdown",
   "id": "8140b161",
   "metadata": {},
   "source": [
    "Sequential Chats and Customer Onboarding"
   ]
  },
  {
   "cell_type": "markdown",
   "id": "e9d4d307",
   "metadata": {},
   "source": [
    "## Setup"
   ]
  },
  {
   "cell_type": "code",
   "execution_count": 1,
   "id": "24b75995-4ee4-4ff0-9c44-3943caae37e7",
   "metadata": {
    "height": 30
   },
   "outputs": [],
   "source": [
    "import os\n",
    "api_key = os.environ[\"GEMINI_API_KEY\"]\n",
    "llm_config = { \"model\": \"gemini-1.5-pro-latest\", \"api_key\": api_key, \"api_type\": \"google\"}"
   ]
  },
  {
   "cell_type": "code",
   "execution_count": 2,
   "id": "20ce6700-8a33-424f-aefe-8852fd1e6d07",
   "metadata": {
    "height": 30
   },
   "outputs": [],
   "source": [
    "from autogen import ConversableAgent"
   ]
  },
  {
   "cell_type": "markdown",
   "id": "76f979f9",
   "metadata": {},
   "source": [
    "## Creating the needed agents"
   ]
  },
  {
   "cell_type": "code",
   "execution_count": 3,
   "id": "a527bb1e-dd4e-47b0-a1b7-a9cbcd87cbdb",
   "metadata": {
    "height": 200
   },
   "outputs": [],
   "source": [
    "\n",
    "from autogen import ConversableAgent\n",
    "\n",
    "onboarding_personal_information_agent = ConversableAgent(\n",
    "    name=\"onboarding_personal_information_agent\",  # Removed spaces\n",
    "    system_message='''You are a helpful customer onboarding agent.\n",
    "    You are here to help new customers get started with our product.\n",
    "    Your job is to gather customer's name and location.\n",
    "    Do not ask for other information. Return 'TERMINATE' \n",
    "    when you have gathered all the information.''',\n",
    "    llm_config=llm_config,\n",
    "    code_execution_config=False,\n",
    "    human_input_mode=\"NEVER\",\n",
    ")\n",
    "\n",
    "onboarding_topic_preference_agent = ConversableAgent(\n",
    "    name=\"onboarding_topic_preference_agent\",  # Removed spaces\n",
    "    system_message='''You are a helpful customer onboarding agent.\n",
    "    You are here to help new customers get started with our product.\n",
    "    Your job is to gather customer's preferences on news topics.\n",
    "    Do not ask for other information.\n",
    "    Return 'TERMINATE' when you have gathered all the information.''',\n",
    "    llm_config=llm_config,\n",
    "    code_execution_config=False,\n",
    "    human_input_mode=\"NEVER\",\n",
    ")\n",
    "\n",
    "customer_engagement_agent = ConversableAgent(\n",
    "    name=\"customer_engagement_agent\",  # Removed spaces\n",
    "    system_message='''You are a helpful customer service agent.\n",
    "    You are here to provide fun for the customer based on the user's\n",
    "    personal information and topic preferences.\n",
    "    This could include fun facts, jokes, or interesting stories.\n",
    "    Make sure to make it engaging and fun!\n",
    "    Return 'TERMINATE' when you are done.''',\n",
    "    llm_config=llm_config,\n",
    "    code_execution_config=False,\n",
    "    human_input_mode=\"NEVER\",\n",
    "    is_termination_msg=lambda msg: \"terminate\" in msg.get(\"content\").lower(),\n",
    ")\n",
    "\n",
    "customer_proxy_agent = ConversableAgent(\n",
    "    name=\"customer_proxy_agent\",\n",
    "    llm_config=False,\n",
    "    code_execution_config=False,\n",
    "    human_input_mode=\"ALWAYS\",\n",
    "    is_termination_msg=lambda msg: \"terminate\" in msg.get(\"content\").lower(),\n",
    ")\n"
   ]
  },
  {
   "cell_type": "markdown",
   "id": "4f240408",
   "metadata": {},
   "source": [
    "## Creating tasks\n",
    "\n",
    "Now, you can craft a series of tasks to facilitate the onboarding process."
   ]
  },
  {
   "cell_type": "code",
   "execution_count": 4,
   "id": "2b15af1d-7042-4569-a936-7966be203f05",
   "metadata": {
    "height": 607
   },
   "outputs": [],
   "source": [
    "chats = [\n",
    "    {\n",
    "        \"sender\": onboarding_personal_information_agent,\n",
    "        \"recipient\": customer_proxy_agent,\n",
    "        \"message\": \"Hello, I'm here to help you get started with our product. Could you tell me your name and location?\",\n",
    "        \"summary_method\": \"reflection_with_llm\",\n",
    "        \"summary_args\": {\n",
    "            \"summary_prompt\": \"Return the customer information as JSON object only: {'name': '', 'location': ''}\",\n",
    "        },\n",
    "        \"max_turns\": 1,\n",
    "        \"clear_history\": True\n",
    "    },\n",
    "    {\n",
    "        \"sender\": onboarding_topic_preference_agent,\n",
    "        \"recipient\": customer_proxy_agent,\n",
    "        \"message\": \"Great! Could you tell me what topics you are interested in reading about?\",\n",
    "        \"summary_method\": \"reflection_with_llm\",\n",
    "        \"max_turns\": 1,\n",
    "        \"clear_history\": False\n",
    "    },\n",
    "    {\n",
    "        \"sender\": customer_proxy_agent,\n",
    "        \"recipient\": customer_engagement_agent,\n",
    "        \"message\": \"Let's find something fun to read.\",\n",
    "        \"max_turns\": 1,\n",
    "        \"summary_method\": \"reflection_with_llm\",\n",
    "    },\n",
    "]"
   ]
  },
  {
   "cell_type": "markdown",
   "id": "862a066b",
   "metadata": {},
   "source": [
    "## Start the onboarding process"
   ]
  },
  {
   "cell_type": "markdown",
   "id": "e0fa8f99",
   "metadata": {},
   "source": [
    "**Note**: You might get a slightly different response than what's shown in the video. Feel free to try different inputs, such as name, location, and preferences."
   ]
  },
  {
   "cell_type": "code",
   "execution_count": 5,
   "id": "9d6d1d4a-0b50-41a5-a1f0-3ff208398bc6",
   "metadata": {
    "height": 64
   },
   "outputs": [
    {
     "name": "stdout",
     "output_type": "stream",
     "text": [
      "\u001b[34m\n",
      "********************************************************************************\u001b[0m\n",
      "\u001b[34mStarting a new chat....\u001b[0m\n",
      "\u001b[34m\n",
      "********************************************************************************\u001b[0m\n",
      "\u001b[33monboarding_personal_information_agent\u001b[0m (to customer_proxy_agent):\n",
      "\n",
      "Hello, I'm here to help you get started with our product. Could you tell me your name and location?\n",
      "\n",
      "--------------------------------------------------------------------------------\n"
     ]
    },
    {
     "name": "stderr",
     "output_type": "stream",
     "text": [
      "C:\\Users\\Pandiyan\\anaconda3\\envs\\agentai\\Lib\\site-packages\\autogen\\agentchat\\chat.py:57: UserWarning: Repetitive recipients detected: The chat history will be cleared by default if a recipient appears more than once. To retain the chat history, please set 'clear_history=False' in the configuration of the repeating agent.\n",
      "  warnings.warn(\n"
     ]
    },
    {
     "name": "stdin",
     "output_type": "stream",
     "text": [
      "Replying as customer_proxy_agent. Provide feedback to onboarding_personal_information_agent. Press enter to skip and use auto-reply, or type 'exit' to end the conversation:  Pandi From Sivakasi\n"
     ]
    },
    {
     "name": "stdout",
     "output_type": "stream",
     "text": [
      "\u001b[33mcustomer_proxy_agent\u001b[0m (to onboarding_personal_information_agent):\n",
      "\n",
      "Pandi From Sivakasi\n",
      "\n",
      "--------------------------------------------------------------------------------\n",
      "\u001b[31m\n",
      ">>>>>>>> TERMINATING RUN (41e76400-3349-48df-a81c-cf85368263f0): Maximum turns (1) reached\u001b[0m\n",
      "\u001b[34m\n",
      "********************************************************************************\u001b[0m\n",
      "\u001b[34mStarting a new chat....\u001b[0m\n",
      "\u001b[34m\n",
      "********************************************************************************\u001b[0m\n",
      "\u001b[33monboarding_topic_preference_agent\u001b[0m (to customer_proxy_agent):\n",
      "\n",
      "Great! Could you tell me what topics you are interested in reading about?\n",
      "Context: \n",
      "```json\n",
      "{\"name\": \"Pandi\", \"location\": \"Sivakasi\"}\n",
      "```\n",
      "\n",
      "\n",
      "--------------------------------------------------------------------------------\n"
     ]
    },
    {
     "name": "stdin",
     "output_type": "stream",
     "text": [
      "Replying as customer_proxy_agent. Provide feedback to onboarding_topic_preference_agent. Press enter to skip and use auto-reply, or type 'exit' to end the conversation:  Gospels from Bible\n"
     ]
    },
    {
     "name": "stdout",
     "output_type": "stream",
     "text": [
      "\u001b[33mcustomer_proxy_agent\u001b[0m (to onboarding_topic_preference_agent):\n",
      "\n",
      "Gospels from Bible\n",
      "\n",
      "--------------------------------------------------------------------------------\n",
      "\u001b[31m\n",
      ">>>>>>>> TERMINATING RUN (2819b9fa-2d92-46ae-9380-7d1693136796): Maximum turns (1) reached\u001b[0m\n",
      "\u001b[34m\n",
      "********************************************************************************\u001b[0m\n",
      "\u001b[34mStarting a new chat....\u001b[0m\n",
      "\u001b[34m\n",
      "********************************************************************************\u001b[0m\n",
      "\u001b[33mcustomer_proxy_agent\u001b[0m (to customer_engagement_agent):\n",
      "\n",
      "Let's find something fun to read.\n",
      "Context: \n",
      "```json\n",
      "{\"name\": \"Pandi\", \"location\": \"Sivakasi\"}\n",
      "```\n",
      "\n",
      "Pandi from Sivakasi is interested in reading the Gospels from the Bible.\n",
      "\n",
      "\n",
      "--------------------------------------------------------------------------------\n",
      "\u001b[33mcustomer_engagement_agent\u001b[0m (to customer_proxy_agent):\n",
      "\n",
      "Hey there, Pandi from Sivakasi!  So you're interested in the Gospels, that's fantastic!  It's a journey into some powerful stories and teachings. Since you're from Sivakasi, the \"Printing Capital of India\",  I bet you appreciate a good book!  Did you know that the Gutenberg Bible, one of the first major books printed using movable type, was a Latin version of the Bible, including the Gospels?  Talk about printing history meeting biblical history!\n",
      "\n",
      "Now, since we are focusing on the Gospels (Matthew, Mark, Luke, and John), how about a little fun fact to get us started?  Each Gospel writer offers a unique perspective on Jesus' life.  Matthew portrays Jesus as the fulfilled Jewish Messiah, Mark presents a fast-paced, action-packed account, Luke emphasizes Jesus' compassion for the marginalized, and John shares a more theological and reflective perspective.  Think of it like four different friends telling the same story – each adding their own flavor!\n",
      "\n",
      "Ready for a little chuckle related to books and reading?\n",
      "\n",
      "*Why did the bicycle fall over?* Because it was two tired.  (Okay, okay, not exactly gospel-related, but I had to sneak one in!)\n",
      "\n",
      "Now, let's get back on track.  Since you're in Sivakasi,  I wonder if you've ever seen the process of making fireworks up close.  It's quite the spectacle! In a way, the Gospels are kind of like fireworks – they illuminate important moments and truths that can be dazzling and inspiring.\n",
      "\n",
      "Before I let you go, here's a thought-provoking question to consider as you dive into the Gospels: Which of the four Gospel writers do you think you would most like to have a chai with and why?\n",
      "\n",
      "I hope this has been a fun and engaging start to your exploration of the Gospels.  Let me know if you have any other questions or if you'd like some more fun facts or jokes along the way. Happy reading!\n",
      "\n",
      "TERMINATE\n",
      "\n",
      "\n",
      "--------------------------------------------------------------------------------\n",
      "\u001b[31m\n",
      ">>>>>>>> TERMINATING RUN (808190c8-8234-4e10-9d13-903823e5cc03): Maximum turns (1) reached\u001b[0m\n"
     ]
    }
   ],
   "source": [
    "from autogen import initiate_chats\n",
    "\n",
    "chat_results = initiate_chats(chats)\n"
   ]
  },
  {
   "cell_type": "markdown",
   "id": "4f9e2713",
   "metadata": {},
   "source": [
    "## Print out the summary"
   ]
  },
  {
   "cell_type": "code",
   "execution_count": 6,
   "id": "1e122f8a-1ceb-4635-9672-662114b0552a",
   "metadata": {
    "height": 64
   },
   "outputs": [
    {
     "name": "stdout",
     "output_type": "stream",
     "text": [
      "{'content': '```json\\n{\"name\": \"Pandi\", \"location\": \"Sivakasi\"}\\n```\\n', 'refusal': None, 'role': 'assistant', 'annotations': None, 'audio': None, 'function_call': None, 'tool_calls': None}\n",
      "\n",
      "\n",
      "{'content': 'Pandi from Sivakasi is interested in reading the Gospels from the Bible.\\n', 'refusal': None, 'role': 'assistant', 'annotations': None, 'audio': None, 'function_call': None, 'tool_calls': None}\n",
      "\n",
      "\n",
      "{'content': \"Pandi from Sivakasi, known for its printing industry, is interested in reading the Gospels (Matthew, Mark, Luke, and John). Each Gospel offers a unique perspective on Jesus' life.  A lighthearted joke about bicycles is shared.  The Gospels are compared to fireworks, illuminating important truths. A thought-provoking question is posed: Which Gospel writer would you most like to have chai with?  The conversation ends with encouragement for Pandi to enjoy reading the Gospels.\\n\", 'refusal': None, 'role': 'assistant', 'annotations': None, 'audio': None, 'function_call': None, 'tool_calls': None}\n",
      "\n",
      "\n"
     ]
    }
   ],
   "source": [
    "summary=[]\n",
    "for chat_result in chat_results:\n",
    "    print(chat_result.summary)\n",
    "    summary.append(chat_result.summary)\n",
    "    print(\"\\n\")"
   ]
  },
  {
   "cell_type": "code",
   "execution_count": 7,
   "id": "d3959b84-4c73-4483-a79a-800638faa59e",
   "metadata": {},
   "outputs": [
    {
     "data": {
      "text/plain": [
       "[{'content': '```json\\n{\"name\": \"Pandi\", \"location\": \"Sivakasi\"}\\n```\\n',\n",
       "  'refusal': None,\n",
       "  'role': 'assistant',\n",
       "  'annotations': None,\n",
       "  'audio': None,\n",
       "  'function_call': None,\n",
       "  'tool_calls': None},\n",
       " {'content': 'Pandi from Sivakasi is interested in reading the Gospels from the Bible.\\n',\n",
       "  'refusal': None,\n",
       "  'role': 'assistant',\n",
       "  'annotations': None,\n",
       "  'audio': None,\n",
       "  'function_call': None,\n",
       "  'tool_calls': None},\n",
       " {'content': \"Pandi from Sivakasi, known for its printing industry, is interested in reading the Gospels (Matthew, Mark, Luke, and John). Each Gospel offers a unique perspective on Jesus' life.  A lighthearted joke about bicycles is shared.  The Gospels are compared to fireworks, illuminating important truths. A thought-provoking question is posed: Which Gospel writer would you most like to have chai with?  The conversation ends with encouragement for Pandi to enjoy reading the Gospels.\\n\",\n",
       "  'refusal': None,\n",
       "  'role': 'assistant',\n",
       "  'annotations': None,\n",
       "  'audio': None,\n",
       "  'function_call': None,\n",
       "  'tool_calls': None}]"
      ]
     },
     "execution_count": 7,
     "metadata": {},
     "output_type": "execute_result"
    }
   ],
   "source": [
    "summary"
   ]
  },
  {
   "cell_type": "code",
   "execution_count": null,
   "id": "5e04aa71-8390-4450-9738-dc69447d3ca0",
   "metadata": {},
   "outputs": [],
   "source": [
    "#!pip install pandas"
   ]
  },
  {
   "cell_type": "code",
   "execution_count": 8,
   "id": "62d02db6-1094-4374-8672-325593368df4",
   "metadata": {},
   "outputs": [
    {
     "name": "stdout",
     "output_type": "stream",
     "text": [
      "{'content': '```json\\n{\"name\": \"Pandi\", \"location\": \"Sivakasi\"}\\n```\\n', 'refusal': None, 'role': 'assistant', 'annotations': None, 'audio': None, 'function_call': None, 'tool_calls': None}\n"
     ]
    },
    {
     "data": {
      "text/html": [
       "<div>\n",
       "<style scoped>\n",
       "    .dataframe tbody tr th:only-of-type {\n",
       "        vertical-align: middle;\n",
       "    }\n",
       "\n",
       "    .dataframe tbody tr th {\n",
       "        vertical-align: top;\n",
       "    }\n",
       "\n",
       "    .dataframe thead th {\n",
       "        text-align: right;\n",
       "    }\n",
       "</style>\n",
       "<table border=\"1\" class=\"dataframe\">\n",
       "  <thead>\n",
       "    <tr style=\"text-align: right;\">\n",
       "      <th></th>\n",
       "      <th>name</th>\n",
       "      <th>location</th>\n",
       "    </tr>\n",
       "  </thead>\n",
       "  <tbody>\n",
       "    <tr>\n",
       "      <th>0</th>\n",
       "      <td>Pandi</td>\n",
       "      <td>Sivakasi</td>\n",
       "    </tr>\n",
       "  </tbody>\n",
       "</table>\n",
       "</div>"
      ],
      "text/plain": [
       "    name  location\n",
       "0  Pandi  Sivakasi"
      ]
     },
     "execution_count": 8,
     "metadata": {},
     "output_type": "execute_result"
    }
   ],
   "source": [
    "import pandas as pd\n",
    "import ast\n",
    "import json\n",
    "import re\n",
    "\n",
    "# Input string\n",
    "#data_str = \"{'name': 'Ramisha', 'location': 'Coimbatore'}\"\n",
    "data_str=summary[0]\n",
    "print(data_str)\n",
    "# Convert string to dictionary\n",
    "# Extract JSON string using regex\n",
    "match = re.search(r'```json\\n(.*?)\\n```', data_str['content'], re.DOTALL)\n",
    "if match:\n",
    "    json_str = match.group(1)  # Extract JSON part\n",
    "    parsed_data = json.loads(json_str)  # Convert to dictionary\n",
    "else:\n",
    "    print(\"No valid JSON found!\")\n",
    "#data_dict = ast.literal_eval(parsed_data)\n",
    "\n",
    "# Convert dictionary to DataFrame\n",
    "df = pd.DataFrame([parsed_data])\n",
    "\n",
    "df\n"
   ]
  },
  {
   "cell_type": "code",
   "execution_count": 9,
   "id": "4f0f5758-e443-40cb-8ec9-4c679bb2f20c",
   "metadata": {},
   "outputs": [
    {
     "data": {
      "text/plain": [
       "{'content': 'Pandi from Sivakasi is interested in reading the Gospels from the Bible.\\n',\n",
       " 'refusal': None,\n",
       " 'role': 'assistant',\n",
       " 'annotations': None,\n",
       " 'audio': None,\n",
       " 'function_call': None,\n",
       " 'tool_calls': None}"
      ]
     },
     "execution_count": 9,
     "metadata": {},
     "output_type": "execute_result"
    }
   ],
   "source": [
    "summary[1]"
   ]
  },
  {
   "cell_type": "code",
   "execution_count": 10,
   "id": "3c554053-49b1-4151-a82d-de7bd0d96d5e",
   "metadata": {},
   "outputs": [],
   "source": [
    "df[\"TopicPreference\"]=summary[1].get(\"content\")"
   ]
  },
  {
   "cell_type": "code",
   "execution_count": 11,
   "id": "4fdc3fa0-e84d-4f85-8b78-c1b36ad97fa2",
   "metadata": {},
   "outputs": [
    {
     "data": {
      "text/html": [
       "<div>\n",
       "<style scoped>\n",
       "    .dataframe tbody tr th:only-of-type {\n",
       "        vertical-align: middle;\n",
       "    }\n",
       "\n",
       "    .dataframe tbody tr th {\n",
       "        vertical-align: top;\n",
       "    }\n",
       "\n",
       "    .dataframe thead th {\n",
       "        text-align: right;\n",
       "    }\n",
       "</style>\n",
       "<table border=\"1\" class=\"dataframe\">\n",
       "  <thead>\n",
       "    <tr style=\"text-align: right;\">\n",
       "      <th></th>\n",
       "      <th>name</th>\n",
       "      <th>location</th>\n",
       "      <th>TopicPreference</th>\n",
       "    </tr>\n",
       "  </thead>\n",
       "  <tbody>\n",
       "    <tr>\n",
       "      <th>0</th>\n",
       "      <td>Pandi</td>\n",
       "      <td>Sivakasi</td>\n",
       "      <td>Pandi from Sivakasi is interested in reading t...</td>\n",
       "    </tr>\n",
       "  </tbody>\n",
       "</table>\n",
       "</div>"
      ],
      "text/plain": [
       "    name  location                                    TopicPreference\n",
       "0  Pandi  Sivakasi  Pandi from Sivakasi is interested in reading t..."
      ]
     },
     "execution_count": 11,
     "metadata": {},
     "output_type": "execute_result"
    }
   ],
   "source": [
    "df"
   ]
  },
  {
   "cell_type": "code",
   "execution_count": 13,
   "id": "d4f65f98-05bd-4bb0-81cf-37cf70177600",
   "metadata": {},
   "outputs": [
    {
     "data": {
      "text/plain": [
       "'Hey there, Pandi from Sivakasi!  So you\\'re interested in the Gospels, that\\'s fantastic!  It\\'s a journey into some powerful stories and teachings. Since you\\'re from Sivakasi, the \"Printing Capital of India\",  I bet you appreciate a good book!  Did you know that the Gutenberg Bible, one of the first major books printed using movable type, was a Latin version of the Bible, including the Gospels?  Talk about printing history meeting biblical history!\\n\\nNow, since we are focusing on the Gospels (Matthew, Mark, Luke, and John), how about a little fun fact to get us started?  Each Gospel writer offers a unique perspective on Jesus\\' life.  Matthew portrays Jesus as the fulfilled Jewish Messiah, Mark presents a fast-paced, action-packed account, Luke emphasizes Jesus\\' compassion for the marginalized, and John shares a more theological and reflective perspective.  Think of it like four different friends telling the same story – each adding their own flavor!\\n\\nReady for a little chuckle related to books and reading?\\n\\n*Why did the bicycle fall over?* Because it was two tired.  (Okay, okay, not exactly gospel-related, but I had to sneak one in!)\\n\\nNow, let\\'s get back on track.  Since you\\'re in Sivakasi,  I wonder if you\\'ve ever seen the process of making fireworks up close.  It\\'s quite the spectacle! In a way, the Gospels are kind of like fireworks – they illuminate important moments and truths that can be dazzling and inspiring.\\n\\nBefore I let you go, here\\'s a thought-provoking question to consider as you dive into the Gospels: Which of the four Gospel writers do you think you would most like to have a chai with and why?\\n\\nI hope this has been a fun and engaging start to your exploration of the Gospels.  Let me know if you have any other questions or if you\\'d like some more fun facts or jokes along the way. Happy reading!\\n\\nTERMINATE\\n'"
      ]
     },
     "execution_count": 13,
     "metadata": {},
     "output_type": "execute_result"
    }
   ],
   "source": [
    "chat_results[2].chat_history[1].get(\"content\")"
   ]
  },
  {
   "cell_type": "code",
   "execution_count": 14,
   "id": "8fc39ceb-3627-4f04-9b3e-8d6f8857f8b1",
   "metadata": {},
   "outputs": [],
   "source": [
    "df[\"Enagement\"]=chat_results[2].chat_history[1].get(\"content\")"
   ]
  },
  {
   "cell_type": "code",
   "execution_count": 15,
   "id": "3adc3e08-2c15-4b79-a20a-640b1f1930c3",
   "metadata": {},
   "outputs": [
    {
     "data": {
      "text/html": [
       "<div>\n",
       "<style scoped>\n",
       "    .dataframe tbody tr th:only-of-type {\n",
       "        vertical-align: middle;\n",
       "    }\n",
       "\n",
       "    .dataframe tbody tr th {\n",
       "        vertical-align: top;\n",
       "    }\n",
       "\n",
       "    .dataframe thead th {\n",
       "        text-align: right;\n",
       "    }\n",
       "</style>\n",
       "<table border=\"1\" class=\"dataframe\">\n",
       "  <thead>\n",
       "    <tr style=\"text-align: right;\">\n",
       "      <th></th>\n",
       "      <th>name</th>\n",
       "      <th>location</th>\n",
       "      <th>TopicPreference</th>\n",
       "      <th>Enagement</th>\n",
       "    </tr>\n",
       "  </thead>\n",
       "  <tbody>\n",
       "    <tr>\n",
       "      <th>0</th>\n",
       "      <td>Pandi</td>\n",
       "      <td>Sivakasi</td>\n",
       "      <td>Pandi from Sivakasi is interested in reading t...</td>\n",
       "      <td>Hey there, Pandi from Sivakasi!  So you're int...</td>\n",
       "    </tr>\n",
       "  </tbody>\n",
       "</table>\n",
       "</div>"
      ],
      "text/plain": [
       "    name  location                                    TopicPreference  \\\n",
       "0  Pandi  Sivakasi  Pandi from Sivakasi is interested in reading t...   \n",
       "\n",
       "                                           Enagement  \n",
       "0  Hey there, Pandi from Sivakasi!  So you're int...  "
      ]
     },
     "execution_count": 15,
     "metadata": {},
     "output_type": "execute_result"
    }
   ],
   "source": [
    "df"
   ]
  },
  {
   "cell_type": "code",
   "execution_count": null,
   "id": "2e0e5c73-a792-46d9-8c2a-f2e239d22502",
   "metadata": {},
   "outputs": [],
   "source": []
  },
  {
   "cell_type": "code",
   "execution_count": null,
   "id": "b4d05d9f-ebe9-4869-a7fa-ae3e7c24ddea",
   "metadata": {},
   "outputs": [],
   "source": []
  },
  {
   "cell_type": "code",
   "execution_count": null,
   "id": "6fac8d38-bced-449a-967f-f1d46830bc21",
   "metadata": {},
   "outputs": [],
   "source": [
    "#!pip install gspread\n",
    "#!pip install oauth2client"
   ]
  },
  {
   "cell_type": "code",
   "execution_count": 16,
   "id": "ece6177a-5bcf-419e-accb-119df7bf306a",
   "metadata": {},
   "outputs": [],
   "source": [
    "def add_leads_to_google_sheet(df):\n",
    "    import gspread\n",
    "    from oauth2client.service_account import ServiceAccountCredentials\n",
    "\n",
    "    # Define the scope for Google Sheets API\n",
    "    scope = ['https://www.googleapis.com/auth/spreadsheets']\n",
    "\n",
    "    # Add credentials to the account\n",
    "    creds = ServiceAccountCredentials.from_json_keyfile_name(\n",
    "        'fair-subset-455717-s6-84dee767824c.json', scope\n",
    "    )\n",
    "\n",
    "    # Authorize the client\n",
    "    client = gspread.authorize(creds)\n",
    "\n",
    "    # Specify the Google Sheet ID\n",
    "    sheet_id = '1gLkaCmWgQp_fuEqUeOkf-SsjwYfh4PuFQ2tpEKoLTFI'\n",
    "\n",
    "    # Open the spreadsheet using its ID\n",
    "    spreadsheet = client.open_by_key(sheet_id)\n",
    "\n",
    "    # Select the first worksheet (index 0)\n",
    "    worksheet = spreadsheet.get_worksheet(0)\n",
    "\n",
    "    # Append each row of the DataFrame to the worksheet\n",
    "    for _, row in df.iterrows():\n",
    "        # Convert row to a list and append to the sheet\n",
    "        worksheet.append_row(row.tolist())\n",
    "\n",
    "    print(\"Data added successfully!\")\n",
    "    return \"added\"\n"
   ]
  },
  {
   "cell_type": "code",
   "execution_count": 17,
   "id": "fe450b66-964e-4f35-88ae-f6596ab2b04a",
   "metadata": {},
   "outputs": [
    {
     "name": "stdout",
     "output_type": "stream",
     "text": [
      "Data added successfully!\n"
     ]
    },
    {
     "data": {
      "text/plain": [
       "'added'"
      ]
     },
     "execution_count": 17,
     "metadata": {},
     "output_type": "execute_result"
    }
   ],
   "source": [
    "add_leads_to_google_sheet(df)"
   ]
  },
  {
   "cell_type": "markdown",
   "id": "a674c4eb",
   "metadata": {},
   "source": [
    "## Print out the cost"
   ]
  },
  {
   "cell_type": "code",
   "execution_count": 18,
   "id": "8b82a10a-afe5-4ba3-97b4-41c8c14b739f",
   "metadata": {
    "height": 64
   },
   "outputs": [
    {
     "name": "stdout",
     "output_type": "stream",
     "text": [
      "{'usage_including_cached_inference': {'total_cost': 0.00016375, 'gemini-1.5-pro-latest': {'cost': 0.00016375, 'prompt_tokens': 47, 'completion_tokens': 21, 'total_tokens': 68}}, 'usage_excluding_cached_inference': {'total_cost': 0}}\n",
      "\n",
      "\n",
      "{'usage_including_cached_inference': {'total_cost': 0.00015999999999999999, 'gemini-1.5-pro-latest': {'cost': 0.00015999999999999999, 'prompt_tokens': 60, 'completion_tokens': 17, 'total_tokens': 77}}, 'usage_excluding_cached_inference': {'total_cost': 0.00015999999999999999, 'gemini-1.5-pro-latest': {'cost': 0.00015999999999999999, 'prompt_tokens': 60, 'completion_tokens': 17, 'total_tokens': 77}}}\n",
      "\n",
      "\n",
      "{'usage_including_cached_inference': {'total_cost': 0.0033637499999999996, 'gemini-1.5-pro-latest': {'cost': 0.0033637499999999996, 'prompt_tokens': 611, 'completion_tokens': 520, 'total_tokens': 1131}}, 'usage_excluding_cached_inference': {'total_cost': 0.0033637499999999996, 'gemini-1.5-pro-latest': {'cost': 0.0033637499999999996, 'prompt_tokens': 611, 'completion_tokens': 520, 'total_tokens': 1131}}}\n",
      "\n",
      "\n"
     ]
    }
   ],
   "source": [
    "for chat_result in chat_results:\n",
    "    print(chat_result.cost)\n",
    "    print(\"\\n\")"
   ]
  },
  {
   "cell_type": "code",
   "execution_count": 19,
   "id": "747732e0-d8de-4555-aa49-bf42f854b6a6",
   "metadata": {},
   "outputs": [
    {
     "name": "stdout",
     "output_type": "stream",
     "text": [
      "ChatResult(chat_id=None, chat_history=[{'content': \"Hello, I'm here to help you get started with our product. Could you tell me your name and location?\", 'role': 'assistant', 'name': 'onboarding_personal_information_agent'}, {'content': 'Pandi From Sivakasi', 'role': 'user', 'name': 'customer_proxy_agent'}], summary={'content': '```json\\n{\"name\": \"Pandi\", \"location\": \"Sivakasi\"}\\n```\\n', 'refusal': None, 'role': 'assistant', 'annotations': None, 'audio': None, 'function_call': None, 'tool_calls': None}, cost={'usage_including_cached_inference': {'total_cost': 0.00016375, 'gemini-1.5-pro-latest': {'cost': 0.00016375, 'prompt_tokens': 47, 'completion_tokens': 21, 'total_tokens': 68}}, 'usage_excluding_cached_inference': {'total_cost': 0}}, human_input=[])\n",
      "\n",
      "\n",
      "ChatResult(chat_id=None, chat_history=[{'content': 'Great! Could you tell me what topics you are interested in reading about?\\nContext: \\n```json\\n{\"name\": \"Pandi\", \"location\": \"Sivakasi\"}\\n```\\n', 'role': 'assistant', 'name': 'onboarding_topic_preference_agent'}, {'content': 'Gospels from Bible', 'role': 'user', 'name': 'customer_proxy_agent'}], summary={'content': 'Pandi from Sivakasi is interested in reading the Gospels from the Bible.\\n', 'refusal': None, 'role': 'assistant', 'annotations': None, 'audio': None, 'function_call': None, 'tool_calls': None}, cost={'usage_including_cached_inference': {'total_cost': 0.00015999999999999999, 'gemini-1.5-pro-latest': {'cost': 0.00015999999999999999, 'prompt_tokens': 60, 'completion_tokens': 17, 'total_tokens': 77}}, 'usage_excluding_cached_inference': {'total_cost': 0.00015999999999999999, 'gemini-1.5-pro-latest': {'cost': 0.00015999999999999999, 'prompt_tokens': 60, 'completion_tokens': 17, 'total_tokens': 77}}}, human_input=[])\n",
      "\n",
      "\n",
      "ChatResult(chat_id=None, chat_history=[{'content': 'Let\\'s find something fun to read.\\nContext: \\n```json\\n{\"name\": \"Pandi\", \"location\": \"Sivakasi\"}\\n```\\n\\nPandi from Sivakasi is interested in reading the Gospels from the Bible.\\n', 'role': 'assistant', 'name': 'customer_proxy_agent'}, {'content': 'Hey there, Pandi from Sivakasi!  So you\\'re interested in the Gospels, that\\'s fantastic!  It\\'s a journey into some powerful stories and teachings. Since you\\'re from Sivakasi, the \"Printing Capital of India\",  I bet you appreciate a good book!  Did you know that the Gutenberg Bible, one of the first major books printed using movable type, was a Latin version of the Bible, including the Gospels?  Talk about printing history meeting biblical history!\\n\\nNow, since we are focusing on the Gospels (Matthew, Mark, Luke, and John), how about a little fun fact to get us started?  Each Gospel writer offers a unique perspective on Jesus\\' life.  Matthew portrays Jesus as the fulfilled Jewish Messiah, Mark presents a fast-paced, action-packed account, Luke emphasizes Jesus\\' compassion for the marginalized, and John shares a more theological and reflective perspective.  Think of it like four different friends telling the same story – each adding their own flavor!\\n\\nReady for a little chuckle related to books and reading?\\n\\n*Why did the bicycle fall over?* Because it was two tired.  (Okay, okay, not exactly gospel-related, but I had to sneak one in!)\\n\\nNow, let\\'s get back on track.  Since you\\'re in Sivakasi,  I wonder if you\\'ve ever seen the process of making fireworks up close.  It\\'s quite the spectacle! In a way, the Gospels are kind of like fireworks – they illuminate important moments and truths that can be dazzling and inspiring.\\n\\nBefore I let you go, here\\'s a thought-provoking question to consider as you dive into the Gospels: Which of the four Gospel writers do you think you would most like to have a chai with and why?\\n\\nI hope this has been a fun and engaging start to your exploration of the Gospels.  Let me know if you have any other questions or if you\\'d like some more fun facts or jokes along the way. Happy reading!\\n\\nTERMINATE\\n', 'role': 'user', 'name': 'customer_engagement_agent'}], summary={'content': \"Pandi from Sivakasi, known for its printing industry, is interested in reading the Gospels (Matthew, Mark, Luke, and John). Each Gospel offers a unique perspective on Jesus' life.  A lighthearted joke about bicycles is shared.  The Gospels are compared to fireworks, illuminating important truths. A thought-provoking question is posed: Which Gospel writer would you most like to have chai with?  The conversation ends with encouragement for Pandi to enjoy reading the Gospels.\\n\", 'refusal': None, 'role': 'assistant', 'annotations': None, 'audio': None, 'function_call': None, 'tool_calls': None}, cost={'usage_including_cached_inference': {'total_cost': 0.0033637499999999996, 'gemini-1.5-pro-latest': {'cost': 0.0033637499999999996, 'prompt_tokens': 611, 'completion_tokens': 520, 'total_tokens': 1131}}, 'usage_excluding_cached_inference': {'total_cost': 0.0033637499999999996, 'gemini-1.5-pro-latest': {'cost': 0.0033637499999999996, 'prompt_tokens': 611, 'completion_tokens': 520, 'total_tokens': 1131}}}, human_input=[])\n",
      "\n",
      "\n"
     ]
    }
   ],
   "source": [
    "for chat_result in chat_results:\n",
    "    print(chat_result)\n",
    "    print(\"\\n\")"
   ]
  },
  {
   "cell_type": "code",
   "execution_count": null,
   "id": "a3cf8b33-6682-4acd-b285-ec766fb2a5eb",
   "metadata": {},
   "outputs": [],
   "source": []
  }
 ],
 "metadata": {
  "kernelspec": {
   "display_name": "Python 3 (ipykernel)",
   "language": "python",
   "name": "python3"
  },
  "language_info": {
   "codemirror_mode": {
    "name": "ipython",
    "version": 3
   },
   "file_extension": ".py",
   "mimetype": "text/x-python",
   "name": "python",
   "nbconvert_exporter": "python",
   "pygments_lexer": "ipython3",
   "version": "3.11.11"
  }
 },
 "nbformat": 4,
 "nbformat_minor": 5
}
