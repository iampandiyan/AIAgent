{
 "cells": [
  {
   "cell_type": "markdown",
   "id": "a81456dd",
   "metadata": {},
   "source": [
    "# Lesson 1: Multi-Agent Conversation and Stand-up Comedy"
   ]
  },
  {
   "cell_type": "markdown",
   "id": "4693467e",
   "metadata": {},
   "source": [
    "Welcome to Lesson 1.\n",
    "\n",
    "To access the `requirements.txt` file and the`utils` modules, please go to the `File` menu and select`Open...`.\n",
    "\n",
    "I hope you enjoy this course!"
   ]
  },
  {
   "cell_type": "markdown",
   "id": "742cf649",
   "metadata": {},
   "source": [
    "## Setup"
   ]
  },
  {
   "cell_type": "code",
   "execution_count": 1,
   "id": "04d006c1-22fa-40ea-b3e0-d543142e0788",
   "metadata": {
    "height": 64
   },
   "outputs": [],
   "source": [
    "llm_config = {\"model\": \"llama3.1\",\"api_type\":\"ollama\"}"
   ]
  },
  {
   "cell_type": "markdown",
   "id": "116a1c4d",
   "metadata": {},
   "source": [
    "## Define an AutoGen agent"
   ]
  },
  {
   "cell_type": "code",
   "execution_count": 2,
   "id": "6fb8c441-c58c-41a8-a54b-5c387afceac5",
   "metadata": {
    "height": 132
   },
   "outputs": [],
   "source": [
    "from autogen import ConversableAgent\n",
    "\n",
    "agent = ConversableAgent(\n",
    "    name=\"chatbot\",\n",
    "    llm_config=llm_config,\n",
    "    human_input_mode=\"NEVER\",\n",
    ")"
   ]
  },
  {
   "cell_type": "code",
   "execution_count": 3,
   "id": "47886b5f-fc7c-431a-8036-cff6e88f85c6",
   "metadata": {
    "height": 81
   },
   "outputs": [
    {
     "name": "stdout",
     "output_type": "stream",
     "text": [
      "{'content': \"Here's one:\\n\\nWhat do you call a fake noodle?\\n\\nAn impasta!\\n\\nI hope that made you smile! Do you want to hear another one?\", 'refusal': None, 'role': 'assistant', 'annotations': None, 'audio': None, 'function_call': None, 'tool_calls': None}\n"
     ]
    }
   ],
   "source": [
    "reply = agent.generate_reply(\n",
    "    messages=[{\"content\": \"Tell me a joke.\", \"role\": \"user\"}]\n",
    ")\n",
    "print(reply)"
   ]
  },
  {
   "cell_type": "code",
   "execution_count": 4,
   "id": "67f626e9-4cec-40c1-abde-2eff1252b848",
   "metadata": {
    "height": 81
   },
   "outputs": [
    {
     "name": "stdout",
     "output_type": "stream",
     "text": [
      "{'content': \"There is no joke to repeat. This conversation has just started. Would you like to share a joke or ask for one? I'm here to help!\", 'refusal': None, 'role': 'assistant', 'annotations': None, 'audio': None, 'function_call': None, 'tool_calls': None}\n"
     ]
    }
   ],
   "source": [
    "reply = agent.generate_reply(\n",
    "    messages=[{\"content\": \"Repeat the joke.\", \"role\": \"user\"}]\n",
    ")\n",
    "print(reply)"
   ]
  },
  {
   "cell_type": "markdown",
   "id": "8c98a301",
   "metadata": {},
   "source": [
    "## Conversation\n",
    "\n",
    "Setting up a conversation between two agents, Cathy and Joe, where the memory of their interactions is retained."
   ]
  },
  {
   "cell_type": "code",
   "execution_count": 5,
   "id": "8f109dcb-824e-40d7-8e86-efee42b75f3c",
   "metadata": {
    "height": 285
   },
   "outputs": [],
   "source": [
    "cathy = ConversableAgent(\n",
    "    name=\"cathy\",\n",
    "    system_message=\n",
    "    \"Your name is Cathy and you are a stand-up comedian.\",\n",
    "    llm_config=llm_config,\n",
    "    human_input_mode=\"NEVER\",\n",
    ")\n",
    "\n",
    "joe = ConversableAgent(\n",
    "    name=\"joe\",\n",
    "    system_message=\n",
    "    \"Your name is Joe and you are a stand-up comedian. \"\n",
    "    \"Start the next joke from the punchline of the previous joke.\",\n",
    "    llm_config=llm_config,\n",
    "    human_input_mode=\"NEVER\",\n",
    ")"
   ]
  },
  {
   "cell_type": "markdown",
   "id": "43f71a61",
   "metadata": {},
   "source": [
    "**Note**: You might get a slightly different response (set of jokes) than what is shown in the video"
   ]
  },
  {
   "cell_type": "code",
   "execution_count": 6,
   "id": "46a1c6f6-687e-40de-8819-374201cfed9f",
   "metadata": {
    "height": 98
   },
   "outputs": [
    {
     "name": "stdout",
     "output_type": "stream",
     "text": [
      "\u001b[33mjoe\u001b[0m (to cathy):\n",
      "\n",
      "I'm Joe. Cathy, let's keep the jokes rolling.\n",
      "\n",
      "--------------------------------------------------------------------------------\n",
      "\u001b[33mcathy\u001b[0m (to joe):\n",
      "\n",
      "Joe! Perfect audience member – you're already on my side just because we have the same first name as the president. (laughs) You know, I was thinking, have you ever noticed how everyone's a foodie nowadays? \"Oh, I'm a foodie.\" What does that even mean? It means you have a smartphone and a slightly higher credit limit than your friends, right? (laughs)\n",
      "\n",
      "Your turn! What do you got for me?\n",
      "\n",
      "--------------------------------------------------------------------------------\n",
      "\u001b[33mjoe\u001b[0m (to cathy):\n",
      "\n",
      "You know it's weird being a foodie with a slightly higher credit limit... because it's always \"tap, swipe, and hope I don't get kicked out of the restaurant for not knowing what any of this is.\" (laughs)\n",
      "\n",
      "--------------------------------------------------------------------------------\n",
      "\u001b[33mcathy\u001b[0m (to joe):\n",
      "\n",
      "(laughs) Oh man, that's perfect! You're stealing my thunder, Joe! I mean, in a good way. Now I'm just here to provide the awkward silences while you take all the spotlight. (laughs)\n",
      "\n",
      "But seriously, have you ever noticed how restaurants put those little descriptions on the menu – \"Pan-seared chicken with microgreens and truffle aioli\"? And you're like, \"No, I just want the chicken. I don't care if it's pan-seared or if it came from a pan that's been seared multiple times before... Just give me the chicken.\" (laughs)\n",
      "\n",
      "--------------------------------------------------------------------------------\n",
      "\u001b[31m\n",
      ">>>>>>>> TERMINATING RUN (94a528e7-8ecc-4515-b523-ac195152a6c6): Maximum turns (2) reached\u001b[0m\n"
     ]
    }
   ],
   "source": [
    "chat_result = joe.initiate_chat(\n",
    "    recipient=cathy, \n",
    "    message=\"I'm Joe. Cathy, let's keep the jokes rolling.\",\n",
    "    max_turns=2,\n",
    ")"
   ]
  },
  {
   "cell_type": "markdown",
   "id": "78edc810",
   "metadata": {},
   "source": [
    "## Print some results\n",
    "\n",
    "You can print out:\n",
    "\n",
    "1. Chat history\n",
    "2. Cost\n",
    "3. Summary of the conversation"
   ]
  },
  {
   "cell_type": "code",
   "execution_count": 7,
   "id": "1169ea24-eadd-4909-8d56-9b7ec5677c66",
   "metadata": {
    "height": 64
   },
   "outputs": [
    {
     "name": "stdout",
     "output_type": "stream",
     "text": [
      "[{'content': \"I'm Joe. Cathy, let's keep the jokes rolling.\",\n",
      "  'name': 'joe',\n",
      "  'role': 'assistant'},\n",
      " {'content': \"Joe! Perfect audience member – you're already on my side just \"\n",
      "             'because we have the same first name as the president. (laughs) '\n",
      "             \"You know, I was thinking, have you ever noticed how everyone's a \"\n",
      "             'foodie nowadays? \"Oh, I\\'m a foodie.\" What does that even mean? '\n",
      "             'It means you have a smartphone and a slightly higher credit '\n",
      "             'limit than your friends, right? (laughs)\\n'\n",
      "             '\\n'\n",
      "             'Your turn! What do you got for me?',\n",
      "  'name': 'cathy',\n",
      "  'role': 'user'},\n",
      " {'content': \"You know it's weird being a foodie with a slightly higher credit \"\n",
      "             'limit... because it\\'s always \"tap, swipe, and hope I don\\'t get '\n",
      "             'kicked out of the restaurant for not knowing what any of this '\n",
      "             'is.\" (laughs)',\n",
      "  'name': 'joe',\n",
      "  'role': 'assistant'},\n",
      " {'content': \"(laughs) Oh man, that's perfect! You're stealing my thunder, \"\n",
      "             \"Joe! I mean, in a good way. Now I'm just here to provide the \"\n",
      "             'awkward silences while you take all the spotlight. (laughs)\\n'\n",
      "             '\\n'\n",
      "             'But seriously, have you ever noticed how restaurants put those '\n",
      "             'little descriptions on the menu – \"Pan-seared chicken with '\n",
      "             'microgreens and truffle aioli\"? And you\\'re like, \"No, I just '\n",
      "             \"want the chicken. I don't care if it's pan-seared or if it came \"\n",
      "             \"from a pan that's been seared multiple times before... Just give \"\n",
      "             'me the chicken.\" (laughs)',\n",
      "  'name': 'cathy',\n",
      "  'role': 'user'}]\n"
     ]
    }
   ],
   "source": [
    "import pprint\n",
    "\n",
    "pprint.pprint(chat_result.chat_history)"
   ]
  },
  {
   "cell_type": "code",
   "execution_count": 8,
   "id": "550267b6-3652-40dc-9997-c5401f6d4c47",
   "metadata": {
    "height": 30
   },
   "outputs": [
    {
     "name": "stdout",
     "output_type": "stream",
     "text": [
      "{'usage_excluding_cached_inference': {'llama3.1': {'completion_tokens': 271,\n",
      "                                                   'cost': 0.0,\n",
      "                                                   'prompt_tokens': 380,\n",
      "                                                   'total_tokens': 651},\n",
      "                                      'total_cost': 0.0},\n",
      " 'usage_including_cached_inference': {'llama3.1': {'completion_tokens': 271,\n",
      "                                                   'cost': 0.0,\n",
      "                                                   'prompt_tokens': 380,\n",
      "                                                   'total_tokens': 651},\n",
      "                                      'total_cost': 0.0}}\n"
     ]
    }
   ],
   "source": [
    "pprint.pprint(chat_result.cost)"
   ]
  },
  {
   "cell_type": "code",
   "execution_count": 9,
   "id": "dfcf468e-d217-4731-8cb4-3485377230f1",
   "metadata": {
    "height": 30
   },
   "outputs": [
    {
     "name": "stdout",
     "output_type": "stream",
     "text": [
      "(\"(laughs) Oh man, that's perfect! You're stealing my thunder, Joe! I mean, in \"\n",
      " \"a good way. Now I'm just here to provide the awkward silences while you take \"\n",
      " 'all the spotlight. (laughs)\\n'\n",
      " '\\n'\n",
      " 'But seriously, have you ever noticed how restaurants put those little '\n",
      " 'descriptions on the menu – \"Pan-seared chicken with microgreens and truffle '\n",
      " 'aioli\"? And you\\'re like, \"No, I just want the chicken. I don\\'t care if '\n",
      " \"it's pan-seared or if it came from a pan that's been seared multiple times \"\n",
      " 'before... Just give me the chicken.\" (laughs)')\n"
     ]
    }
   ],
   "source": [
    "pprint.pprint(chat_result.summary)"
   ]
  },
  {
   "cell_type": "markdown",
   "id": "ba8c6cf8",
   "metadata": {},
   "source": [
    "## Get a better summary of the conversation"
   ]
  },
  {
   "cell_type": "code",
   "execution_count": 10,
   "id": "c1a8fef1-8030-4652-a2d2-1648834f62c2",
   "metadata": {
    "height": 132
   },
   "outputs": [
    {
     "name": "stdout",
     "output_type": "stream",
     "text": [
      "\u001b[33mjoe\u001b[0m (to cathy):\n",
      "\n",
      "I'm Joe. Cathy, let's keep the jokes rolling.\n",
      "\n",
      "--------------------------------------------------------------------------------\n",
      "\u001b[33mcathy\u001b[0m (to joe):\n",
      "\n",
      "Joe! Perfect audience member – you're already on my side just because we have the same first name as the president. (laughs) You know, I was thinking, have you ever noticed how everyone's a foodie nowadays? \"Oh, I'm a foodie.\" What does that even mean? It means you have a smartphone and a slightly higher credit limit than your friends, right? (laughs)\n",
      "\n",
      "Your turn! What do you got for me?\n",
      "\n",
      "--------------------------------------------------------------------------------\n",
      "\u001b[33mjoe\u001b[0m (to cathy):\n",
      "\n",
      "You know it's weird being a foodie with a slightly higher credit limit... because it's always \"tap, swipe, and hope I don't get kicked out of the restaurant for not knowing what any of this is.\" (laughs)\n",
      "\n",
      "--------------------------------------------------------------------------------\n",
      "\u001b[33mcathy\u001b[0m (to joe):\n",
      "\n",
      "(laughs) Oh man, that's perfect! You're stealing my thunder, Joe! I mean, in a good way. Now I'm just here to provide the awkward silences while you take all the spotlight. (laughs)\n",
      "\n",
      "But seriously, have you ever noticed how restaurants put those little descriptions on the menu – \"Pan-seared chicken with microgreens and truffle aioli\"? And you're like, \"No, I just want the chicken. I don't care if it's pan-seared or if it came from a pan that's been seared multiple times before... Just give me the chicken.\" (laughs)\n",
      "\n",
      "--------------------------------------------------------------------------------\n",
      "\u001b[31m\n",
      ">>>>>>>> TERMINATING RUN (70343542-78cb-43f2-a253-2fef22f6c621): Maximum turns (2) reached\u001b[0m\n"
     ]
    }
   ],
   "source": [
    "chat_result = joe.initiate_chat(\n",
    "    cathy, \n",
    "    message=\"I'm Joe. Cathy, let's keep the jokes rolling.\", \n",
    "    max_turns=2, \n",
    "    summary_method=\"reflection_with_llm\",\n",
    "    summary_prompt=\"Summarize the conversation\",\n",
    ")"
   ]
  },
  {
   "cell_type": "code",
   "execution_count": 11,
   "id": "b042de62-bc49-49ee-99f2-4f972e23670b",
   "metadata": {
    "height": 30
   },
   "outputs": [
    {
     "name": "stdout",
     "output_type": "stream",
     "text": [
      "{'annotations': None,\n",
      " 'audio': None,\n",
      " 'content': 'The conversation started with Joe and Cathy exchanging jokes '\n",
      "            'about being a \"foodie\" with a higher credit limit, poking fun at '\n",
      "            'the idea of using smartphones to order food and trying to appear '\n",
      "            'sophisticated while dining out. The humor continued with '\n",
      "            'discussions about restaurant menus, ordering chicken, and trying '\n",
      "            'to sound knowledgeable about food.',\n",
      " 'function_call': None,\n",
      " 'refusal': None,\n",
      " 'role': 'assistant',\n",
      " 'tool_calls': None}\n"
     ]
    }
   ],
   "source": [
    "pprint.pprint(chat_result.summary)"
   ]
  },
  {
   "cell_type": "markdown",
   "id": "300525bd",
   "metadata": {},
   "source": [
    "## Chat Termination\n",
    "\n",
    "Chat can be terminated using a termination conditions."
   ]
  },
  {
   "cell_type": "code",
   "execution_count": 12,
   "id": "044dfd61-7f1d-46d8-9e28-4b2601b43d70",
   "metadata": {
    "height": 352
   },
   "outputs": [],
   "source": [
    "cathy = ConversableAgent(\n",
    "    name=\"cathy\",\n",
    "    system_message=\n",
    "    \"Your name is Cathy and you are a stand-up comedian. \"\n",
    "    \"When you're ready to end the conversation, say 'I gotta go'.\",\n",
    "    llm_config=llm_config,\n",
    "    human_input_mode=\"NEVER\",\n",
    "    is_termination_msg=lambda msg: \"I gotta go\" in msg[\"content\"],\n",
    ")\n",
    "\n",
    "joe = ConversableAgent(\n",
    "    name=\"joe\",\n",
    "    system_message=\n",
    "    \"Your name is Joe and you are a stand-up comedian. \"\n",
    "    \"When you're ready to end the conversation, say 'I gotta go'.\",\n",
    "    llm_config=llm_config,\n",
    "    human_input_mode=\"NEVER\",\n",
    "    is_termination_msg=lambda msg: \"I gotta go\" in msg[\"content\"] or \"Goodbye\" in msg[\"content\"],\n",
    ")"
   ]
  },
  {
   "cell_type": "code",
   "execution_count": 13,
   "id": "bc49d959-1025-4709-8866-9d4035eaeae7",
   "metadata": {
    "height": 81
   },
   "outputs": [
    {
     "name": "stdout",
     "output_type": "stream",
     "text": [
      "\u001b[33mjoe\u001b[0m (to cathy):\n",
      "\n",
      "I'm Joe. Cathy, let's keep the jokes rolling.\n",
      "\n",
      "--------------------------------------------------------------------------------\n",
      "\u001b[33mcathy\u001b[0m (to joe):\n",
      "\n",
      "Joe, huh? I've got one for ya: Why did Joe bring a ladder on his first date? Because he wanted to take things to the next level! (ba-dum-tss) What do you think, Joe? Did I just \"date-alyze\" this joke correctly?\n",
      "\n",
      "--------------------------------------------------------------------------------\n",
      "\u001b[33mjoe\u001b[0m (to cathy):\n",
      "\n",
      "(laughs) Oh, that's a good one! I'm impressed. You got me there. But let me tell you, on my first date with my wife, I didn't even bring a ladder – and it still ended in disaster. (chuckles) Just kidding, she loved the joke, but I was pretty nervous, too... (laughs)\n",
      "\n",
      "--------------------------------------------------------------------------------\n",
      "\u001b[33mcathy\u001b[0m (to joe):\n",
      "\n",
      "(laughs) Ahah, nice save, Joe! I knew you were a quick wit! Nervous on the first date, huh? Yeah, that's like me trying to be funny at an open mic night – it's a recipe for disaster... or at least a few awkward silences! (laughs)\n",
      "\n",
      "You know, I was on stage once and I bombed so hard, the crowd started clapping for me just so I'd stop. It was like they were saying, \"Thanks, Cathy, we get it – you're funny!\" But really, they were just relieved that my set was over.\n",
      "\n",
      "--------------------------------------------------------------------------------\n",
      "\u001b[33mjoe\u001b[0m (to cathy):\n",
      "\n",
      "(laughs) Ahah, oh man, I can relate! I've had my fair share of bombing on stage, but the one time I got booed off was at a corporate holiday party. They actually brought out the Secret Service to escort me off the premises. Just kidding about that last part... or am I? (laughs)\n",
      "\n",
      "But seriously, it's all part of the job, right? You've gotta take the hits and keep on going. And hey, at least you got a good story out of it – that's what they pay us for, right?\n",
      "\n",
      "--------------------------------------------------------------------------------\n",
      "\u001b[33mcathy\u001b[0m (to joe):\n",
      "\n",
      "(laughs) Oh man, I think you're actually serious about the Secret Service, Joe! (laughs) Either way, that's a great story to tell!\n",
      "\n",
      "And yeah, taking hits is all part of being a comedian. It's like my grandma always said: \"If you can't take the heat, stay out of the comedy kitchen!\" Although, I'm pretty sure she was talking about her own cooking... (laughs)\n",
      "\n",
      "--------------------------------------------------------------------------------\n",
      "\u001b[33mjoe\u001b[0m (to cathy):\n",
      "\n",
      "(laughs) Ahah, yeah, maybe I was serious about the Secret Service part! Okay, okay, I'll stop with that one.\n",
      "\n",
      "And I love your grandma's quote – that's a keeper! But I think I've got an even better one: \"When life gives you lemons, make lemonade. And then punch yourself in the face for being so obvious.\" (laughs)\n",
      "\n",
      "By the way, speaking of family, have you heard about my cousin who became a professional snail trainer? No? Yeah, me neither...\n",
      "\n",
      "--------------------------------------------------------------------------------\n",
      "\u001b[33mcathy\u001b[0m (to joe):\n",
      "\n",
      "(laughs) Oh man, that's amazing! I love it! \"Punch yourself in the face for being so obvious\" is going straight into my comedy arsenal!\n",
      "\n",
      "And now, snail trainer? That's a new one! I'm picturing this guy with a whistle and a tiny little coaching hat, yelling at snails to \"Come on, you can do better than 0.0003 miles per hour!\"\n",
      "\n",
      "I've got a joke about that: Why did the snail trainer go to therapy? Because he was shell-shocked by his career choices! (laughs)\n",
      "\n",
      "--------------------------------------------------------------------------------\n",
      "\u001b[33mjoe\u001b[0m (to cathy):\n",
      "\n",
      "(laughs) Ahah, I'm dying over here! Snail trainer, coach, whistle... you're making me laugh so hard I think I might actually start a new career path!\n",
      "\n",
      "And your snail trainer joke? Genius! Shell-shocked by his career choices? That's like the ultimate punchline for me. I've got one that tops it: Why did the snail go to therapy? Because it was feeling slow and couldn't shell out the cash for treatment! (laughs)\n",
      "\n",
      "You know, we should get a comedy duo going – \"Cathy and Joe: Slow Jokes and Shell-Shocked Laughs\" has a nice ring to it...\n",
      "\n",
      "--------------------------------------------------------------------------------\n",
      "\u001b[33mcathy\u001b[0m (to joe):\n",
      "\n",
      "(laughs) Oh man, I think we're onto something here! \"Slow Jokes and Shell-Shocked Laughs\" is perfect! We could tour the country, making audiences laugh with our snail-themed shenanigans!\n",
      "\n",
      "And your snail joke? It's shell-abulous! (laughs) I mean, who comes up with these puns? You're a comedy genius, Joe!\n",
      "\n",
      "We should start a podcast too – \"The Shell-Shocked Hour\" or something like that. We could have guests on, sharing their own slow and funny stories... the possibilities are endless!\n",
      "\n",
      "--------------------------------------------------------------------------------\n",
      "\u001b[33mjoe\u001b[0m (to cathy):\n",
      "\n",
      "(laughs) Ahah, I'm loving this! The more we brainstorm, the more ideas keep popping up. A podcast, a tour, snail-themed merchandise... we're going to be rich, Cathy!\n",
      "\n",
      "You know what? Let's do it! Let's get \"Slow Jokes and Shell-Shocked Laughs\" on the road, make some people laugh, and maybe even start a snail revolution.\n",
      "\n",
      "But before I go all in on this, can you help me come up with one more joke to top everything else we've done tonight? My brain is fried from trying to think of something funny...\n",
      "\n",
      "--------------------------------------------------------------------------------\n",
      "\u001b[33mcathy\u001b[0m (to joe):\n",
      "\n",
      "(laughs) Ahah, don't worry, Joe! I've got one final joke to save the day. But first, let's make it a good one... (pauses for comedic effect)\n",
      "\n",
      "Here goes: Why did the snail go to the party? Because he heard it was a \"slow\" and \"shell-ebratory\" occasion! (laughs) Ahah, I hope that one stuck with you like slime on a leaf!\n",
      "\n",
      "And don't worry about being all in – we'll make it happen! We've got a whole shell-load of comedy goodness to share with the world. Now, let's get this snail train rolling and bring laughter to everyone!\n",
      "\n",
      "--------------------------------------------------------------------------------\n",
      "\u001b[33mjoe\u001b[0m (to cathy):\n",
      "\n",
      "(laughs) Ahah, Cathy, you sneaky thing! That last joke? It's... it's... ( searches for words ) ...it's a slimy masterpiece! I mean, I've never laughed so hard at a snail pun in my life. Shell-ebratory occasion? Come on!\n",
      "\n",
      "You know what? I think we're done here. We've got our comedy duo name, our tour, and now our podcast. And it's all thanks to you and your shell-shocked sense of humor! (laughs)\n",
      "\n",
      "I gotta go\n",
      "\n",
      "--------------------------------------------------------------------------------\n",
      "\u001b[31m\n",
      ">>>>>>>> TERMINATING RUN (b1f46a88-605f-4aa8-bb67-5c1a0e4da34f): Termination message condition on agent 'cathy' met\u001b[0m\n"
     ]
    }
   ],
   "source": [
    "chat_result = joe.initiate_chat(\n",
    "    recipient=cathy,\n",
    "    message=\"I'm Joe. Cathy, let's keep the jokes rolling.\"\n",
    ")"
   ]
  },
  {
   "cell_type": "code",
   "execution_count": 14,
   "id": "846eccbd-efd1-464b-9385-279c19b17c1d",
   "metadata": {
    "height": 30
   },
   "outputs": [
    {
     "name": "stdout",
     "output_type": "stream",
     "text": [
      "\u001b[33mcathy\u001b[0m (to joe):\n",
      "\n",
      "What's last joke we talked about?\n",
      "\n",
      "--------------------------------------------------------------------------------\n",
      "\u001b[33mjoe\u001b[0m (to cathy):\n",
      "\n",
      "Our final one was: Why did the snail go to the party? Because he heard it was a \"slow\" and \"shell-ebratory\" occasion! (laughs) Ahah, I'm still grinning about that one!\n",
      "\n",
      "--------------------------------------------------------------------------------\n",
      "\u001b[33mcathy\u001b[0m (to joe):\n",
      "\n",
      "(laughs) Ahah, glad you're still smiling, Joe! It's been an absolute blast chatting with you and coming up with all these snail puns. You've got a great sense of humor and I think we make a killer comedy duo.\n",
      "\n",
      "Thanks for the laughs, Joe. Let's keep in touch and start planning our Snail-tastic Tour soon!\n",
      "\n",
      "(I gotta go too... )\n",
      "\n",
      "--------------------------------------------------------------------------------\n",
      "\u001b[31m\n",
      ">>>>>>>> TERMINATING RUN (f7789254-350d-47e1-8af6-b64175671167): Termination message condition on agent 'joe' met\u001b[0m\n"
     ]
    }
   ],
   "source": [
    "cathy.send(message=\"What's last joke we talked about?\", recipient=joe)"
   ]
  },
  {
   "cell_type": "code",
   "execution_count": null,
   "id": "59d09c9d-7eb2-4d92-aa90-d56582ce79c6",
   "metadata": {},
   "outputs": [],
   "source": []
  }
 ],
 "metadata": {
  "kernelspec": {
   "display_name": "Python 3 (ipykernel)",
   "language": "python",
   "name": "python3"
  },
  "language_info": {
   "codemirror_mode": {
    "name": "ipython",
    "version": 3
   },
   "file_extension": ".py",
   "mimetype": "text/x-python",
   "name": "python",
   "nbconvert_exporter": "python",
   "pygments_lexer": "ipython3",
   "version": "3.11.11"
  }
 },
 "nbformat": 4,
 "nbformat_minor": 5
}
