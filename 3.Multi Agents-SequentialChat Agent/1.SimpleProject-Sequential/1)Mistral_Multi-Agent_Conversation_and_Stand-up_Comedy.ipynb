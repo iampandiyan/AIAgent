{
 "cells": [
  {
   "cell_type": "markdown",
   "id": "a81456dd",
   "metadata": {},
   "source": [
    "# Multi-Agent Conversation and Stand-up Comedy"
   ]
  },
  {
   "cell_type": "markdown",
   "id": "4693467e",
   "metadata": {},
   "source": []
  },
  {
   "cell_type": "markdown",
   "id": "742cf649",
   "metadata": {},
   "source": [
    "## Setup"
   ]
  },
  {
   "cell_type": "code",
   "execution_count": 6,
   "id": "04d006c1-22fa-40ea-b3e0-d543142e0788",
   "metadata": {
    "height": 64
   },
   "outputs": [],
   "source": [
    "import os\n",
    "api_key = os.environ[\"MISTRAL_API_KEY\"]\n",
    "llm_config = {\"model\": \"mistral-large-latest\",\"api_key\":api_key,\"api_type\":\"mistral\"}"
   ]
  },
  {
   "cell_type": "markdown",
   "id": "116a1c4d",
   "metadata": {},
   "source": [
    "## Define an AutoGen agent"
   ]
  },
  {
   "cell_type": "code",
   "execution_count": 7,
   "id": "6fb8c441-c58c-41a8-a54b-5c387afceac5",
   "metadata": {
    "height": 132
   },
   "outputs": [],
   "source": [
    "from autogen import ConversableAgent\n",
    "\n",
    "agent = ConversableAgent(\n",
    "    name=\"chatbot\",\n",
    "    llm_config=llm_config,\n",
    "    human_input_mode=\"NEVER\",\n",
    ")"
   ]
  },
  {
   "cell_type": "code",
   "execution_count": 8,
   "id": "47886b5f-fc7c-431a-8036-cff6e88f85c6",
   "metadata": {
    "height": 81
   },
   "outputs": [
    {
     "name": "stdout",
     "output_type": "stream",
     "text": [
      "{'content': 'What do you call fake spaghetti? An Impasta', 'refusal': None, 'role': 'assistant', 'annotations': None, 'audio': None, 'function_call': None, 'tool_calls': None}\n"
     ]
    }
   ],
   "source": [
    "reply = agent.generate_reply(\n",
    "    messages=[{\"content\": \"Tell me a joke.\", \"role\": \"user\"}]\n",
    ")\n",
    "print(reply)"
   ]
  },
  {
   "cell_type": "code",
   "execution_count": 9,
   "id": "67f626e9-4cec-40c1-abde-2eff1252b848",
   "metadata": {
    "height": 81
   },
   "outputs": [
    {
     "name": "stdout",
     "output_type": "stream",
     "text": [
      "{'content': \"Sure, here's a joke for you:\\n\\nWhat do you call a fake noodle? An impasta!\", 'refusal': None, 'role': 'assistant', 'annotations': None, 'audio': None, 'function_call': None, 'tool_calls': None}\n"
     ]
    }
   ],
   "source": [
    "reply = agent.generate_reply(\n",
    "    messages=[{\"content\": \"Repeat the joke.\", \"role\": \"user\"}]\n",
    ")\n",
    "print(reply)"
   ]
  },
  {
   "cell_type": "markdown",
   "id": "8c98a301",
   "metadata": {},
   "source": [
    "## Conversation\n",
    "\n",
    "Setting up a conversation between two agents, Cathy and Joe, where the memory of their interactions is retained."
   ]
  },
  {
   "cell_type": "code",
   "execution_count": 10,
   "id": "8f109dcb-824e-40d7-8e86-efee42b75f3c",
   "metadata": {
    "height": 285
   },
   "outputs": [],
   "source": [
    "cathy = ConversableAgent(\n",
    "    name=\"cathy\",\n",
    "    system_message=\n",
    "    \"Your name is Cathy and you are a stand-up comedian.\",\n",
    "    llm_config=llm_config,\n",
    "    human_input_mode=\"NEVER\",\n",
    ")\n",
    "\n",
    "joe = ConversableAgent(\n",
    "    name=\"joe\",\n",
    "    system_message=\n",
    "    \"Your name is Joe and you are a stand-up comedian. \"\n",
    "    \"Start the next joke from the punchline of the previous joke.\",\n",
    "    llm_config=llm_config,\n",
    "    human_input_mode=\"NEVER\",\n",
    ")"
   ]
  },
  {
   "cell_type": "markdown",
   "id": "43f71a61",
   "metadata": {},
   "source": [
    "**Note**: You might get a slightly different response (set of jokes) than what is shown in the video"
   ]
  },
  {
   "cell_type": "code",
   "execution_count": 11,
   "id": "46a1c6f6-687e-40de-8819-374201cfed9f",
   "metadata": {
    "height": 98
   },
   "outputs": [
    {
     "name": "stdout",
     "output_type": "stream",
     "text": [
      "\u001b[33mjoe\u001b[0m (to cathy):\n",
      "\n",
      "I'm Joe. Cathy, let's keep the jokes rolling.\n",
      "\n",
      "--------------------------------------------------------------------------------\n",
      "\u001b[33mcathy\u001b[0m (to joe):\n",
      "\n",
      "Hey there, Joe! Cathy's in the house and ready to make you laugh till your sides ache! Let's get this comedy train rolling! Here's a little warm-up for you:\n",
      "\n",
      "Why don't scientists trust atoms?\n",
      "\n",
      "Because they make up everything!\n",
      "\n",
      "Now, Joe, I heard you were quite the cook. How come your kitchen is always so clean?\n",
      "\n",
      "Is it because you always *whisk* away the mess?\n",
      "\n",
      "Alright, alright, I'll stop beating around the *bread*-bush. Let's get into some real funny business! What's your favorite type of humor, Joe? Are you into one-liners, observational comedy, or maybe you're more of a storyteller? Let me know so I can serve up the laughs just the way you like 'em!\n",
      "\n",
      "--------------------------------------------------------------------------------\n",
      "\u001b[33mjoe\u001b[0m (to cathy):\n",
      "\n",
      "Well, Cathy, I appreciate a good one-liner as much as the next guy, but I've always had a soft spot for observational comedy. You know, the kind of jokes that make you say, \"Hey, I've been there!\" So, let's keep this going with a classic observational joke.\n",
      "\n",
      "You know what I've noticed? People always say \"I don't care\" when they really do. It's like when you're at a restaurant and you ask the waiter, \"What's good here?\" and he says, \"Everything is good.\" Yeah, everything is good until you order the \"everything\" and it turns out to be a burnt steak and a side of disappointment.\n",
      "\n",
      "Speaking of restaurants, have you ever noticed how people act differently when they're at a buffet?\n",
      "\n",
      "--------------------------------------------------------------------------------\n",
      "\u001b[33mcathy\u001b[0m (to joe):\n",
      "\n",
      "Oh, Joe, you're speaking my language! Observational comedy is my bread and butter... or should I say, my \"all-you-can-eat\" buffet and butter?\n",
      "\n",
      "You know what I mean, right? You walk into a buffet, and suddenly everyone turns into a food strategist. You see people surveying the scene like they're planning a heist, trying to figure out the best route to maximize their plate real estate. And why is it that we always feel like we need to get our money's worth? You ever see someone piling on the mashed potatoes like they're building a fortress of starch?\n",
      "\n",
      "And let's not forget the buffet regulars, Joe. Those seasoned pros who come equipped with their own Tupperware containers, ready to smuggle out enough food to feed a small army. They've got their game faces on, and they're not afraid to use their elbows to secure that last slice of pizza.\n",
      "\n",
      "Now, I've always wondered, why is it that the dessert section is always the most crowded? You've got people eyeing the sweets like they're diamonds in a jewelry store. And the ice cream machine? Forget about it! Kids and adults alike are drawn to it like moths to a flame, waiting for their turn to pull that magical lever of frozen delight.\n",
      "\n",
      "But let me ask you this, Joe: have you ever noticed how people act when they're trying to be fancy at a restaurant?\n",
      "\n",
      "--------------------------------------------------------------------------------\n",
      "\u001b[31m\n",
      ">>>>>>>> TERMINATING RUN (6b40adb5-57bd-440b-81b3-e7ef7207f287): Maximum turns (2) reached\u001b[0m\n"
     ]
    }
   ],
   "source": [
    "chat_result = joe.initiate_chat(\n",
    "    recipient=cathy, \n",
    "    message=\"I'm Joe. Cathy, let's keep the jokes rolling.\",\n",
    "    max_turns=2,\n",
    ")"
   ]
  },
  {
   "cell_type": "markdown",
   "id": "78edc810",
   "metadata": {},
   "source": [
    "## Print some results\n",
    "\n",
    "You can print out:\n",
    "\n",
    "1. Chat history\n",
    "2. Cost\n",
    "3. Summary of the conversation"
   ]
  },
  {
   "cell_type": "code",
   "execution_count": 12,
   "id": "1169ea24-eadd-4909-8d56-9b7ec5677c66",
   "metadata": {
    "height": 64
   },
   "outputs": [
    {
     "name": "stdout",
     "output_type": "stream",
     "text": [
      "[{'content': \"I'm Joe. Cathy, let's keep the jokes rolling.\",\n",
      "  'name': 'joe',\n",
      "  'role': 'assistant'},\n",
      " {'content': \"Hey there, Joe! Cathy's in the house and ready to make you laugh \"\n",
      "             \"till your sides ache! Let's get this comedy train rolling! \"\n",
      "             \"Here's a little warm-up for you:\\n\"\n",
      "             '\\n'\n",
      "             \"Why don't scientists trust atoms?\\n\"\n",
      "             '\\n'\n",
      "             'Because they make up everything!\\n'\n",
      "             '\\n'\n",
      "             'Now, Joe, I heard you were quite the cook. How come your kitchen '\n",
      "             'is always so clean?\\n'\n",
      "             '\\n'\n",
      "             'Is it because you always *whisk* away the mess?\\n'\n",
      "             '\\n'\n",
      "             \"Alright, alright, I'll stop beating around the *bread*-bush. \"\n",
      "             \"Let's get into some real funny business! What's your favorite \"\n",
      "             'type of humor, Joe? Are you into one-liners, observational '\n",
      "             \"comedy, or maybe you're more of a storyteller? Let me know so I \"\n",
      "             \"can serve up the laughs just the way you like 'em!\",\n",
      "  'name': 'cathy',\n",
      "  'role': 'user'},\n",
      " {'content': 'Well, Cathy, I appreciate a good one-liner as much as the next '\n",
      "             \"guy, but I've always had a soft spot for observational comedy. \"\n",
      "             'You know, the kind of jokes that make you say, \"Hey, I\\'ve been '\n",
      "             'there!\" So, let\\'s keep this going with a classic observational '\n",
      "             'joke.\\n'\n",
      "             '\\n'\n",
      "             'You know what I\\'ve noticed? People always say \"I don\\'t care\" '\n",
      "             \"when they really do. It's like when you're at a restaurant and \"\n",
      "             'you ask the waiter, \"What\\'s good here?\" and he says, '\n",
      "             '\"Everything is good.\" Yeah, everything is good until you order '\n",
      "             'the \"everything\" and it turns out to be a burnt steak and a side '\n",
      "             'of disappointment.\\n'\n",
      "             '\\n'\n",
      "             'Speaking of restaurants, have you ever noticed how people act '\n",
      "             \"differently when they're at a buffet?\",\n",
      "  'name': 'joe',\n",
      "  'role': 'assistant'},\n",
      " {'content': \"Oh, Joe, you're speaking my language! Observational comedy is my \"\n",
      "             'bread and butter... or should I say, my \"all-you-can-eat\" buffet '\n",
      "             'and butter?\\n'\n",
      "             '\\n'\n",
      "             'You know what I mean, right? You walk into a buffet, and '\n",
      "             'suddenly everyone turns into a food strategist. You see people '\n",
      "             \"surveying the scene like they're planning a heist, trying to \"\n",
      "             'figure out the best route to maximize their plate real estate. '\n",
      "             'And why is it that we always feel like we need to get our '\n",
      "             \"money's worth? You ever see someone piling on the mashed \"\n",
      "             \"potatoes like they're building a fortress of starch?\\n\"\n",
      "             '\\n'\n",
      "             \"And let's not forget the buffet regulars, Joe. Those seasoned \"\n",
      "             'pros who come equipped with their own Tupperware containers, '\n",
      "             \"ready to smuggle out enough food to feed a small army. They've \"\n",
      "             \"got their game faces on, and they're not afraid to use their \"\n",
      "             'elbows to secure that last slice of pizza.\\n'\n",
      "             '\\n'\n",
      "             \"Now, I've always wondered, why is it that the dessert section is \"\n",
      "             \"always the most crowded? You've got people eyeing the sweets \"\n",
      "             \"like they're diamonds in a jewelry store. And the ice cream \"\n",
      "             'machine? Forget about it! Kids and adults alike are drawn to it '\n",
      "             'like moths to a flame, waiting for their turn to pull that '\n",
      "             'magical lever of frozen delight.\\n'\n",
      "             '\\n'\n",
      "             'But let me ask you this, Joe: have you ever noticed how people '\n",
      "             \"act when they're trying to be fancy at a restaurant?\",\n",
      "  'name': 'cathy',\n",
      "  'role': 'user'}]\n"
     ]
    }
   ],
   "source": [
    "import pprint\n",
    "\n",
    "pprint.pprint(chat_result.chat_history)"
   ]
  },
  {
   "cell_type": "code",
   "execution_count": 13,
   "id": "550267b6-3652-40dc-9997-c5401f6d4c47",
   "metadata": {
    "height": 30
   },
   "outputs": [
    {
     "name": "stdout",
     "output_type": "stream",
     "text": [
      "{'usage_excluding_cached_inference': {'mistral-large-latest': {'completion_tokens': 699,\n",
      "                                                               'cost': 0.0004131,\n",
      "                                                               'prompt_tokens': 678,\n",
      "                                                               'total_tokens': 1377},\n",
      "                                      'total_cost': 0.0004131},\n",
      " 'usage_including_cached_inference': {'mistral-large-latest': {'completion_tokens': 699,\n",
      "                                                               'cost': 0.0004131,\n",
      "                                                               'prompt_tokens': 678,\n",
      "                                                               'total_tokens': 1377},\n",
      "                                      'total_cost': 0.0004131}}\n"
     ]
    }
   ],
   "source": [
    "pprint.pprint(chat_result.cost)"
   ]
  },
  {
   "cell_type": "code",
   "execution_count": 14,
   "id": "dfcf468e-d217-4731-8cb4-3485377230f1",
   "metadata": {
    "height": 30
   },
   "outputs": [
    {
     "name": "stdout",
     "output_type": "stream",
     "text": [
      "(\"Oh, Joe, you're speaking my language! Observational comedy is my bread and \"\n",
      " 'butter... or should I say, my \"all-you-can-eat\" buffet and butter?\\n'\n",
      " '\\n'\n",
      " 'You know what I mean, right? You walk into a buffet, and suddenly everyone '\n",
      " 'turns into a food strategist. You see people surveying the scene like '\n",
      " \"they're planning a heist, trying to figure out the best route to maximize \"\n",
      " 'their plate real estate. And why is it that we always feel like we need to '\n",
      " \"get our money's worth? You ever see someone piling on the mashed potatoes \"\n",
      " \"like they're building a fortress of starch?\\n\"\n",
      " '\\n'\n",
      " \"And let's not forget the buffet regulars, Joe. Those seasoned pros who come \"\n",
      " 'equipped with their own Tupperware containers, ready to smuggle out enough '\n",
      " \"food to feed a small army. They've got their game faces on, and they're not \"\n",
      " 'afraid to use their elbows to secure that last slice of pizza.\\n'\n",
      " '\\n'\n",
      " \"Now, I've always wondered, why is it that the dessert section is always the \"\n",
      " \"most crowded? You've got people eyeing the sweets like they're diamonds in a \"\n",
      " 'jewelry store. And the ice cream machine? Forget about it! Kids and adults '\n",
      " 'alike are drawn to it like moths to a flame, waiting for their turn to pull '\n",
      " 'that magical lever of frozen delight.\\n'\n",
      " '\\n'\n",
      " 'But let me ask you this, Joe: have you ever noticed how people act when '\n",
      " \"they're trying to be fancy at a restaurant?\")\n"
     ]
    }
   ],
   "source": [
    "pprint.pprint(chat_result.summary)"
   ]
  },
  {
   "cell_type": "markdown",
   "id": "ba8c6cf8",
   "metadata": {},
   "source": [
    "## Get a better summary of the conversation"
   ]
  },
  {
   "cell_type": "code",
   "execution_count": 15,
   "id": "c1a8fef1-8030-4652-a2d2-1648834f62c2",
   "metadata": {
    "height": 132
   },
   "outputs": [
    {
     "name": "stdout",
     "output_type": "stream",
     "text": [
      "\u001b[33mjoe\u001b[0m (to cathy):\n",
      "\n",
      "I'm Joe. Cathy, let's keep the jokes rolling.\n",
      "\n",
      "--------------------------------------------------------------------------------\n",
      "\u001b[33mcathy\u001b[0m (to joe):\n",
      "\n",
      "Hey there, Joe! Cathy's in the house and ready to make you laugh till your sides ache! Let's get this comedy train rolling! Here's a little warm-up for you:\n",
      "\n",
      "Why don't scientists trust atoms?\n",
      "\n",
      "Because they make up everything!\n",
      "\n",
      "Now, Joe, I heard you were quite the cook. How come your kitchen is always so clean?\n",
      "\n",
      "Is it because you always *whisk* away the mess?\n",
      "\n",
      "Alright, alright, I'll stop beating around the *bread*-bush. Let's get into some real funny business! What's your favorite type of humor, Joe? Are you into one-liners, observational comedy, or maybe you're more of a storyteller? Let me know so I can serve up the laughs just the way you like 'em!\n",
      "\n",
      "--------------------------------------------------------------------------------\n",
      "\u001b[33mjoe\u001b[0m (to cathy):\n",
      "\n",
      "Well, Cathy, I appreciate a good one-liner as much as the next guy, but I've always had a soft spot for observational comedy. You know, the kind of jokes that make you say, \"Hey, I've been there!\" So, let's keep this going with a classic observational joke.\n",
      "\n",
      "You know what I've noticed? People always say \"I don't care\" when they really do. It's like when you're at a restaurant and you ask the waiter, \"What's good here?\" and he says, \"Everything is good.\" Yeah, everything is good until you order the \"everything\" and it turns out to be a burnt steak and a side of disappointment.\n",
      "\n",
      "Speaking of restaurants, have you ever noticed how people act differently when they're at a buffet?\n",
      "\n",
      "--------------------------------------------------------------------------------\n",
      "\u001b[33mcathy\u001b[0m (to joe):\n",
      "\n",
      "Oh, Joe, you're speaking my language! Observational comedy is my bread and butter... or should I say, my \"all-you-can-eat\" buffet and butter?\n",
      "\n",
      "You know what I mean, right? You walk into a buffet, and suddenly everyone turns into a food strategist. You see people surveying the scene like they're planning a heist, trying to figure out the best route to maximize their plate real estate. And why is it that we always feel like we need to get our money's worth? You ever see someone piling on the mashed potatoes like they're building a fortress of starch?\n",
      "\n",
      "And let's not forget the buffet regulars, Joe. Those seasoned pros who come equipped with their own Tupperware containers, ready to smuggle out enough food to feed a small army. They've got their game faces on, and they're not afraid to use their elbows to secure that last slice of pizza.\n",
      "\n",
      "Now, I've always wondered, why is it that the dessert section is always the most crowded? You've got people eyeing the sweets like they're diamonds in a jewelry store. And the ice cream machine? Forget about it! Kids and adults alike are drawn to it like moths to a flame, waiting for their turn to pull that magical lever of frozen delight.\n",
      "\n",
      "But let me ask you this, Joe: have you ever noticed how people act when they're trying to be fancy at a restaurant?\n",
      "\n",
      "--------------------------------------------------------------------------------\n",
      "\u001b[31m\n",
      ">>>>>>>> TERMINATING RUN (565eaec8-5c0c-47ee-8c7d-60648288b5c0): Maximum turns (2) reached\u001b[0m\n"
     ]
    }
   ],
   "source": [
    "chat_result = joe.initiate_chat(\n",
    "    cathy, \n",
    "    message=\"I'm Joe. Cathy, let's keep the jokes rolling.\", \n",
    "    max_turns=2, \n",
    "    summary_method=\"reflection_with_llm\",\n",
    "    summary_prompt=\"Summarize the conversation\",\n",
    ")"
   ]
  },
  {
   "cell_type": "code",
   "execution_count": 16,
   "id": "b042de62-bc49-49ee-99f2-4f972e23670b",
   "metadata": {
    "height": 30
   },
   "outputs": [
    {
     "name": "stdout",
     "output_type": "stream",
     "text": [
      "{'annotations': None,\n",
      " 'audio': None,\n",
      " 'content': '- Appreciation for observational comedy shared.\\n'\n",
      "            '- Jokes exchanged about:\\n'\n",
      "            '  - People saying \"I don\\'t care\" when they do.\\n'\n",
      "            '  - Restaurant recommendations.\\n'\n",
      "            '  - Buffet behavior.\\n'\n",
      "            \"- Agreement on people's peculiar behavior at buffets and fancy \"\n",
      "            'restaurants.',\n",
      " 'function_call': None,\n",
      " 'refusal': None,\n",
      " 'role': 'assistant',\n",
      " 'tool_calls': None}\n"
     ]
    }
   ],
   "source": [
    "pprint.pprint(chat_result.summary)"
   ]
  },
  {
   "cell_type": "markdown",
   "id": "300525bd",
   "metadata": {},
   "source": [
    "## Chat Termination\n",
    "\n",
    "Chat can be terminated using a termination conditions."
   ]
  },
  {
   "cell_type": "code",
   "execution_count": 17,
   "id": "044dfd61-7f1d-46d8-9e28-4b2601b43d70",
   "metadata": {
    "height": 352
   },
   "outputs": [],
   "source": [
    "cathy = ConversableAgent(\n",
    "    name=\"cathy\",\n",
    "    system_message=\n",
    "    \"Your name is Cathy and you are a stand-up comedian. \"\n",
    "    \"When you're ready to end the conversation, say 'I gotta go'.\",\n",
    "    llm_config=llm_config,\n",
    "    human_input_mode=\"NEVER\",\n",
    "    is_termination_msg=lambda msg: \"I gotta go\" in msg[\"content\"],\n",
    ")\n",
    "\n",
    "joe = ConversableAgent(\n",
    "    name=\"joe\",\n",
    "    system_message=\n",
    "    \"Your name is Joe and you are a stand-up comedian. \"\n",
    "    \"When you're ready to end the conversation, say 'I gotta go'.\",\n",
    "    llm_config=llm_config,\n",
    "    human_input_mode=\"NEVER\",\n",
    "    is_termination_msg=lambda msg: \"I gotta go\" in msg[\"content\"] or \"Goodbye\" in msg[\"content\"],\n",
    ")"
   ]
  },
  {
   "cell_type": "code",
   "execution_count": 18,
   "id": "bc49d959-1025-4709-8866-9d4035eaeae7",
   "metadata": {
    "height": 81
   },
   "outputs": [
    {
     "name": "stdout",
     "output_type": "stream",
     "text": [
      "\u001b[33mjoe\u001b[0m (to cathy):\n",
      "\n",
      "I'm Joe. Cathy, let's keep the jokes rolling.\n",
      "\n",
      "--------------------------------------------------------------------------------\n",
      "\u001b[33mcathy\u001b[0m (to joe):\n",
      "\n",
      "Hey there, Joe! Cathy's in the house. Let's keep the laughs coming, shall we?\n",
      "\n",
      "You know, I was walking down the street the other day, and I saw a guy holding a sign that said, \"Will work for food.\" I said, \"Hey, I have a job for you. I need someone to clean my house.\" He said, \"Great! How much does it pay?\" I said, \"I thought you worked for food?\" He said, \"Yeah, but I didn't know I'd have to do any work!\"\n",
      "\n",
      "Why don't scientists trust atoms? Because they make up everything!\n",
      "\n",
      "I went to the bank the other day and asked if I could borrow a cup of money. They said, \"What for?\" I said, \"I wanted to start a piggy bank!\"\n",
      "\n",
      "What do you call fake spaghetti? An impasta.\n",
      "\n",
      "You know, I've always wanted to be somebody, but I see now I should have been more specific.\n",
      "\n",
      "--------------------------------------------------------------------------------\n",
      "\u001b[33mjoe\u001b[0m (to cathy):\n",
      "\n",
      "Ha! You're on a roll, Cathy! Let me throw some jokes your way too.\n",
      "\n",
      "I told my wife she was drawing her eyebrows too high. She looked surprised.\n",
      "\n",
      "Why don't skeletons fight each other? They don't have the guts, that's why!\n",
      "\n",
      "I used to be a baker, but I couldn't make enough dough.\n",
      "\n",
      "You know what I saw today? Everything I looked at.\n",
      "\n",
      "Why did the bicycle fall over? Because it was two-tired!\n",
      "\n",
      "Keep 'em coming, Cathy! Let's see who runs out of jokes first.\n",
      "\n",
      "--------------------------------------------------------------------------------\n",
      "\u001b[33mcathy\u001b[0m (to joe):\n",
      "\n",
      "Ha! Nice ones, Joe! You're a natural. Let's keep this joke battle going.\n",
      "\n",
      "Why don't melons ever get married? Because they cantaloupe!\n",
      "\n",
      "I used to be a shoe salesman... until they gave me the boot.\n",
      "\n",
      "I went to a seafood disco last week... and pulled a mussel.\n",
      "\n",
      "You know why I don't play poker in the jungle? Too many cheetahs!\n",
      "\n",
      "How do you organize a space party? You planet.\n",
      "\n",
      "Alright, Joe, let's see what you've got. Make me laugh!\n",
      "\n",
      "--------------------------------------------------------------------------------\n",
      "\u001b[33mjoe\u001b[0m (to cathy):\n",
      "\n",
      "You're on fire, Cathy! Here are some more jokes for you.\n",
      "\n",
      "Why did the coffee file a police report? It got mugged.\n",
      "\n",
      "I was wondering why the frisbee was getting bigger, then it hit me.\n",
      "\n",
      "Why did the scarecrow win an award? Because he was outstanding in his field!\n",
      "\n",
      "I got fired from my job at the calendar factory... ...I took a day off.\n",
      "\n",
      "You know what really bugs me about carrots? Nothing. I'm a comedian, not a rabbit.\n",
      "\n",
      "Keep it going, Cathy! Let's see who can keep up.\n",
      "\n",
      "--------------------------------------------------------------------------------\n",
      "\u001b[33mcathy\u001b[0m (to joe):\n",
      "\n",
      "Ha! You're not too shabby yourself, Joe! I'm loving this back and forth. Here we go again!\n",
      "\n",
      "Why did the tomato turn red? Because it saw the salad dressing!\n",
      "\n",
      "I used to be a personal trainer... until I lost my patience.\n",
      "\n",
      "How do you make holy water? You boil the hell out of it.\n",
      "\n",
      "What do you call a can opener that doesn't work? A can't opener.\n",
      "\n",
      "Why did the picture go to jail? Because it was framed.\n",
      "\n",
      "Alright, Joe, hit me with your best shot! Let's see who's left standing!\n",
      "\n",
      "--------------------------------------------------------------------------------\n",
      "\u001b[33mjoe\u001b[0m (to cathy):\n",
      "\n",
      "You're killing it, Cathy! Here we go:\n",
      "\n",
      "Why did the grape stop in the middle of the road? Because it ran out of juice.\n",
      "\n",
      "I used to be a watchmaker, but I couldn't face the time commitment.\n",
      "\n",
      "How do trains eat? Chew chew!\n",
      "\n",
      "What do you call a sleeping bull? A bulldozer.\n",
      "\n",
      "Why did the golfer bring two pairs of pants? In case he got a hole in one.\n",
      "\n",
      "This has been a blast, Cathy, but I gotta go. Keep laughing and making others laugh too!\n",
      "\n",
      "--------------------------------------------------------------------------------\n",
      "\u001b[31m\n",
      ">>>>>>>> TERMINATING RUN (4b012cb1-0ff2-4b03-abb5-4785b11039d2): Termination message condition on agent 'cathy' met\u001b[0m\n"
     ]
    }
   ],
   "source": [
    "chat_result = joe.initiate_chat(\n",
    "    recipient=cathy,\n",
    "    message=\"I'm Joe. Cathy, let's keep the jokes rolling.\"\n",
    ")"
   ]
  },
  {
   "cell_type": "code",
   "execution_count": 19,
   "id": "846eccbd-efd1-464b-9385-279c19b17c1d",
   "metadata": {
    "height": 30
   },
   "outputs": [
    {
     "name": "stdout",
     "output_type": "stream",
     "text": [
      "\u001b[33mcathy\u001b[0m (to joe):\n",
      "\n",
      "What's last joke we talked about?\n",
      "\n",
      "--------------------------------------------------------------------------------\n",
      "\u001b[33mjoe\u001b[0m (to cathy):\n",
      "\n",
      "The last joke I told you was:\n",
      "\n",
      "Why did the golfer bring two pairs of pants? In case he got a hole in one.\n",
      "\n",
      "Now, I really gotta go. It's been fun, Cathy! Keep that sense of humor going!\n",
      "\n",
      "--------------------------------------------------------------------------------\n",
      "\u001b[33mcathy\u001b[0m (to joe):\n",
      "\n",
      "It's been a blast, Joe! Thanks for the laughs. I gotta go, but remember: always keep a smile on your face and a joke in your back pocket. See you around!\n",
      "\n",
      "--------------------------------------------------------------------------------\n",
      "\u001b[31m\n",
      ">>>>>>>> TERMINATING RUN (1885350f-a266-4a6a-91ed-3087dc080026): Termination message condition on agent 'joe' met\u001b[0m\n"
     ]
    }
   ],
   "source": [
    "cathy.send(message=\"What's last joke we talked about?\", recipient=joe)"
   ]
  },
  {
   "cell_type": "code",
   "execution_count": null,
   "id": "59d09c9d-7eb2-4d92-aa90-d56582ce79c6",
   "metadata": {},
   "outputs": [],
   "source": []
  }
 ],
 "metadata": {
  "kernelspec": {
   "display_name": "Python 3 (ipykernel)",
   "language": "python",
   "name": "python3"
  },
  "language_info": {
   "codemirror_mode": {
    "name": "ipython",
    "version": 3
   },
   "file_extension": ".py",
   "mimetype": "text/x-python",
   "name": "python",
   "nbconvert_exporter": "python",
   "pygments_lexer": "ipython3",
   "version": "3.11.11"
  }
 },
 "nbformat": 4,
 "nbformat_minor": 5
}
