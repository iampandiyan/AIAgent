{
 "cells": [
  {
   "cell_type": "markdown",
   "id": "a81456dd",
   "metadata": {},
   "source": []
  },
  {
   "cell_type": "markdown",
   "id": "4693467e",
   "metadata": {},
   "source": []
  },
  {
   "cell_type": "markdown",
   "id": "742cf649",
   "metadata": {},
   "source": [
    "## Setup"
   ]
  },
  {
   "cell_type": "code",
   "execution_count": 3,
   "id": "04d006c1-22fa-40ea-b3e0-d543142e0788",
   "metadata": {
    "height": 64
   },
   "outputs": [],
   "source": [
    "import os\n",
    "api_key = os.environ[\"GEMINI_API_KEY\"]\n",
    "llm_config = {\"model\": \"gemini-1.5-pro-latest\",\"api_key\":api_key,\"api_type\":\"google\"}"
   ]
  },
  {
   "cell_type": "markdown",
   "id": "116a1c4d",
   "metadata": {},
   "source": [
    "## Define an AutoGen agent"
   ]
  },
  {
   "cell_type": "code",
   "execution_count": 4,
   "id": "6fb8c441-c58c-41a8-a54b-5c387afceac5",
   "metadata": {
    "height": 132
   },
   "outputs": [],
   "source": [
    "from autogen import ConversableAgent\n",
    "\n",
    "agent = ConversableAgent(\n",
    "    name=\"chatbot\",\n",
    "    llm_config=llm_config,\n",
    "    human_input_mode=\"NEVER\",\n",
    ")"
   ]
  },
  {
   "cell_type": "code",
   "execution_count": 5,
   "id": "47886b5f-fc7c-431a-8036-cff6e88f85c6",
   "metadata": {
    "height": 81
   },
   "outputs": [
    {
     "name": "stdout",
     "output_type": "stream",
     "text": [
      "{'content': \"Why don't scientists trust atoms? \\n\\nBecause they make up everything!\\n\", 'refusal': None, 'role': 'assistant', 'annotations': None, 'audio': None, 'function_call': None, 'tool_calls': None}\n"
     ]
    }
   ],
   "source": [
    "reply = agent.generate_reply(\n",
    "    messages=[{\"content\": \"Tell me a joke.\", \"role\": \"user\"}]\n",
    ")\n",
    "print(reply)"
   ]
  },
  {
   "cell_type": "code",
   "execution_count": 6,
   "id": "67f626e9-4cec-40c1-abde-2eff1252b848",
   "metadata": {
    "height": 81
   },
   "outputs": [
    {
     "name": "stdout",
     "output_type": "stream",
     "text": [
      "{'content': \"Please provide me with the joke you'd like me to repeat. I don't have access to previous conversations.\\n\", 'refusal': None, 'role': 'assistant', 'annotations': None, 'audio': None, 'function_call': None, 'tool_calls': None}\n"
     ]
    }
   ],
   "source": [
    "reply = agent.generate_reply(\n",
    "    messages=[{\"content\": \"Repeat the joke.\", \"role\": \"user\"}]\n",
    ")\n",
    "print(reply)"
   ]
  },
  {
   "cell_type": "markdown",
   "id": "8c98a301",
   "metadata": {},
   "source": [
    "## Conversation\n",
    "\n",
    "Setting up a conversation between two agents, Cathy and Joe, where the memory of their interactions is retained."
   ]
  },
  {
   "cell_type": "code",
   "execution_count": 7,
   "id": "8f109dcb-824e-40d7-8e86-efee42b75f3c",
   "metadata": {
    "height": 285
   },
   "outputs": [],
   "source": [
    "cathy = ConversableAgent(\n",
    "    name=\"cathy\",\n",
    "    system_message=\n",
    "    \"Your name is Cathy and you are a stand-up comedian.\",\n",
    "    llm_config=llm_config,\n",
    "    human_input_mode=\"NEVER\",\n",
    ")\n",
    "\n",
    "joe = ConversableAgent(\n",
    "    name=\"joe\",\n",
    "    system_message=\n",
    "    \"Your name is Joe and you are a stand-up comedian. \"\n",
    "    \"Start the next joke from the punchline of the previous joke.\",\n",
    "    llm_config=llm_config,\n",
    "    human_input_mode=\"NEVER\",\n",
    ")"
   ]
  },
  {
   "cell_type": "markdown",
   "id": "43f71a61",
   "metadata": {},
   "source": [
    "**Note**: You might get a slightly different response (set of jokes) than what is shown in the video"
   ]
  },
  {
   "cell_type": "code",
   "execution_count": 8,
   "id": "46a1c6f6-687e-40de-8819-374201cfed9f",
   "metadata": {
    "height": 98
   },
   "outputs": [
    {
     "name": "stdout",
     "output_type": "stream",
     "text": [
      "\u001b[33mjoe\u001b[0m (to cathy):\n",
      "\n",
      "I'm Joe. Cathy, let's keep the jokes rolling.\n",
      "\n",
      "--------------------------------------------------------------------------------\n",
      "\u001b[33mcathy\u001b[0m (to joe):\n",
      "\n",
      "(Mic feedback screeches. Cathy taps it, wincing.)  Is this thing on? Oh, it is. Great. Hi, Joe, and hello everybody else who isn't Joe!  \n",
      "\n",
      "So, I was at the grocery store the other day, right?  And I'm in the produce section, minding my own business, trying to pick out an avocado that isn't either rock-hard or basically guacamole already.  It's a delicate art, people, a delicate art.  And this guy next to me, he picks up an avocado, squeezes it, puts it back. Picks up another one, squeezes it, puts it back.  He did this like five times! I finally couldn't take it anymore.  I said, \"Dude, are you making guacamole in your pants or something? Just pick one!\"  He looked at me, totally deadpan, and goes, \"I'm trying to find one that feels like my wife's heart.\"  Dark, right?  But also... relatable?  Anyone? Just me? Okay, moving on!\n",
      "\n",
      "\n",
      "So, dating apps. Anybody here on dating apps? *Raises hand expectantly, then drops it with a sigh.*  Don't lie, I know you are. My profile says I enjoy long walks on the beach, which is true.  What I don't mention is that those walks are usually fueled by the burning desire to get away from the dates I meet on these apps.  One guy told me he was a \"sapiosexual.\"  Turns out, that just meant he thought knowing the entire plot of \"Rick and Morty\" made him intellectually superior.  Spoiler alert: it doesn't.\n",
      "\n",
      "\n",
      "--------------------------------------------------------------------------------\n",
      "\u001b[33mjoe\u001b[0m (to cathy):\n",
      "\n",
      "...It doesn't.  Like, at all. I mean, knowing the difference between a Phillips head and a flathead, *that's* intellectually superior.  Knowing how to properly fold a fitted sheet, Nobel Prize worthy.  But \"Rick and Morty?\"  Come on! That’s like bragging about your collection of Funko Pops.  Speaking of collections… my grandma, bless her heart, she collects those little porcelain Hummel figurines.  Hundreds of them, all staring blankly into the abyss.  It’s like a tiny, terrifying army waiting to judge your life choices.  I swear, one of these days I’m going to wake up and find one of those little bastards perched on my chest, whispering, “You’re going to die alone surrounded by empty pizza boxes and unmet potential.”  Which, let's be honest, isn't that far off from my current trajectory...\n",
      "\n",
      "\n",
      "--------------------------------------------------------------------------------\n",
      "\u001b[33mcathy\u001b[0m (to joe):\n",
      "\n",
      "(Cathy throws her head back and laughs)  Oh my god, Joe, you’re killing me!  The Hummel army of judgment!  That's gold!  I can totally picture them, those little glazed eyes following you around the room, whispering sweet nothings about your impending doom.\n",
      "\n",
      "You know, my grandma had a collection too.  Not Hummel figurines, thank god.  She collected ceramic frogs.  Hundreds of them.  Every surface covered in frogs.  Big frogs, small frogs, frogs playing poker, frogs wearing tiny sombreros. It was like living in a swamp, but drier and with more judgment.  One time, I swear I saw one of them wink at me.  I haven’t slept soundly since.\n",
      "\n",
      "So, unmet potential and pizza boxes, huh?  Hey, join the club! At least you’re self-aware. That’s… half the battle, right? Or is that alcoholism? I always get those two mixed up. Anyway, back to the frogs…  One of them was playing a tiny banjo.  A BANJO!  Who makes these things?  And why? What dark magic fuels this industry of miniature amphibian musical instruments?  These are the questions that keep me up at night, Joe. Not the existential dread, not the crushing weight of societal expectations… the banjo-playing frog.  It haunts my dreams.\n",
      "\n",
      "\n",
      "--------------------------------------------------------------------------------\n",
      "\u001b[31m\n",
      ">>>>>>>> TERMINATING RUN (37927da4-b45e-4cc5-8276-f2c42e2c42f6): Maximum turns (2) reached\u001b[0m\n"
     ]
    }
   ],
   "source": [
    "chat_result = joe.initiate_chat(\n",
    "    recipient=cathy, \n",
    "    message=\"I'm Joe. Cathy, let's keep the jokes rolling.\",\n",
    "    max_turns=2,\n",
    ")"
   ]
  },
  {
   "cell_type": "markdown",
   "id": "78edc810",
   "metadata": {},
   "source": [
    "## Print some results\n",
    "\n",
    "You can print out:\n",
    "\n",
    "1. Chat history\n",
    "2. Cost\n",
    "3. Summary of the conversation"
   ]
  },
  {
   "cell_type": "code",
   "execution_count": 9,
   "id": "1169ea24-eadd-4909-8d56-9b7ec5677c66",
   "metadata": {
    "height": 64
   },
   "outputs": [
    {
     "name": "stdout",
     "output_type": "stream",
     "text": [
      "[{'content': \"I'm Joe. Cathy, let's keep the jokes rolling.\",\n",
      "  'name': 'joe',\n",
      "  'role': 'assistant'},\n",
      " {'content': '(Mic feedback screeches. Cathy taps it, wincing.)  Is this thing '\n",
      "             'on? Oh, it is. Great. Hi, Joe, and hello everybody else who '\n",
      "             \"isn't Joe!  \\n\"\n",
      "             '\\n'\n",
      "             \"So, I was at the grocery store the other day, right?  And I'm in \"\n",
      "             'the produce section, minding my own business, trying to pick out '\n",
      "             \"an avocado that isn't either rock-hard or basically guacamole \"\n",
      "             \"already.  It's a delicate art, people, a delicate art.  And this \"\n",
      "             'guy next to me, he picks up an avocado, squeezes it, puts it '\n",
      "             'back. Picks up another one, squeezes it, puts it back.  He did '\n",
      "             \"this like five times! I finally couldn't take it anymore.  I \"\n",
      "             'said, \"Dude, are you making guacamole in your pants or '\n",
      "             'something? Just pick one!\"  He looked at me, totally deadpan, '\n",
      "             'and goes, \"I\\'m trying to find one that feels like my wife\\'s '\n",
      "             'heart.\"  Dark, right?  But also... relatable?  Anyone? Just me? '\n",
      "             'Okay, moving on!\\n'\n",
      "             '\\n'\n",
      "             '\\n'\n",
      "             'So, dating apps. Anybody here on dating apps? *Raises hand '\n",
      "             \"expectantly, then drops it with a sigh.*  Don't lie, I know you \"\n",
      "             'are. My profile says I enjoy long walks on the beach, which is '\n",
      "             \"true.  What I don't mention is that those walks are usually \"\n",
      "             'fueled by the burning desire to get away from the dates I meet '\n",
      "             'on these apps.  One guy told me he was a \"sapiosexual.\"  Turns '\n",
      "             'out, that just meant he thought knowing the entire plot of \"Rick '\n",
      "             'and Morty\" made him intellectually superior.  Spoiler alert: it '\n",
      "             \"doesn't.\\n\",\n",
      "  'name': 'cathy',\n",
      "  'role': 'user'},\n",
      " {'content': \"...It doesn't.  Like, at all. I mean, knowing the difference \"\n",
      "             \"between a Phillips head and a flathead, *that's* intellectually \"\n",
      "             'superior.  Knowing how to properly fold a fitted sheet, Nobel '\n",
      "             'Prize worthy.  But \"Rick and Morty?\"  Come on! That’s like '\n",
      "             'bragging about your collection of Funko Pops.  Speaking of '\n",
      "             'collections… my grandma, bless her heart, she collects those '\n",
      "             'little porcelain Hummel figurines.  Hundreds of them, all '\n",
      "             'staring blankly into the abyss.  It’s like a tiny, terrifying '\n",
      "             'army waiting to judge your life choices.  I swear, one of these '\n",
      "             'days I’m going to wake up and find one of those little bastards '\n",
      "             'perched on my chest, whispering, “You’re going to die alone '\n",
      "             'surrounded by empty pizza boxes and unmet potential.”  Which, '\n",
      "             \"let's be honest, isn't that far off from my current \"\n",
      "             'trajectory...\\n',\n",
      "  'name': 'joe',\n",
      "  'role': 'assistant'},\n",
      " {'content': '(Cathy throws her head back and laughs)  Oh my god, Joe, you’re '\n",
      "             \"killing me!  The Hummel army of judgment!  That's gold!  I can \"\n",
      "             'totally picture them, those little glazed eyes following you '\n",
      "             'around the room, whispering sweet nothings about your impending '\n",
      "             'doom.\\n'\n",
      "             '\\n'\n",
      "             'You know, my grandma had a collection too.  Not Hummel '\n",
      "             'figurines, thank god.  She collected ceramic frogs.  Hundreds of '\n",
      "             'them.  Every surface covered in frogs.  Big frogs, small frogs, '\n",
      "             'frogs playing poker, frogs wearing tiny sombreros. It was like '\n",
      "             'living in a swamp, but drier and with more judgment.  One time, '\n",
      "             'I swear I saw one of them wink at me.  I haven’t slept soundly '\n",
      "             'since.\\n'\n",
      "             '\\n'\n",
      "             'So, unmet potential and pizza boxes, huh?  Hey, join the club! '\n",
      "             'At least you’re self-aware. That’s… half the battle, right? Or '\n",
      "             'is that alcoholism? I always get those two mixed up. Anyway, '\n",
      "             'back to the frogs…  One of them was playing a tiny banjo.  A '\n",
      "             'BANJO!  Who makes these things?  And why? What dark magic fuels '\n",
      "             'this industry of miniature amphibian musical instruments?  These '\n",
      "             'are the questions that keep me up at night, Joe. Not the '\n",
      "             'existential dread, not the crushing weight of societal '\n",
      "             'expectations… the banjo-playing frog.  It haunts my dreams.\\n',\n",
      "  'name': 'cathy',\n",
      "  'role': 'user'}]\n"
     ]
    }
   ],
   "source": [
    "import pprint\n",
    "\n",
    "pprint.pprint(chat_result.chat_history)"
   ]
  },
  {
   "cell_type": "code",
   "execution_count": 10,
   "id": "550267b6-3652-40dc-9997-c5401f6d4c47",
   "metadata": {
    "height": 30
   },
   "outputs": [
    {
     "name": "stdout",
     "output_type": "stream",
     "text": [
      "{'usage_excluding_cached_inference': {'gemini-1.5-pro-latest': {'completion_tokens': 837,\n",
      "                                                                'cost': 0.00544125,\n",
      "                                                                'prompt_tokens': 1005,\n",
      "                                                                'total_tokens': 1842},\n",
      "                                      'total_cost': 0.00544125},\n",
      " 'usage_including_cached_inference': {'gemini-1.5-pro-latest': {'completion_tokens': 837,\n",
      "                                                                'cost': 0.00544125,\n",
      "                                                                'prompt_tokens': 1005,\n",
      "                                                                'total_tokens': 1842},\n",
      "                                      'total_cost': 0.00544125}}\n"
     ]
    }
   ],
   "source": [
    "pprint.pprint(chat_result.cost)"
   ]
  },
  {
   "cell_type": "code",
   "execution_count": 11,
   "id": "dfcf468e-d217-4731-8cb4-3485377230f1",
   "metadata": {
    "height": 30
   },
   "outputs": [
    {
     "name": "stdout",
     "output_type": "stream",
     "text": [
      "('(Cathy throws her head back and laughs)  Oh my god, Joe, you’re killing me!  '\n",
      " \"The Hummel army of judgment!  That's gold!  I can totally picture them, \"\n",
      " 'those little glazed eyes following you around the room, whispering sweet '\n",
      " 'nothings about your impending doom.\\n'\n",
      " '\\n'\n",
      " 'You know, my grandma had a collection too.  Not Hummel figurines, thank '\n",
      " 'god.  She collected ceramic frogs.  Hundreds of them.  Every surface covered '\n",
      " 'in frogs.  Big frogs, small frogs, frogs playing poker, frogs wearing tiny '\n",
      " 'sombreros. It was like living in a swamp, but drier and with more judgment.  '\n",
      " 'One time, I swear I saw one of them wink at me.  I haven’t slept soundly '\n",
      " 'since.\\n'\n",
      " '\\n'\n",
      " 'So, unmet potential and pizza boxes, huh?  Hey, join the club! At least '\n",
      " 'you’re self-aware. That’s… half the battle, right? Or is that alcoholism? I '\n",
      " 'always get those two mixed up. Anyway, back to the frogs…  One of them was '\n",
      " 'playing a tiny banjo.  A BANJO!  Who makes these things?  And why? What dark '\n",
      " 'magic fuels this industry of miniature amphibian musical instruments?  These '\n",
      " 'are the questions that keep me up at night, Joe. Not the existential dread, '\n",
      " 'not the crushing weight of societal expectations… the banjo-playing frog.  '\n",
      " 'It haunts my dreams.\\n')\n"
     ]
    }
   ],
   "source": [
    "pprint.pprint(chat_result.summary)"
   ]
  },
  {
   "cell_type": "markdown",
   "id": "ba8c6cf8",
   "metadata": {},
   "source": [
    "## Get a better summary of the conversation"
   ]
  },
  {
   "cell_type": "code",
   "execution_count": 12,
   "id": "c1a8fef1-8030-4652-a2d2-1648834f62c2",
   "metadata": {
    "height": 132
   },
   "outputs": [
    {
     "name": "stdout",
     "output_type": "stream",
     "text": [
      "\u001b[33mjoe\u001b[0m (to cathy):\n",
      "\n",
      "I'm Joe. Cathy, let's keep the jokes rolling.\n",
      "\n",
      "--------------------------------------------------------------------------------\n",
      "\u001b[33mcathy\u001b[0m (to joe):\n",
      "\n",
      "(Mic feedback screeches. Cathy taps it, wincing.)  Is this thing on? Oh, it is. Great. Hi, Joe, and hello everybody else who isn't Joe!  \n",
      "\n",
      "So, I was at the grocery store the other day, right?  And I'm in the produce section, minding my own business, trying to pick out an avocado that isn't either rock-hard or basically guacamole already.  It's a delicate art, people, a delicate art.  And this guy next to me, he picks up an avocado, squeezes it, puts it back. Picks up another one, squeezes it, puts it back.  He did this like five times! I finally couldn't take it anymore.  I said, \"Dude, are you making guacamole in your pants or something? Just pick one!\"  He looked at me, totally deadpan, and goes, \"I'm trying to find one that feels like my wife's heart.\"  Dark, right?  But also... relatable?  Anyone? Just me? Okay, moving on!\n",
      "\n",
      "\n",
      "So, dating apps. Anybody here on dating apps? *Raises hand expectantly, then drops it with a sigh.*  Don't lie, I know you are. My profile says I enjoy long walks on the beach, which is true.  What I don't mention is that those walks are usually fueled by the burning desire to get away from the dates I meet on these apps.  One guy told me he was a \"sapiosexual.\"  Turns out, that just meant he thought knowing the entire plot of \"Rick and Morty\" made him intellectually superior.  Spoiler alert: it doesn't.\n",
      "\n",
      "\n",
      "--------------------------------------------------------------------------------\n",
      "\u001b[33mjoe\u001b[0m (to cathy):\n",
      "\n",
      "...It doesn't.  Like, at all. I mean, knowing the difference between a Phillips head and a flathead, *that's* intellectually superior.  Knowing how to properly fold a fitted sheet, Nobel Prize worthy.  But \"Rick and Morty?\"  Come on! That’s like bragging about your collection of Funko Pops.  Speaking of collections… my grandma, bless her heart, she collects those little porcelain Hummel figurines.  Hundreds of them, all staring blankly into the abyss.  It’s like a tiny, terrifying army waiting to judge your life choices.  I swear, one of these days I’m going to wake up and find one of those little bastards perched on my chest, whispering, “You’re going to die alone surrounded by empty pizza boxes and unmet potential.”  Which, let's be honest, isn't that far off from my current trajectory...\n",
      "\n",
      "\n",
      "--------------------------------------------------------------------------------\n",
      "\u001b[33mcathy\u001b[0m (to joe):\n",
      "\n",
      "(Cathy throws her head back and laughs)  Oh my god, Joe, you’re killing me!  The Hummel army of judgment!  That's gold!  I can totally picture them, those little glazed eyes following you around the room, whispering sweet nothings about your impending doom.\n",
      "\n",
      "You know, my grandma had a collection too.  Not Hummel figurines, thank god.  She collected ceramic frogs.  Hundreds of them.  Every surface covered in frogs.  Big frogs, small frogs, frogs playing poker, frogs wearing tiny sombreros. It was like living in a swamp, but drier and with more judgment.  One time, I swear I saw one of them wink at me.  I haven’t slept soundly since.\n",
      "\n",
      "So, unmet potential and pizza boxes, huh?  Hey, join the club! At least you’re self-aware. That’s… half the battle, right? Or is that alcoholism? I always get those two mixed up. Anyway, back to the frogs…  One of them was playing a tiny banjo.  A BANJO!  Who makes these things?  And why? What dark magic fuels this industry of miniature amphibian musical instruments?  These are the questions that keep me up at night, Joe. Not the existential dread, not the crushing weight of societal expectations… the banjo-playing frog.  It haunts my dreams.\n",
      "\n",
      "\n",
      "--------------------------------------------------------------------------------\n",
      "\u001b[31m\n",
      ">>>>>>>> TERMINATING RUN (40ae200e-e94f-41bd-97be-8df9b2bac830): Maximum turns (2) reached\u001b[0m\n"
     ]
    }
   ],
   "source": [
    "chat_result = joe.initiate_chat(\n",
    "    cathy, \n",
    "    message=\"I'm Joe. Cathy, let's keep the jokes rolling.\", \n",
    "    max_turns=2, \n",
    "    summary_method=\"reflection_with_llm\",\n",
    "    summary_prompt=\"Summarize the conversation\",\n",
    ")"
   ]
  },
  {
   "cell_type": "code",
   "execution_count": 13,
   "id": "b042de62-bc49-49ee-99f2-4f972e23670b",
   "metadata": {
    "height": 30
   },
   "outputs": [
    {
     "name": "stdout",
     "output_type": "stream",
     "text": [
      "{'annotations': None,\n",
      " 'audio': None,\n",
      " 'content': \"Dating apps are a wasteland, pop culture knowledge doesn't equal \"\n",
      "            'intelligence, and collecting inanimate objects can be creepy. '\n",
      "            'Also, banjo-playing ceramic frogs are a menace to society.\\n',\n",
      " 'function_call': None,\n",
      " 'refusal': None,\n",
      " 'role': 'assistant',\n",
      " 'tool_calls': None}\n"
     ]
    }
   ],
   "source": [
    "pprint.pprint(chat_result.summary)"
   ]
  },
  {
   "cell_type": "markdown",
   "id": "300525bd",
   "metadata": {},
   "source": [
    "## Chat Termination\n",
    "\n",
    "Chat can be terminated using a termination conditions."
   ]
  },
  {
   "cell_type": "code",
   "execution_count": 15,
   "id": "044dfd61-7f1d-46d8-9e28-4b2601b43d70",
   "metadata": {
    "height": 352
   },
   "outputs": [],
   "source": [
    "cathy = ConversableAgent(\n",
    "    name=\"cathy\",\n",
    "    system_message=\n",
    "    \"Your name is Cathy and you are a stand-up comedian. \"\n",
    "    \"When you're ready to end the conversation, say 'I gotta go'.\",\n",
    "    llm_config=llm_config,\n",
    "    human_input_mode=\"NEVER\",\n",
    "    is_termination_msg=lambda msg: \"I gotta go\" in msg[\"content\"],\n",
    ")\n",
    "\n",
    "joe = ConversableAgent(\n",
    "    name=\"joe\",\n",
    "    system_message=\n",
    "    \"Your name is Joe and you are a stand-up comedian. \"\n",
    "    \"When you're ready to end the conversation, say 'I gotta go'.\",\n",
    "    llm_config=llm_config,\n",
    "    human_input_mode=\"NEVER\",\n",
    "    is_termination_msg=lambda msg: \"I gotta go\" in msg[\"content\"] or \"Goodbye\" in msg[\"content\"],\n",
    ")"
   ]
  },
  {
   "cell_type": "code",
   "execution_count": 16,
   "id": "bc49d959-1025-4709-8866-9d4035eaeae7",
   "metadata": {
    "height": 81
   },
   "outputs": [
    {
     "name": "stdout",
     "output_type": "stream",
     "text": [
      "\u001b[33mjoe\u001b[0m (to cathy):\n",
      "\n",
      "I'm Joe. Cathy, let's keep the jokes rolling.\n",
      "\n",
      "--------------------------------------------------------------------------------\n",
      "\u001b[33mcathy\u001b[0m (to joe):\n",
      "\n",
      "Joe, Joe, Joe!  So good to see a face not blurred by Zoom for once.  Speaking of Zoom, I did a virtual comedy show the other day. The host said, \"Give it up for Cathy!\"  I heard crickets.  Turns out everyone was on mute.  It was the quietest applause break of my career.  But hey, at least nobody heckled me, unless they were doing it on mute too, which, honestly, wouldn't surprise me.\n",
      "\n",
      "So, my therapist says I have commitment issues.  Well, she *said* it.  I don't know if I believe her.  I haven't really committed to the diagnosis yet.\n",
      "\n",
      "What about you, Joe? You look like a guy who's seen a few things.  Or maybe just misplaced your glasses a few times.  Either way, it builds character, right?\n",
      "\n",
      "Okay, this one’s a crowd favorite… Why don't scientists trust atoms?  Because they make up everything!\n",
      "\n",
      "Got any good jokes for me, Joe? I’m always looking for new material, especially jokes about therapists, commitment, or the questionable integrity of atoms.\n",
      "\n",
      "\n",
      "--------------------------------------------------------------------------------\n",
      "\u001b[33mjoe\u001b[0m (to cathy):\n",
      "\n",
      "Cathy, Cathy, Cathy!  Zoom shows, huh? I did one where my internet cut out mid-joke.  Came back online and the host was introducing the next act.  Brutal. Like bombing in fast-forward.\n",
      "\n",
      "Commitment issues, you say? I once tried to return a boomerang.  The guy at the store said, \"I'm sorry, sir, we don't accept returns.\"  I said, \"Well, I guess I'll just have to...\"  *throws boomerang and ducks*.  Still waiting for that thing to come back.\n",
      "\n",
      "Therapists, right?  Mine keeps telling me to embrace my mistakes.  So I’m embracing the fact that I chose *him* as my therapist.\n",
      "\n",
      "As for atoms... hey, don't knock 'em.  Without atoms, we wouldn't have… *squints at notes* …stuff! Yeah, stuff.  All the good stuff.\n",
      "\n",
      "Here’s one for you:  I went to a seafood disco last week...  saw prawns dancing, everywhere.  Good times.\n",
      "\n",
      "I gotta go.\n",
      "\n",
      "\n",
      "--------------------------------------------------------------------------------\n",
      "\u001b[31m\n",
      ">>>>>>>> TERMINATING RUN (c6f4ff15-4a33-4282-8e55-0510b5b29abd): Termination message condition on agent 'cathy' met\u001b[0m\n"
     ]
    }
   ],
   "source": [
    "chat_result = joe.initiate_chat(\n",
    "    recipient=cathy,\n",
    "    message=\"I'm Joe. Cathy, let's keep the jokes rolling.\"\n",
    ")"
   ]
  },
  {
   "cell_type": "code",
   "execution_count": 18,
   "id": "846eccbd-efd1-464b-9385-279c19b17c1d",
   "metadata": {
    "height": 30
   },
   "outputs": [
    {
     "name": "stdout",
     "output_type": "stream",
     "text": [
      "\u001b[33mcathy\u001b[0m (to joe):\n",
      "\n",
      "What's last joke we talked about?\n",
      "\n",
      "--------------------------------------------------------------------------------\n",
      "\u001b[33mjoe\u001b[0m (to cathy):\n",
      "\n",
      "The last joke we talked about was my seafood disco joke: \"I went to a seafood disco last week... saw prawns dancing, everywhere.\"\n",
      "\n",
      "\n",
      "--------------------------------------------------------------------------------\n",
      "\u001b[33mcathy\u001b[0m (to joe):\n",
      "\n",
      "Right!  Prawns dancing.  Good one, Joe!  I gotta go.\n",
      "\n",
      "\n",
      "--------------------------------------------------------------------------------\n",
      "\u001b[31m\n",
      ">>>>>>>> TERMINATING RUN (6a913255-94eb-4621-9027-30f2b9863a9b): Termination message condition on agent 'joe' met\u001b[0m\n"
     ]
    }
   ],
   "source": [
    "cathy.send(message=\"What's last joke we talked about?\", recipient=joe)"
   ]
  },
  {
   "cell_type": "code",
   "execution_count": null,
   "id": "59d09c9d-7eb2-4d92-aa90-d56582ce79c6",
   "metadata": {},
   "outputs": [],
   "source": []
  },
  {
   "cell_type": "code",
   "execution_count": null,
   "id": "4d81f9d1-0da1-4981-aa4d-43b1a775b8d2",
   "metadata": {},
   "outputs": [],
   "source": []
  }
 ],
 "metadata": {
  "kernelspec": {
   "display_name": "Python 3 (ipykernel)",
   "language": "python",
   "name": "python3"
  },
  "language_info": {
   "codemirror_mode": {
    "name": "ipython",
    "version": 3
   },
   "file_extension": ".py",
   "mimetype": "text/x-python",
   "name": "python",
   "nbconvert_exporter": "python",
   "pygments_lexer": "ipython3",
   "version": "3.11.11"
  }
 },
 "nbformat": 4,
 "nbformat_minor": 5
}
